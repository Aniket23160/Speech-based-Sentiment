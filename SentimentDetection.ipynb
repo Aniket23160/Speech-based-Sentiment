{
  "cells": [
    {
      "cell_type": "markdown",
      "metadata": {
        "id": "b5qc5LC2cWtS"
      },
      "source": [
        "# Dependencies "
      ]
    },
    {
      "cell_type": "code",
      "execution_count": null,
      "metadata": {
        "id": "etpTb5AW8uM0"
      },
      "outputs": [],
      "source": [
        "# setup\n",
        "!gdown 1oJh0U3g_bUx6UPX4xix2UHMVHeCE_H1y\n",
        "!unzip -q hvb.zip\n",
        "!mv content/data /content/\n",
        "!rm -r /content/content\n",
        "\n",
        "!gdown 1a0EGlsLbXnGn1xwZoSqT0tcdAQ1L2nfd # train.py\n",
        "!gdown 1yCmjRbxXRxfEN5LXdnE1Zpl8ZOIzdrAO # train.yaml\n",
        "!gdown 1KHmdcLVFI9ontvGmi5J6vfaropGYuKcr # inference.yaml\n",
        "\n",
        "!pip install speechbrain -q"
      ]
    },
    {
      "cell_type": "code",
      "execution_count": null,
      "metadata": {
        "id": "30NIWqcyAD-G"
      },
      "outputs": [],
      "source": [
        "import speechbrain as sb\n",
        "from speechbrain.pretrained import EncoderDecoderASR\n",
        "import json\n",
        "import torchaudio\n",
        "import torch\n",
        "from torch import nn\n",
        "from tqdm import tqdm\n",
        "from collections import Counter\n",
        "from IPython.display import Audio\n",
        "from scipy.io import wavfile\n",
        "\n",
        "device = 'cuda' if torch.cuda.is_available() else 'cpu'"
      ]
    },
    {
      "cell_type": "markdown",
      "metadata": {
        "id": "YwgCA2Oc9h_h"
      },
      "source": []
    },
    {
      "cell_type": "code",
      "execution_count": null,
      "metadata": {
        "colab": {
          "base_uri": "https://localhost:8080/",
          "height": 177,
          "referenced_widgets": [
            "252a87e8cbcc42ffaafe12475e7e91be",
            "90cbfc5ad08b4d78929232f51aef50e0",
            "e02b798d375944179d2af1a0de86531c",
            "c24bd9aa20e7427689de707cd4a86966",
            "99d41dcc2afa4303933d008c4bfe2b9b",
            "0989e4d03906454a9492468bc79757fa",
            "fd0eddbfef3646d78cb9e5825b357a61",
            "799c40deed3f453395ce92b76d008949",
            "24fc4b8f16784f378cebc00237bfd934",
            "14e784acdfe344348fadc07ee932ca87",
            "c353056f58c0454097007dc1dfbac609",
            "8d38f47e74804361a38b3c7ec639bc82",
            "11f669db041f41acad5742821627df44",
            "8a7e7c9dad5e438c967d4e2b674a0f5c",
            "d8c7db6093b34c2fa5f56b67f5fc48b3",
            "9c5c1ce401074fcca78b62108bf6b87d",
            "36ee6cdc59b14e8a9d5ee1c828d2fd7f",
            "7b6ec524ab5649f0a8a8c00c035de0b7",
            "bbcc6b6e359e4de5b314ed7978e62082",
            "008ce478b05c4f0b862ff830855ee419",
            "86edba0b9aa24390948f0a5305f223b6",
            "ae1095ef703f43fbbf15ebb56feb7991",
            "f049ea8c76a6427090178e58357c949f",
            "19eb392d1a8c49bab86a0b2739b10e5a",
            "5cdfe70d4d55446384b352e97887c934",
            "5664de96f83e4d33b7784e3b98c86b04",
            "acbbb731089d46b1863a32155934cadc",
            "5b950f14f3bf41df85452b599b6f966c",
            "275dd6b55a5d46159cf1a7f1f0ca0099",
            "cac16ffd9caf442aa77e50db551dfd22",
            "155b1d2f84f345dd974610ee5e1f4031",
            "51e0a03d138d42768c0f57c7019971d7",
            "900109c6b46c4f59aacea345162a5c14",
            "51258f81594945aaa1d450f2ab623f41",
            "41f08c7923674c0f86ffb3b73a0ecb60",
            "20474281ef8f4c6c9b8ebd3ec6e31829",
            "2c5a1581324847da9f621fe02c56fa27",
            "e3fdc57e3ce941a78c9b3d895bd33331",
            "9c546aa578334f268a1a41afee4cae9a",
            "3187f444560645db86be9c7d57a86167",
            "983e39e00bd94d5f8665f94c22333c9d",
            "daa3418652104e4688b0efb4426fa3d9",
            "11327f45978542899dcd317c01a6d072",
            "0ee9ade1a3de44488831c960b20738c4",
            "30c5ec30edf845768dc5ffb818585e5b",
            "bca1e708111740cea738395edae64daa",
            "1cad011332354739882af89559c33e78",
            "b4dd7fe094cd40409d71e8a60460b4e4",
            "411cbef34321407aa51cd04b2b1a07fd",
            "9ffd6b615ad7498bbd810fc792e40029",
            "e25424797b26460daac4eb3435b12286",
            "893b6749a79646f1840911427feb6ae4",
            "f892418777c34e53af90ca6f1a77a943",
            "18f4466225f34817acba0573cbad4a4d",
            "629f9e4370d647bc91e4d2cf05168cef"
          ]
        },
        "id": "bqTF_KNI_mGI",
        "outputId": "ce1e14af-e3d2-4b4f-a722-5e470ecfbeea"
      },
      "outputs": [
        {
          "data": {
            "application/vnd.jupyter.widget-view+json": {
              "model_id": "252a87e8cbcc42ffaafe12475e7e91be",
              "version_major": 2,
              "version_minor": 0
            },
            "text/plain": [
              "Downloading (…)ain/hyperparams.yaml:   0%|          | 0.00/4.49k [00:00<?, ?B/s]"
            ]
          },
          "metadata": {},
          "output_type": "display_data"
        },
        {
          "data": {
            "application/vnd.jupyter.widget-view+json": {
              "model_id": "8d38f47e74804361a38b3c7ec639bc82",
              "version_major": 2,
              "version_minor": 0
            },
            "text/plain": [
              "Downloading normalizer.ckpt:   0%|          | 0.00/1.41k [00:00<?, ?B/s]"
            ]
          },
          "metadata": {},
          "output_type": "display_data"
        },
        {
          "data": {
            "application/vnd.jupyter.widget-view+json": {
              "model_id": "f049ea8c76a6427090178e58357c949f",
              "version_major": 2,
              "version_minor": 0
            },
            "text/plain": [
              "Downloading asr.ckpt:   0%|          | 0.00/480M [00:00<?, ?B/s]"
            ]
          },
          "metadata": {},
          "output_type": "display_data"
        },
        {
          "data": {
            "application/vnd.jupyter.widget-view+json": {
              "model_id": "51258f81594945aaa1d450f2ab623f41",
              "version_major": 2,
              "version_minor": 0
            },
            "text/plain": [
              "Downloading lm.ckpt:   0%|          | 0.00/212M [00:00<?, ?B/s]"
            ]
          },
          "metadata": {},
          "output_type": "display_data"
        },
        {
          "data": {
            "application/vnd.jupyter.widget-view+json": {
              "model_id": "30c5ec30edf845768dc5ffb818585e5b",
              "version_major": 2,
              "version_minor": 0
            },
            "text/plain": [
              "Downloading tokenizer.ckpt:   0%|          | 0.00/253k [00:00<?, ?B/s]"
            ]
          },
          "metadata": {},
          "output_type": "display_data"
        }
      ],
      "source": [
        "crdnn = EncoderDecoderASR.from_hparams(\n",
        "    source='speechbrain/asr-crdnn-rnnlm-librispeech',\n",
        "    savedir='asr-crdnn-rnnlm-librispeech',\n",
        "    run_opts={'device': 'cuda'}\n",
        ")"
      ]
    },
    {
      "cell_type": "markdown",
      "metadata": {
        "id": "n9Z1gOWCJCCT"
      },
      "source": [
        "The manifests we prepared to use with SpeechBrain are jsons with the structure\n",
        "```\n",
        "{\n",
        "    \"15748\": {\n",
        "        \"wav\": \"/content/data/segments/15748.wav\",\n",
        "        \"length\": 1.86,\n",
        "        \"words\": \"WHAT DAY WOULD YOU LIKE FOR YOUR APPOINTMENT\"\n",
        "    },\n",
        "    ...\n",
        "}\n",
        "```\n",
        "\n",
        "We first load them and define a function to batch them into a format that our `EncoderDecoderASR` object can ingest:"
      ]
    },
    {
      "cell_type": "code",
      "execution_count": null,
      "metadata": {
        "id": "NH2kZ0PbAsb1"
      },
      "outputs": [],
      "source": [
        "TEST_SIZE = 500 # for faster processing\n",
        "\n",
        "with open('data/test_manifest.json', 'r') as f:\n",
        "    test_manifest = json.load(f)\n",
        "test_manifest = {\n",
        "    k: v for k, v in list(test_manifest.items())[:TEST_SIZE]\n",
        "}\n",
        "\n",
        "def batchify(manifest, batch_size):\n",
        "    keys = list(manifest.keys())\n",
        "    wav_paths = list(map(lambda x: x['wav'], manifest.values()))\n",
        "    iterable = zip(keys, wav_paths)\n",
        "    num_examples = len(manifest)\n",
        "    for i in range(0, num_examples, batch_size):\n",
        "        batch_wavs = nn.utils.rnn.pad_sequence([\n",
        "            torchaudio.load(path)[0].squeeze(0)\n",
        "            for path in wav_paths[i:min(i + batch_size, num_examples)]\n",
        "        ], batch_first=True)\n",
        "        batch_keys = keys[i:min(i + batch_size, num_examples)]\n",
        "        batch_wav_lens = torch.tensor([\n",
        "            manifest[key]['length'] for key in batch_keys\n",
        "        ])\n",
        "        batch_wav_lens = batch_wav_lens / batch_wav_lens.max()\n",
        "        yield batch_keys, batch_wavs, batch_wav_lens\n"
      ]
    },
    {
      "cell_type": "code",
      "execution_count": null,
      "metadata": {
        "id": "PfVSvIUCZvGF"
      },
      "outputs": [],
      "source": [
        "# test_manifest"
      ]
    },
    {
      "cell_type": "markdown",
      "metadata": {
        "id": "tdRtje1OLiG5"
      },
      "source": [
        "Next, we feed our test examples through the pretrained ASR model:"
      ]
    },
    {
      "cell_type": "code",
      "execution_count": null,
      "metadata": {
        "id": "0YCNyfAzFh-y"
      },
      "outputs": [],
      "source": [
        "true_dict = {key: test_manifest[key]['words'] for key in test_manifest}\n",
        "\n",
        "def inference(model, test_manifest, batch_size=8):\n",
        "    torch.cuda.empty_cache()\n",
        "    pred_dict = {}\n",
        "    for keys, wavs, wav_lens in tqdm(batchify(test_manifest, batch_size), total=round(len(test_manifest) / batch_size + 0.5)):\n",
        "        transcriptions, _ = model.transcribe_batch(wavs.to(device), wav_lens.to(device))\n",
        "        for key, transcription in zip(keys, transcriptions):\n",
        "            pred_dict[key] = transcription\n",
        "    return pred_dict\n",
        "\n",
        "pred_dict = inference(crdnn, test_manifest)"
      ]
    },
    {
      "cell_type": "code",
      "execution_count": null,
      "metadata": {
        "id": "IFnB0JOfPZoj"
      },
      "outputs": [],
      "source": [
        "# this data structure stores WER information we use later. \n",
        "details_by_utterance = sb.utils.edit_distance.wer_details_by_utterance(\n",
        "    {k: v.split() for k, v in true_dict.items()},\n",
        "    {k: v.split() for k, v in pred_dict.items()},\n",
        ")"
      ]
    },
    {
      "cell_type": "code",
      "execution_count": null,
      "metadata": {
        "id": "osu1BXISKmts"
      },
      "outputs": [],
      "source": [
        "# word error rate (WER) summary using data structure we just created\n",
        "sb.utils.edit_distance.wer_summary(details_by_utterance)"
      ]
    },
    {
      "cell_type": "code",
      "execution_count": null,
      "metadata": {
        "colab": {
          "base_uri": "https://localhost:8080/"
        },
        "id": "NCOAzZofSoOH",
        "outputId": "61eb6d8b-dff9-4c53-9dfa-70f16d954479"
      },
      "outputs": [
        {
          "name": "stdout",
          "output_type": "stream",
          "text": [
            "1130: 2400.0\n",
            "\tTrue: ALRIGHT\n",
            "\tPred: RIPE RIGHT RIPE RIPE RIPE RIPE RIPE RIPE RIPE RIPE RIPE RIPE RIPE RIPE RIPE RIPE RIPE RIPE RIPE RIPE RIPE RIPE RIPE RIPE\n",
            "3020: 737.5\n",
            "\tTrue: OKAY THANKS AND WHAT IS THE BILL AMOUNT\n",
            "\tPred: OKAY THANKS AND WHAT IF YE DON'T AMOUNT THANKS AN WHAT IF YE DON'T AMOUNT THANKS AN WHAT IF YE BILL AMOUNT THINK AN WHAT IF YE DON'T AMOUNT THINK AN WHAT IF YE DON'T AMOUNT THINK AN WHAT IF YE DON'T AMOUNT THINK AN WHAT IF YE DON'T AMOUNT THINK AN WHAT IF YE DON'T AMOUNT THANKS AN WHAT IF YE BUILD A MOUNT\n",
            "22147: 620.0\n",
            "\tTrue: WHAT IS THE TRANSFER AMOUNT\n",
            "\tPred: OF THE TRANSFER AMOUNT AMOUNT AMOUNT AMOUNT MOUNT MOUNT MOUNT MOUNT MOUNT MOUNT MOUNT MOUNT MOUNT MOUNT MOUNT MOUNT MOUNT MOUNT MOUNT MOUNT MOUNT MOUNT MOUNT MOUNT MOUNT MOUNT MOUNT MOUNT MOUNT MOUNT\n",
            "20613: 600.0\n",
            "\tTrue: BYE\n",
            "\tPred: I DON'T EAT DRINK EAT DRINK\n",
            "5390: 600.0\n",
            "\tTrue: NO\n",
            "\tPred: NOW'S NOW NOW NOW NOW NOW\n",
            "7385: 558.3333333333334\n",
            "\tTrue: NO I GOT ALL I NEED FOR TODAY THANK YOU SO MUCH\n",
            "\tPred: NO I DON'T KNOW I DON'T KNOW I DON'T KNOW I DON'T KNOW I DON'T KNOW I DON'T KNOW I DON'T KNOW I DON'T KNOW I DON'T KNOW I DON'T KNOW I DON'T KNOW I DON'T KNOW I DON'T KNOW I DON'T KNOW I DON'T KNOW I DON'T KNOW I DON'T KNOW I DON'T KNOW I DON'T KNOW I DON'T KNOW I DON'T KNOW I DON'T KNOW I DON'T KNOW\n",
            "23590: 550.0\n",
            "\tTrue: OKAY ONE SECOND PLEASE\n",
            "\tPred: THEY CAN PLEAD PLEADING PLEADING PLEADING PLEADING PLEADING PLEADING PLEADING PLEADING PLEADING PLEADING PLEADING PLEADING PLEADING PLEADING PLEADING PLEADING PLEADING PLEADING PLEA\n",
            "21423: 425.0\n",
            "\tTrue: MY NAME IS DAVID\n",
            "\tPred: AND DAVID DAVID THE DAVID DAVID DAVID DAVID DAVID DAVID DAVID DAVID DAVID DAVID DAVID DAVID DAVID DAVID\n",
            "19070: 400.0\n",
            "\tTrue: CALIFORNIA\n",
            "\tPred: SAID THORN THORN THORNIA\n",
            "21800: 400.0\n",
            "\tTrue: BYE BYE NOW\n",
            "\tPred: BY D'ARTAGNAN D'ARTAGNAN D'ARTAGNAN D'ARTAGNAL D'ARTAGNAN D'ARTAGNAN D'ARTAGNAN D'ARTAGNAN D'ARTAGNAN D'ARTAGNAN D'\n"
          ]
        }
      ],
      "source": [
        "def summarize(detail_dict, true_dict, pred_dict):\n",
        "    print(f\"{detail_dict['key']}: {detail_dict['WER']}\")\n",
        "    print(f\"\\tTrue: {true_dict[detail_dict['key']]}\")\n",
        "    print(f\"\\tPred: {pred_dict[detail_dict['key']]}\")\n",
        "\n",
        "for wer_dict in sb.utils.edit_distance.top_wer_utts(details_by_utterance, 10)[0]:\n",
        "    summarize(wer_dict, true_dict, pred_dict)"
      ]
    },
    {
      "cell_type": "markdown",
      "metadata": {
        "id": "RrJ-gKFXUHEf"
      },
      "source": [
        "Seems that our predictions keep outputting the same word over and over. Let's see why."
      ]
    },
    {
      "cell_type": "markdown",
      "metadata": {
        "id": "LrHqM-WfzFes"
      },
      "source": [
        "Select some examples the model wrongly predicts, and try to build a hypothesis around what in the data is associated with the model making mistakes. Examples of mistake types include:\n",
        "- Repeated wrong word\n",
        "- A few correct words but clearly wrong transcript\n",
        "\n",
        "Give examples of at least 3 audio files and different kinds of errors you have identified in these audio files. Add this to `README.txt`.\n"
      ]
    },
    {
      "cell_type": "markdown",
      "metadata": {
        "id": "8q3EtR_WWBjA"
      },
      "source": [
        "Here's a code snippet to help you get started. "
      ]
    },
    {
      "cell_type": "code",
      "execution_count": null,
      "metadata": {
        "colab": {
          "base_uri": "https://localhost:8080/",
          "height": 128
        },
        "id": "eVNDEHXvWF-D",
        "outputId": "fb9c2d7e-35d5-4dbe-c7cc-b85d01ef8429"
      },
      "outputs": [
        {
          "name": "stdout",
          "output_type": "stream",
          "text": [
            "5729: 150.0\n",
            "\tTrue: DESTINATION ACCOUNT\n",
            "\tPred: DEFINITION A COW\n"
          ]
        },
        {
          "data": {
            "text/html": [
              "\n",
              "                <audio  controls=\"controls\" >\n",
              "                    <source src=\"data:audio/x-wav;base64,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\" type=\"audio/x-wav\" />\n",
              "                    Your browser does not support the audio element.\n",
              "                </audio>\n",
              "              "
            ],
            "text/plain": [
              "<IPython.lib.display.Audio object>"
            ]
          },
          "execution_count": 16,
          "metadata": {},
          "output_type": "execute_result"
        }
      ],
      "source": [
        "example = details_by_utterance[14]\n",
        "summarize(example, true_dict, pred_dict)\n",
        "Audio(test_manifest[example['key']]['wav'])"
      ]
    },
    {
      "cell_type": "markdown",
      "metadata": {
        "id": "A4OjAs6oWnK-"
      },
      "source": [
        "(Hint: In our initial checks, poor audio quality seems to be associated with repeated word errors.)"
      ]
    },
    {
      "cell_type": "code",
      "execution_count": null,
      "metadata": {
        "colab": {
          "base_uri": "https://localhost:8080/"
        },
        "id": "iM2jQrwTmIw2",
        "outputId": "38a5069c-c4bb-43e0-c4ce-5a7afb00e8a1"
      },
      "outputs": [
        {
          "name": "stdout",
          "output_type": "stream",
          "text": [
            "Downloading...\n",
            "From: https://drive.google.com/uc?id=1v_3Kl8OrUd6_1_D0ZGoYVFEuOKhZ7YMo\n",
            "To: /content/train.py\n",
            "100% 18.3k/18.3k [00:00<00:00, 24.1MB/s]\n",
            "Downloading...\n",
            "From: https://drive.google.com/uc?id=17cQIpx5kLLMCD23EDaE0EYg2E9LPqMCF\n",
            "To: /content/train.yaml\n",
            "100% 12.1k/12.1k [00:00<00:00, 16.0MB/s]\n",
            "Downloading...\n",
            "From: https://drive.google.com/uc?id=1CWYOD2PC97gXguW4krc9122HKAraHkYS\n",
            "To: /content/inference.yaml\n",
            "100% 4.96k/4.96k [00:00<00:00, 8.31MB/s]\n"
          ]
        }
      ],
      "source": [
        "# this downloads the training and config files for our fine tuning setup\n",
        "!gdown 1v_3Kl8OrUd6_1_D0ZGoYVFEuOKhZ7YMo # train.py\n",
        "!gdown 17cQIpx5kLLMCD23EDaE0EYg2E9LPqMCF # train.yaml\n",
        "!gdown 1CWYOD2PC97gXguW4krc9122HKAraHkYS # inference.yaml"
      ]
    },
    {
      "cell_type": "code",
      "execution_count": null,
      "metadata": {
        "colab": {
          "base_uri": "https://localhost:8080/"
        },
        "id": "nS3WopzoKbFD",
        "outputId": "5fb7227d-aebd-4c56-c619-dcda510c8f52"
      },
      "outputs": [
        {
          "name": "stdout",
          "output_type": "stream",
          "text": [
            "Downloading http://www.openslr.org/resources/28/rirs_noises.zip to ./data/rirs_noises.zip\n",
            "rirs_noises.zip: 1.31GB [00:49, 26.3MB/s]                \n",
            "Extracting ./data/rirs_noises.zip to ./data\n",
            "speechbrain.core - Beginning experiment!\n",
            "speechbrain.core - Experiment folder: results/CRDNN_BPE_960h_LM/2602\n",
            "speechbrain.pretrained.fetching - Fetch lm.ckpt: Delegating to Huggingface hub, source speechbrain/asr-crdnn-rnnlm-librispeech.\n",
            "speechbrain.pretrained.fetching - Fetch tokenizer.ckpt: Delegating to Huggingface hub, source speechbrain/asr-crdnn-rnnlm-librispeech.\n",
            "speechbrain.pretrained.fetching - Fetch asr.ckpt: Delegating to Huggingface hub, source speechbrain/asr-crdnn-rnnlm-librispeech.\n",
            "speechbrain.utils.parameter_transfer - Loading pretrained files for: lm, tokenizer, model\n",
            "speechbrain.core - Info: ckpt_interval_minutes arg from hparam file is used\n",
            "speechbrain.core - 173.0M trainable parameters in ASR\n",
            "speechbrain.utils.checkpoints - Would load a checkpoint here, but none found yet.\n",
            "speechbrain.utils.epoch_loop - Going into epoch 1\n",
            "  0% 0/3405 [00:00<?, ?it/s]/usr/local/lib/python3.9/dist-packages/torch/functional.py:641: UserWarning: stft with return_complex=False is deprecated. In a future pytorch release, stft will return complex tensors for all inputs, and return_complex=False will raise an error.\n",
            "Note: you can still call torch.view_as_real on the complex output to recover the old return format. (Triggered internally at ../aten/src/ATen/native/SpectralOps.cpp:862.)\n",
            "  return _VF.stft(input, n_fft, hop_length, win_length, window,  # type: ignore[attr-defined]\n",
            "100% 3405/3405 [21:58<00:00,  2.58it/s, train_loss=1.78]\n",
            "100% 730/730 [03:40<00:00,  3.31it/s]\n",
            "speechbrain.utils.train_logger - epoch: 1, lr: 1.00e+00 - train loss: 1.78 - valid loss: 1.67, valid CER: 1.04e+02, valid WER: 99.98\n",
            "speechbrain.utils.checkpoints - Saved an end-of-epoch checkpoint in results/CRDNN_BPE_960h_LM/2602/save/CKPT+2023-04-04+13-59-31+00\n",
            "speechbrain.utils.checkpoints - Deleted checkpoint in results/CRDNN_BPE_960h_LM/2602/save/CKPT+2023-04-04+13-54-10+00\n",
            "speechbrain.utils.epoch_loop - Going into epoch 2\n",
            "100% 3405/3405 [21:38<00:00,  2.62it/s, train_loss=1.43]\n",
            "100% 730/730 [03:11<00:00,  3.81it/s]\n",
            "speechbrain.utils.train_logger - epoch: 2, lr: 1.00e+00 - train loss: 1.43 - valid loss: 1.47, valid CER: 42.27, valid WER: 41.58\n",
            "speechbrain.utils.checkpoints - Saved an end-of-epoch checkpoint in results/CRDNN_BPE_960h_LM/2602/save/CKPT+2023-04-04+14-24-27+00\n",
            "speechbrain.utils.checkpoints - Deleted checkpoint in results/CRDNN_BPE_960h_LM/2602/save/CKPT+2023-04-04+13-59-31+00\n",
            "speechbrain.utils.checkpoints - Deleted checkpoint in results/CRDNN_BPE_960h_LM/2602/save/CKPT+2023-04-04+14-19-55+00\n",
            "speechbrain.utils.checkpoints - Loading a checkpoint from results/CRDNN_BPE_960h_LM/2602/save/CKPT+2023-04-04+14-24-27+00\n",
            "100% 730/730 [16:21<00:00,  1.34s/it]\n",
            "speechbrain.utils.train_logger - Epoch loaded: 2 - test loss: 1.48, test CER: 35.85, test WER: 33.19\n"
          ]
        }
      ],
      "source": [
        "torch.cuda.empty_cache()\n",
        "\n",
        "!python train.py train.yaml --batch_size=4\n",
        "# OOM on batch_size=5"
      ]
    },
    {
      "cell_type": "code",
      "execution_count": null,
      "metadata": {
        "id": "S3ScTzkkqMYY"
      },
      "outputs": [],
      "source": [
        "ckpt_path = \"/content/results/CRDNN_BPE_960h_LM/2602/save/CKPT+2023-04-04+14-24-27+00\"\n",
        "!cp inference.yaml {ckpt_path}"
      ]
    },
    {
      "cell_type": "code",
      "execution_count": null,
      "metadata": {
        "id": "Ylj89CJOsm91"
      },
      "outputs": [],
      "source": [
        "device = 'cpu'\n",
        "our_model = EncoderDecoderASR.from_hparams(\n",
        "    source=ckpt_path, \n",
        "    hparams_file='inference.yaml', \n",
        "    savedir=\"our_ckpt\",\n",
        "    run_opts={'device': device}\n",
        ")"
      ]
    },
    {
      "cell_type": "code",
      "execution_count": null,
      "metadata": {
        "id": "oZb0DaPaxUaz"
      },
      "outputs": [],
      "source": [
        "TEST_SIZE = 50 # for faster processing\n",
        "\n",
        "with open('data/test_manifest.json', 'r') as f:\n",
        "    test_manifest = json.load(f)\n",
        "test_manifest = {\n",
        "    k: v for k, v in list(test_manifest.items())[:TEST_SIZE]\n",
        "}\n",
        "# test_manifest"
      ]
    },
    {
      "cell_type": "code",
      "execution_count": null,
      "metadata": {
        "id": "fm_e2PcBxdXN"
      },
      "outputs": [],
      "source": [
        "true_dict = {key: test_manifest[key]['words'] for key in test_manifest}\n",
        "# true_dict"
      ]
    },
    {
      "cell_type": "code",
      "execution_count": null,
      "metadata": {
        "colab": {
          "base_uri": "https://localhost:8080/"
        },
        "id": "9j2daItrFBMA",
        "outputId": "29361e7e-fe22-4b4d-d317-80e663cebbde"
      },
      "outputs": [
        {
          "name": "stderr",
          "output_type": "stream",
          "text": [
            "100%|██████████| 7/7 [23:46<00:00, 203.84s/it]\n"
          ]
        }
      ],
      "source": [
        "    ##############################\n",
        "    #### YOUR CODE GOES BELOW #####\n",
        "    ##############################\n",
        "\n",
        "    ### Populate test_manifest with the first 50 test sentences and then call inference() below###\n",
        "\n",
        "pred_dict = inference(our_model.to(device), test_manifest)"
      ]
    },
    {
      "cell_type": "code",
      "execution_count": null,
      "metadata": {
        "id": "jdQq9cnOxb7E"
      },
      "outputs": [],
      "source": [
        "details_by_utterance = sb.utils.edit_distance.wer_details_by_utterance(\n",
        "    {k: v.split() for k, v in true_dict.items()},\n",
        "    {k: v.split() for k, v in pred_dict.items()},\n",
        ")"
      ]
    },
    {
      "cell_type": "code",
      "execution_count": null,
      "metadata": {
        "colab": {
          "base_uri": "https://localhost:8080/"
        },
        "id": "QtSThtBHx7Rv",
        "outputId": "4d5e2756-c363-453c-9a16-41d30a174cf4"
      },
      "outputs": [
        {
          "data": {
            "text/plain": [
              "{'WER': 33.088235294117645,\n",
              " 'SER': 52.0,\n",
              " 'num_edits': 135,\n",
              " 'num_scored_tokens': 408,\n",
              " 'num_erraneous_sents': 26,\n",
              " 'num_scored_sents': 50,\n",
              " 'num_absent_sents': 0,\n",
              " 'num_ref_sents': 50,\n",
              " 'insertions': 94,\n",
              " 'deletions': 9,\n",
              " 'substitutions': 32}"
            ]
          },
          "execution_count": 25,
          "metadata": {},
          "output_type": "execute_result"
        }
      ],
      "source": [
        "sb.utils.edit_distance.wer_summary(details_by_utterance)"
      ]
    },
    {
      "cell_type": "code",
      "execution_count": null,
      "metadata": {
        "id": "GIz0l6XGPCLw"
      },
      "outputs": [],
      "source": [
        "crdnn_pre_trained = EncoderDecoderASR.from_hparams(\n",
        "    source='speechbrain/asr-crdnn-rnnlm-librispeech',\n",
        "    savedir='asr-crdnn-rnnlm-librispeech',\n",
        "    run_opts={'device': 'cuda'}\n",
        ")"
      ]
    },
    {
      "cell_type": "code",
      "execution_count": null,
      "metadata": {
        "colab": {
          "base_uri": "https://localhost:8080/"
        },
        "id": "V7rNTvt6PKQo",
        "outputId": "552f68e4-f28f-441b-8604-3e66049b6a69"
      },
      "outputs": [
        {
          "name": "stderr",
          "output_type": "stream",
          "text": [
            "\r  0%|          | 0/7 [00:00<?, ?it/s]/usr/local/lib/python3.9/dist-packages/torch/functional.py:641: UserWarning: stft with return_complex=False is deprecated. In a future pytorch release, stft will return complex tensors for all inputs, and return_complex=False will raise an error.\n",
            "Note: you can still call torch.view_as_real on the complex output to recover the old return format. (Triggered internally at ../aten/src/ATen/native/SpectralOps.cpp:862.)\n",
            "  return _VF.stft(input, n_fft, hop_length, win_length, window,  # type: ignore[attr-defined]\n",
            "100%|██████████| 7/7 [00:20<00:00,  2.96s/it]\n"
          ]
        }
      ],
      "source": [
        "pred_dict = inference(crdnn_pre_trained, test_manifest)"
      ]
    },
    {
      "cell_type": "code",
      "execution_count": null,
      "metadata": {
        "id": "HEcGafrzO1GX"
      },
      "outputs": [],
      "source": [
        "# this data structure stores WER information we use later. \n",
        "details_by_utterance = sb.utils.edit_distance.wer_details_by_utterance(\n",
        "    {k: v.split() for k, v in true_dict.items()},\n",
        "    {k: v.split() for k, v in pred_dict.items()},\n",
        ")"
      ]
    },
    {
      "cell_type": "code",
      "execution_count": null,
      "metadata": {
        "colab": {
          "base_uri": "https://localhost:8080/"
        },
        "id": "JU-xiNDdSabz",
        "outputId": "1c69c88a-9c31-44bd-a3c6-0666f19e73de"
      },
      "outputs": [
        {
          "data": {
            "text/plain": [
              "{'WER': 71.07843137254902,\n",
              " 'SER': 92.0,\n",
              " 'num_edits': 290,\n",
              " 'num_scored_tokens': 408,\n",
              " 'num_erraneous_sents': 46,\n",
              " 'num_scored_sents': 50,\n",
              " 'num_absent_sents': 0,\n",
              " 'num_ref_sents': 50,\n",
              " 'insertions': 108,\n",
              " 'deletions': 28,\n",
              " 'substitutions': 154}"
            ]
          },
          "execution_count": 11,
          "metadata": {},
          "output_type": "execute_result"
        }
      ],
      "source": [
        "# word error rate (WER) summary using data structure we just created\n",
        "sb.utils.edit_distance.wer_summary(details_by_utterance)"
      ]
    },
    {
      "cell_type": "code",
      "execution_count": null,
      "metadata": {
        "colab": {
          "base_uri": "https://localhost:8080/"
        },
        "id": "KgzY5hg1FTH5",
        "outputId": "5ccda48b-20f2-430f-b439-610c986fee50"
      },
      "outputs": [
        {
          "name": "stdout",
          "output_type": "stream",
          "text": [
            "Drive already mounted at /content/drive; to attempt to forcibly remount, call drive.mount(\"/content/drive\", force_remount=True).\n"
          ]
        }
      ],
      "source": [
        "# from google.colab import drive\n",
        "# drive.mount('/content/drive')"
      ]
    },
    {
      "cell_type": "code",
      "execution_count": null,
      "metadata": {
        "colab": {
          "base_uri": "https://localhost:8080/"
        },
        "id": "cFdcY0sWMYsi",
        "outputId": "3bcde8c3-8bca-42d6-fd03-f1325ffb43bf"
      },
      "outputs": [
        {
          "name": "stdout",
          "output_type": "stream",
          "text": [
            "Downloading...\n",
            "From: https://drive.google.com/uc?id=1-s2e8dZYSjhVgfo_TL0V_89RZVhGnZ1Y\n",
            "To: /content/transcript.zip\n",
            "\r  0% 0.00/4.08M [00:00<?, ?B/s]\r100% 4.08M/4.08M [00:00<00:00, 173MB/s]\n",
            "Access denied with the following error:\n",
            "\n",
            " \tCannot retrieve the public link of the file. You may need to change\n",
            "\tthe permission to 'Anyone with the link', or have had many accesses. \n",
            "\n",
            "You may still be able to access the file from the browser:\n",
            "\n",
            "\t https://drive.google.com/uc?id=1eimo-BFXZz6Z3FeZK8uC-wT84ji-JVos \n",
            "\n"
          ]
        }
      ],
      "source": [
        "!gdown 1-s2e8dZYSjhVgfo_TL0V_89RZVhGnZ1Y #transcript.zip\n",
        "\n",
        "!gdown 1ChdI1XyhmGq9z8Y8M38yXPMob6oPRqPO  #train.txt\n",
        "!gdown 10w15DnUbJcQRBSZWP03qjM6Oq8l7WSVQ  #dev.txt\n",
        "\n",
        "\n",
        "!gdown 1eimo-BFXZz6Z3FeZK8uC-wT84ji-JVos #hvb-audio.zip\n",
        "!gdown https://cse.iitb.ac.in/~pjyothi/cs753/hvb-audio.zip\n",
        "!unzip -q \"/content/drive/MyDrive/hvb-audio.zip\""
      ]
    },
    {
      "cell_type": "code",
      "execution_count": null,
      "metadata": {
        "id": "s6gkwNE00zSn"
      },
      "outputs": [],
      "source": [
        "with open('transcript/370981f1f0254ebc.json', 'r') as f:\n",
        "  print(f.read())"
      ]
    },
    {
      "cell_type": "markdown",
      "metadata": {
        "id": "PACBCi3CTLVB"
      },
      "source": [
        "**1. Data Preprocessing**"
      ]
    },
    {
      "cell_type": "code",
      "execution_count": null,
      "metadata": {
        "colab": {
          "base_uri": "https://localhost:8080/"
        },
        "id": "mpX06RkdTJzl",
        "outputId": "be7238e1-bd15-4a33-be1c-b4539871327e"
      },
      "outputs": [
        {
          "name": "stdout",
          "output_type": "stream",
          "text": [
            "Looking in indexes: https://pypi.org/simple, https://us-python.pkg.dev/colab-wheels/public/simple/\n",
            "Requirement already satisfied: pydub in /usr/local/lib/python3.9/dist-packages (0.25.1)\n",
            "processed_data already exists.\n",
            "sentiment_data already exists.\n"
          ]
        }
      ],
      "source": [
        "!pip install pydub\n",
        "import os\n",
        "\n",
        "def create_folder(folder_name):\n",
        "  if not os.path.exists(folder_name):\n",
        "      os.makedirs(folder_name)\n",
        "      print(f\"{folder_name} has been created.\")\n",
        "  else:\n",
        "      print(f\"{folder_name} already exists.\")\n",
        "\n",
        "create_folder(\"processed_data\")\n",
        "create_folder(\"sentiment_data\")\n",
        "\n",
        "# open the source file for reading\n",
        "with open('train.yaml', 'r') as source_file:\n",
        "    # read the contents of the source file\n",
        "    file_contents = source_file.read()\n",
        "\n",
        "# open the destination file for writing\n",
        "with open('sentiment_train.yaml', 'w') as destination_file:\n",
        "    # write the contents of the source file to the destination file\n",
        "    destination_file.write(file_contents)"
      ]
    },
    {
      "cell_type": "code",
      "execution_count": null,
      "metadata": {
        "colab": {
          "base_uri": "https://localhost:8080/"
        },
        "id": "PpMNBkrf5Zha",
        "outputId": "d1ac0c79-8707-44c2-a4b4-193d9e1f28ac"
      },
      "outputs": [
        {
          "name": "stdout",
          "output_type": "stream",
          "text": [
            "/content/sentiment_data/train_manifest.json successfully created!\n",
            "/content/sentiment_data/dev_manifest.json successfully created!\n"
          ]
        }
      ],
      "source": [
        "import os\n",
        "import json\n",
        "import pandas as pd\n",
        "import soundfile as sf\n",
        "from pydub import AudioSegment\n",
        "\n",
        "\n",
        "def read_txt_file(file_path):\n",
        "    with open(file_path, 'r') as f:\n",
        "        lines = f.readlines()\n",
        "    return lines\n",
        "\n",
        "\n",
        "def extract_metadata_and_audio(lines, transcripts_path, audio_path,json_file):\n",
        "\n",
        "    json_dict = {}\n",
        "\n",
        "    for line in lines:\n",
        "        conversation_id, utterance_indices = line.strip().split(':')\n",
        "        utterance_indices = list(map(int, utterance_indices.split(',')))\n",
        "\n",
        "        transcript_file = os.path.join(transcripts_path, f\"{conversation_id}.json\")\n",
        "        agent_audio_file = os.path.join(audio_path, \"agent\", f\"{conversation_id}.wav\")\n",
        "        caller_audio_file = os.path.join(audio_path, \"caller\", f\"{conversation_id}.wav\")\n",
        "\n",
        "        with open(transcript_file, 'r') as f:\n",
        "            transcript_data = json.load(f)\n",
        "\n",
        "        agent_audio = AudioSegment.from_wav(agent_audio_file)\n",
        "        caller_audio = AudioSegment.from_wav(caller_audio_file)\n",
        "\n",
        "        for utterance in transcript_data:\n",
        "            if utterance['index'] in utterance_indices:\n",
        "                emotion = max(utterance['emotion'], key=utterance['emotion'].get)\n",
        "                start_ms = utterance['start_ms']\n",
        "                duration_ms = utterance['duration_ms']\n",
        "                end_ms = start_ms + duration_ms\n",
        "                relative_path=\"\"\n",
        "                if utterance['speaker_role'] == 'agent':\n",
        "                    segment_audio = agent_audio[start_ms:end_ms]\n",
        "                    relative_path = f\"processed_data/{conversation_id}_{utterance['index']}_agent.wav\"\n",
        "                    segment_audio.export(f\"processed_data/{conversation_id}_{utterance['index']}_agent.wav\", format=\"wav\")\n",
        "                else:\n",
        "                    segment_audio = caller_audio[start_ms:end_ms]\n",
        "                    relative_path = f\"processed_data/{conversation_id}_{utterance['index']}_caller.wav\"\n",
        "                    segment_audio.export(f\"processed_data/{conversation_id}_{utterance['index']}_caller.wav\", format=\"wav\")\n",
        "\n",
        "\n",
        "\n",
        "                json_dict[f\"{conversation_id}_{utterance['index']}\"] = {\n",
        "                    \"wav\": relative_path,\n",
        "                    \"length\": duration_ms/1000,\n",
        "                    \"words\": utterance['transcript'],\n",
        "                    \"emotion\" : emotion,\n",
        "                    \"speaker_role\" : utterance['speaker_role']\n",
        "                }\n",
        "\n",
        "    # Writing the dictionary to the json file\n",
        "    with open(json_file, mode=\"w\") as json_f:\n",
        "        json.dump(json_dict, json_f, indent=2)\n",
        "\n",
        "    print(f\"{json_file} successfully created!\")\n",
        "\n",
        "transcripts_path = '/content/transcript'\n",
        "audio_path = '/content/audio'\n",
        "train_txt = 'train.txt'\n",
        "dev_txt = 'dev.txt'\n",
        "\n",
        "train_lines = read_txt_file(train_txt)\n",
        "dev_lines = read_txt_file(dev_txt)\n",
        "\n",
        "extract_metadata_and_audio(train_lines, transcripts_path, audio_path,'/content/sentiment_data/train_manifest.json')\n",
        "extract_metadata_and_audio(dev_lines, transcripts_path, audio_path,'/content/sentiment_data/dev_manifest.json')"
      ]
    },
    {
      "cell_type": "code",
      "execution_count": null,
      "metadata": {
        "id": "tpX9tifcEYPZ"
      },
      "outputs": [],
      "source": [
        "from speechbrain.dataio.dataset import DynamicItemDataset\n",
        "emotion_map = {\"positive\": 1, \"neutral\": 0, \"negative\": 2}\n",
        "\n",
        "def loader(path,n=1e8):\n",
        "    dataset = DynamicItemDataset.from_json(path)\n",
        "    dataset = dataset.filtered_sorted(sort_key=\"length\",select_n=n)\n",
        "    dataset.add_dynamic_item(sb.dataio.dataio.read_audio, takes=\"wav\", provides=\"signal\")\n",
        "    dataset.add_dynamic_item(lambda x: emotion_map[x], takes=\"emotion\", provides=\"emotion_id\")\n",
        "    # dataset.set_output_keys([\"id\", \"signal\", \"words\", \"tokens_list\", \"tokens_bos\", \"tokens_eos\", \"tokens\"])\n",
        "    dataset.set_output_keys([\"id\", \"signal\",\"emotion_id\"])\n",
        "    return dataset\n",
        "\n",
        "dataset=loader(path=\"/content/sentiment_data/train_manifest.json\")\n",
        "dev_dataset = loader(path=\"/content/sentiment_data/dev_manifest.json\")"
      ]
    },
    {
      "cell_type": "code",
      "execution_count": null,
      "metadata": {
        "id": "7FFZahNUEWb9"
      },
      "outputs": [],
      "source": [
        "# print(len(dataset))\n",
        "# print(len(dev_dataset))"
      ]
    },
    {
      "cell_type": "code",
      "execution_count": null,
      "metadata": {
        "id": "Z17jo5oLjVPK"
      },
      "outputs": [],
      "source": [
        "def count_labels(dataset):\n",
        "    neg = 0\n",
        "    pos = 0\n",
        "    nu =  0\n",
        "    err = 0\n",
        "    for i in range(len(dataset)):\n",
        "        if dataset[i]['emotion_id']==0: nu +=1\n",
        "        elif dataset[i]['emotion_id']==1: pos+=1\n",
        "        elif dataset[i]['emotion_id']==2: neg+=1\n",
        "        else: err+=1\n",
        "\n",
        "    print(f'positive = {pos}, negative = {neg}, neutral = {nu}, err = {err}')"
      ]
    },
    {
      "cell_type": "code",
      "execution_count": null,
      "metadata": {
        "colab": {
          "base_uri": "https://localhost:8080/"
        },
        "id": "aio4sUn0kzCT",
        "outputId": "d3f0370e-92a3-4a3a-e24f-135ec8050645"
      },
      "outputs": [
        {
          "name": "stdout",
          "output_type": "stream",
          "text": [
            "positive = 2580, negative = 123, neutral = 5297, err = 0\n",
            "positive = 1129, negative = 68, neutral = 2361, err = 0\n"
          ]
        }
      ],
      "source": [
        "count_labels(dataset)\n",
        "count_labels(dev_dataset)"
      ]
    },
    {
      "cell_type": "code",
      "execution_count": null,
      "metadata": {
        "id": "xc6tENScx2Tp"
      },
      "outputs": [],
      "source": [
        "crdnn = EncoderDecoderASR.from_hparams(\n",
        "    source='speechbrain/asr-crdnn-rnnlm-librispeech',\n",
        "    savedir='asr-crdnn-rnnlm-librispeech',\n",
        "    run_opts={'device': 'cpu'}\n",
        ")"
      ]
    },
    {
      "cell_type": "code",
      "execution_count": null,
      "metadata": {
        "id": "Z9clGQqaGZaV"
      },
      "outputs": [],
      "source": [
        "modules = {\n",
        "    \"enc\": crdnn.mods.encoder.model,                                   # extracting the encoder from the crdnn model \n",
        "    \"compute_features\": crdnn.mods.encoder.compute_features,           # extracting the comput_features from the crdnn model \n",
        "    \"normalize\": crdnn.mods.encoder.normalize,                         # extracting the normalize  from the crdnn model\n",
        "    \"classifier\": torch.nn.Linear(encoder_output_size, num_emotions),  # initilizing a linear layer to add after the encoder\n",
        "    \"time_pool\": torch.nn.AdaptiveAvgPool2d((1, encoder_output_size)), # adding a AdaptiveAvgPool2d() function to average pool to sequnce of outputs from the encoder blocks  \n",
        "}\n",
        "\n",
        "# Initialize weights using Xavier uniform initialization\n",
        "torch.nn.init.xavier_uniform_(modules[\"classifier\"].weight)\n",
        "# Initialize biases to zero\n",
        "torch.nn.init.zeros_(modules[\"classifier\"].bias)\n",
        "\n",
        "hparams = {\n",
        "    \"loss_fn\": torch.nn.CrossEntropyLoss(),\n",
        "    \"log_softmax\": sb.nnet.activations.Softmax(apply_log=True),\n",
        "    \"num_emotions\": num_emotions,\n",
        "    \"valid_set\" : dev_dataset,\n",
        "    \"batch_size\" : 16\n",
        "}\n"
      ]
    },
    {
      "cell_type": "code",
      "execution_count": null,
      "metadata": {
        "id": "ySpDZ4d47vy-"
      },
      "outputs": [],
      "source": [
        "import torch\n",
        "import speechbrain as sb\n",
        "from speechbrain.pretrained import EncoderDecoderASR\n",
        "import torch.nn.functional as F\n",
        "\n",
        "\n",
        "class EncEmotionClassifier(sb.Brain):\n",
        "    def on_stage_start(self, stage, epoch):\n",
        "        if stage == sb.Stage.TRAIN:\n",
        "            for module in [self.modules.enc, self.modules.classifier]:\n",
        "                for p in module.parameters():\n",
        "                    p.requires_grad = True\n",
        "\n",
        "    def compute_forward(self, batch, stage):\n",
        "        batch = batch.to(self.device)\n",
        "        wavs, wav_lens = batch.signal\n",
        "        wavs, wav_lens = wavs.to(self.device), wav_lens.to(self.device)\n",
        "        # Forward pass\n",
        "        feats = self.modules.compute_features(wavs)\n",
        "        feats = self.modules.normalize(feats, wav_lens)\n",
        "        x = self.modules.enc(feats)\n",
        "        # Pooling along the time dimension\n",
        "        x = self.modules.time_pool(x)\n",
        "        # Classifier\n",
        "        logits = self.modules.classifier(x)\n",
        "        probs = self.hparams.log_softmax(logits)\n",
        "\n",
        "        return probs, logits, wav_lens\n",
        "\n",
        "    def compute_objectives(self, predictions, batch, stage):\n",
        "        probs, logits, _ = predictions\n",
        "        logits = logits.squeeze(1)  # Remove the unnecessary dimension\n",
        "        probs = probs.squeeze(1)    # Remove the unnecessary dimension\n",
        "        labels = batch.emotion_id.to(self.device)\n",
        "        print(f'labels = {labels}')\n",
        "        loss = self.hparams.loss_fn(logits, labels)\n",
        "        loss = torch.unsqueeze(loss, 0)\n",
        "        print(f'loss = {type(loss)},{loss},{loss.shape}')\n",
        "        preds = torch.argmax(probs, dim=-1)\n",
        "        print(f'preds = {preds}')\n",
        "        # Compute accuracy\n",
        "        accuracy = (preds == labels).float().mean().item()\n",
        "        print(f'batch accuracy = {accuracy}')\n",
        "        return loss\n",
        "\n",
        "\n",
        "    def fit_batch(self, batch):\n",
        "        # print(batch)\n",
        "        predictions = self.compute_forward(batch, sb.Stage.TRAIN)\n",
        "        loss = self.compute_objectives(predictions, batch, sb.Stage.TRAIN)\n",
        "        loss.backward()\n",
        "        # Clip gradients\n",
        "        torch.nn.utils.clip_grad_norm_(self.modules.parameters(), max_norm=1.0)\n",
        "        if self.check_gradients(loss):\n",
        "            self.optimizer.step()\n",
        "        self.optimizer.zero_grad()\n",
        "        return loss.detach()\n",
        "\n",
        "    def on_stage_end(self, stage, stage_loss, epoch):\n",
        "        super().on_stage_end(stage, epoch)\n",
        "        if stage == sb.Stage.VALID:\n",
        "            self.evaluate_emotion_classification()\n",
        "\n",
        "    def evaluate_emotion_classification(self):\n",
        "        # Set model to eval mode\n",
        "        self.modules.eval()\n",
        "\n",
        "        # Create a data loader for the validation set\n",
        "        valid_set = self.hparams.valid_set\n",
        "        valid_loader = sb.dataio.dataloader.make_dataloader(\n",
        "            valid_set, batch_size=self.hparams.batch_size, num_workers=0)\n",
        "\n",
        "        # Iterate over the validation set\n",
        "        num_correct = 0\n",
        "        num_total = 0\n",
        "        for batch in valid_loader:\n",
        "            with torch.no_grad():\n",
        "                # Make predictions for the batch\n",
        "                p_seq, _, _ = self.compute_forward(batch, sb.Stage.VALID)\n",
        "                # Get the predicted emotion label for each example in the batch\n",
        "                predicted_labels = torch.argmax(p_seq, dim=-1).squeeze()\n",
        "                # Count the number of correct predictions\n",
        "                num_correct += torch.sum(predicted_labels == batch.emotion_id).item()\n",
        "                print(torch.sum(predicted_labels == batch.emotion_id).item())\n",
        "                num_total += batch.emotion_id.size(0)\n",
        "        # Compute the validation accuracy and print it\n",
        "        valid_acc = num_correct / num_total\n",
        "        print(f\"Validation accuracy: {valid_acc:.2f}\")"
      ]
    },
    {
      "cell_type": "code",
      "execution_count": null,
      "metadata": {
        "id": "L3Uw91xKGizS"
      },
      "outputs": [],
      "source": [
        "# Create the emotion classifier model\n",
        "num_emotions = 3  # Set the number of emotion classes you have\n",
        "encoder_output_size = 512  # Set the output size of the encoder\n",
        "brain = EncEmotionClassifier(modules, hparams=hparams, opt_class=lambda x: torch.optim.Adam(x, 1e-5))\n",
        "brain.tokenizer = crdnn.tokenizer"
      ]
    },
    {
      "cell_type": "code",
      "execution_count": null,
      "metadata": {
        "id": "IiJFJ9HDGkyh"
      },
      "outputs": [],
      "source": [
        "# Initialize an empty list to store accuracies\n",
        "brain.epoch_valid_accuracies = []\n",
        "\n",
        "#  Set up a training loop using the system object\n",
        "brain.fit(\n",
        "    epoch_counter=range(1),\n",
        "    train_set= dataset,\n",
        "    valid_set=dev_dataset,\n",
        "    train_loader_kwargs={\"shuffle\": True, \"batch_size\": 16 },\n",
        "    valid_loader_kwargs={\"batch_size\": 16},\n",
        "    progressbar=True,\n",
        ")"
      ]
    },
    {
      "cell_type": "code",
      "execution_count": null,
      "metadata": {
        "id": "241v2MmKK2-n"
      },
      "outputs": [],
      "source": []
    },
    {
      "cell_type": "code",
      "execution_count": null,
      "metadata": {
        "colab": {
          "base_uri": "https://localhost:8080/"
        },
        "id": "fMKkVdag8lAv",
        "outputId": "47350771-2800-4849-9b48-8b4936fd037a"
      },
      "outputs": [
        {
          "name": "stderr",
          "output_type": "stream",
          "text": [
            "\r  0%|          | 0/500 [00:00<?, ?it/s]"
          ]
        },
        {
          "name": "stdout",
          "output_type": "stream",
          "text": [
            "labels = tensor([0, 1, 0, 0, 0, 0, 0, 1, 1, 1, 0, 0, 0, 0, 0, 0])\n",
            "loss = <class 'torch.Tensor'>,tensor([1.2562], grad_fn=<UnsqueezeBackward0>),torch.Size([1])\n",
            "preds = tensor([2, 2, 2, 2, 2, 2, 2, 0, 2, 2, 2, 2, 2, 2, 2, 2])\n",
            "batch accuracy = 0.0\n"
          ]
        },
        {
          "name": "stderr",
          "output_type": "stream",
          "text": [
            "  0%|          | 1/500 [00:35<4:53:17, 35.27s/it, train_loss=1.26]"
          ]
        },
        {
          "name": "stdout",
          "output_type": "stream",
          "text": [
            "labels = tensor([0, 0, 0, 0, 1, 0, 0, 0, 0, 0, 1, 0, 0, 0, 1, 0])\n",
            "loss = <class 'torch.Tensor'>,tensor([1.2763], grad_fn=<UnsqueezeBackward0>),torch.Size([1])\n",
            "preds = tensor([2, 2, 2, 2, 2, 2, 2, 2, 2, 2, 0, 0, 2, 2, 1, 2])\n",
            "batch accuracy = 0.125\n"
          ]
        },
        {
          "name": "stderr",
          "output_type": "stream",
          "text": [
            "  0%|          | 2/500 [01:17<5:26:42, 39.36s/it, train_loss=1.27]"
          ]
        },
        {
          "name": "stdout",
          "output_type": "stream",
          "text": [
            "labels = tensor([0, 0, 0, 0, 1, 0, 0, 0, 0, 0, 1, 0, 1, 0, 0, 0])\n",
            "loss = <class 'torch.Tensor'>,tensor([1.2282], grad_fn=<UnsqueezeBackward0>),torch.Size([1])\n",
            "preds = tensor([1, 2, 2, 2, 2, 2, 2, 2, 2, 2, 2, 1, 2, 2, 1, 2])\n",
            "batch accuracy = 0.0\n"
          ]
        },
        {
          "name": "stderr",
          "output_type": "stream",
          "text": [
            "  1%|          | 3/500 [01:53<5:12:49, 37.76s/it, train_loss=1.25]"
          ]
        },
        {
          "name": "stdout",
          "output_type": "stream",
          "text": [
            "labels = tensor([1, 0, 0, 0, 1, 1, 0, 0, 0, 0, 0, 0, 0, 1, 1, 1])\n",
            "loss = <class 'torch.Tensor'>,tensor([1.2032], grad_fn=<UnsqueezeBackward0>),torch.Size([1])\n",
            "preds = tensor([2, 2, 2, 2, 1, 2, 2, 2, 2, 2, 1, 2, 1, 2, 2, 0])\n",
            "batch accuracy = 0.0625\n"
          ]
        },
        {
          "name": "stderr",
          "output_type": "stream",
          "text": [
            "  1%|          | 4/500 [02:37<5:33:07, 40.30s/it, train_loss=1.24]"
          ]
        },
        {
          "name": "stdout",
          "output_type": "stream",
          "text": [
            "labels = tensor([0, 0, 0, 0, 0, 0, 0, 0, 2, 0, 0, 0, 0, 0, 0, 0])\n",
            "loss = <class 'torch.Tensor'>,tensor([1.2425], grad_fn=<UnsqueezeBackward0>),torch.Size([1])\n",
            "preds = tensor([2, 1, 2, 2, 2, 2, 2, 0, 2, 2, 2, 2, 1, 2, 2, 0])\n",
            "batch accuracy = 0.1875\n"
          ]
        },
        {
          "name": "stderr",
          "output_type": "stream",
          "text": [
            "  1%|          | 5/500 [03:05<4:55:10, 35.78s/it, train_loss=1.24]"
          ]
        },
        {
          "name": "stdout",
          "output_type": "stream",
          "text": [
            "labels = tensor([0, 1, 0, 1, 1, 0, 0, 0, 1, 0, 1, 0, 0, 1, 0, 0])\n",
            "loss = <class 'torch.Tensor'>,tensor([1.1626], grad_fn=<UnsqueezeBackward0>),torch.Size([1])\n",
            "preds = tensor([2, 2, 2, 2, 2, 1, 0, 2, 2, 2, 2, 2, 2, 2, 2, 2])\n",
            "batch accuracy = 0.0625\n"
          ]
        },
        {
          "name": "stderr",
          "output_type": "stream",
          "text": [
            "  1%|          | 6/500 [03:51<5:22:53, 39.22s/it, train_loss=1.23]"
          ]
        },
        {
          "name": "stdout",
          "output_type": "stream",
          "text": [
            "labels = tensor([0, 1, 0, 0, 1, 0, 1, 0, 0, 1, 0, 1, 0, 0, 1, 0])\n",
            "loss = <class 'torch.Tensor'>,tensor([1.2124], grad_fn=<UnsqueezeBackward0>),torch.Size([1])\n",
            "preds = tensor([2, 2, 2, 2, 1, 2, 1, 2, 2, 2, 2, 1, 2, 2, 2, 2])\n",
            "batch accuracy = 0.1875\n"
          ]
        },
        {
          "name": "stderr",
          "output_type": "stream",
          "text": [
            "  1%|▏         | 7/500 [04:34<5:34:08, 40.67s/it, train_loss=1.23]"
          ]
        },
        {
          "name": "stdout",
          "output_type": "stream",
          "text": [
            "labels = tensor([0, 0, 0, 1, 1, 0, 2, 0, 1, 0, 1, 0, 0, 0, 1, 0])\n",
            "loss = <class 'torch.Tensor'>,tensor([1.2023], grad_fn=<UnsqueezeBackward0>),torch.Size([1])\n",
            "preds = tensor([2, 2, 2, 1, 2, 2, 2, 2, 0, 2, 2, 1, 2, 2, 2, 2])\n",
            "batch accuracy = 0.125\n"
          ]
        },
        {
          "name": "stderr",
          "output_type": "stream",
          "text": [
            "  2%|▏         | 8/500 [05:01<4:57:05, 36.23s/it, train_loss=1.22]"
          ]
        },
        {
          "name": "stdout",
          "output_type": "stream",
          "text": [
            "labels = tensor([0, 1, 0, 1, 0, 1, 0, 0, 1, 1, 1, 1, 1, 1, 1, 0])\n",
            "loss = <class 'torch.Tensor'>,tensor([1.1221], grad_fn=<UnsqueezeBackward0>),torch.Size([1])\n",
            "preds = tensor([2, 2, 2, 2, 2, 2, 2, 2, 2, 2, 1, 1, 2, 2, 2, 2])\n",
            "batch accuracy = 0.125\n"
          ]
        },
        {
          "name": "stderr",
          "output_type": "stream",
          "text": [
            "  2%|▏         | 9/500 [05:37<4:54:29, 35.99s/it, train_loss=1.21]"
          ]
        },
        {
          "name": "stdout",
          "output_type": "stream",
          "text": [
            "labels = tensor([1, 1, 0, 1, 0, 1, 0, 0, 1, 1, 0, 0, 1, 0, 1, 0])\n",
            "loss = <class 'torch.Tensor'>,tensor([1.1624], grad_fn=<UnsqueezeBackward0>),torch.Size([1])\n",
            "preds = tensor([2, 2, 2, 2, 2, 1, 1, 2, 2, 1, 2, 2, 2, 1, 2, 2])\n",
            "batch accuracy = 0.125\n"
          ]
        },
        {
          "name": "stderr",
          "output_type": "stream",
          "text": [
            "  2%|▏         | 10/500 [06:17<5:05:59, 37.47s/it, train_loss=1.21]"
          ]
        },
        {
          "name": "stdout",
          "output_type": "stream",
          "text": [
            "labels = tensor([1, 0, 0, 0, 0, 0, 0, 1, 0, 0, 0, 1, 0, 1, 1, 0])\n",
            "loss = <class 'torch.Tensor'>,tensor([1.1827], grad_fn=<UnsqueezeBackward0>),torch.Size([1])\n",
            "preds = tensor([1, 2, 1, 2, 2, 2, 2, 2, 2, 2, 2, 1, 2, 2, 2, 2])\n",
            "batch accuracy = 0.125\n"
          ]
        },
        {
          "name": "stderr",
          "output_type": "stream",
          "text": [
            "  2%|▏         | 11/500 [07:34<6:43:09, 49.47s/it, train_loss=1.2]"
          ]
        },
        {
          "name": "stdout",
          "output_type": "stream",
          "text": [
            "labels = tensor([0, 0, 0, 0, 1, 0, 1, 1, 0, 0, 0, 0, 0, 0, 0, 0])\n",
            "loss = <class 'torch.Tensor'>,tensor([1.1873], grad_fn=<UnsqueezeBackward0>),torch.Size([1])\n",
            "preds = tensor([2, 2, 2, 2, 1, 2, 2, 2, 2, 2, 2, 1, 2, 2, 2, 2])\n",
            "batch accuracy = 0.0625\n"
          ]
        },
        {
          "name": "stderr",
          "output_type": "stream",
          "text": [
            "  2%|▏         | 12/500 [08:06<5:59:40, 44.22s/it, train_loss=1.2]"
          ]
        },
        {
          "name": "stdout",
          "output_type": "stream",
          "text": [
            "labels = tensor([0, 1, 1, 0, 1, 0, 0, 0, 0, 1, 0, 0, 0, 1, 0, 0])\n",
            "loss = <class 'torch.Tensor'>,tensor([1.1712], grad_fn=<UnsqueezeBackward0>),torch.Size([1])\n",
            "preds = tensor([2, 0, 1, 2, 1, 2, 2, 2, 2, 2, 2, 2, 2, 1, 1, 2])\n",
            "batch accuracy = 0.1875\n"
          ]
        },
        {
          "name": "stderr",
          "output_type": "stream",
          "text": [
            "  3%|▎         | 13/500 [08:36<5:23:04, 39.80s/it, train_loss=1.2]"
          ]
        },
        {
          "name": "stdout",
          "output_type": "stream",
          "text": [
            "labels = tensor([1, 1, 1, 0, 0, 0, 1, 0, 0, 0, 1, 1, 1, 1, 1, 1])\n",
            "loss = <class 'torch.Tensor'>,tensor([1.0851], grad_fn=<UnsqueezeBackward0>),torch.Size([1])\n",
            "preds = tensor([2, 2, 1, 2, 1, 2, 2, 2, 2, 1, 1, 2, 2, 2, 1, 1])\n",
            "batch accuracy = 0.25\n"
          ]
        },
        {
          "name": "stderr",
          "output_type": "stream",
          "text": [
            "  3%|▎         | 14/500 [09:24<5:41:54, 42.21s/it, train_loss=1.19]"
          ]
        },
        {
          "name": "stdout",
          "output_type": "stream",
          "text": [
            "labels = tensor([0, 1, 0, 0, 1, 0, 0, 0, 1, 1, 1, 1, 0, 0, 0, 1])\n",
            "loss = <class 'torch.Tensor'>,tensor([1.1241], grad_fn=<UnsqueezeBackward0>),torch.Size([1])\n",
            "preds = tensor([2, 2, 1, 2, 2, 2, 2, 2, 2, 2, 2, 1, 2, 2, 1, 1])\n",
            "batch accuracy = 0.125\n"
          ]
        },
        {
          "name": "stderr",
          "output_type": "stream",
          "text": [
            "  3%|▎         | 15/500 [10:17<6:09:32, 45.72s/it, train_loss=1.19]"
          ]
        },
        {
          "name": "stdout",
          "output_type": "stream",
          "text": [
            "labels = tensor([0, 0, 0, 0, 0, 0, 0, 1, 0, 0, 0, 0, 0, 0, 1, 1])\n",
            "loss = <class 'torch.Tensor'>,tensor([1.1694], grad_fn=<UnsqueezeBackward0>),torch.Size([1])\n",
            "preds = tensor([1, 2, 2, 2, 2, 1, 1, 1, 2, 2, 2, 2, 2, 2, 1, 0])\n",
            "batch accuracy = 0.125\n"
          ]
        },
        {
          "name": "stderr",
          "output_type": "stream",
          "text": [
            "  3%|▎         | 16/500 [10:52<5:41:44, 42.36s/it, train_loss=1.19]"
          ]
        },
        {
          "name": "stdout",
          "output_type": "stream",
          "text": [
            "labels = tensor([1, 0, 0, 1, 0, 0, 0, 0, 1, 0, 0, 1, 1, 1, 0, 0])\n",
            "loss = <class 'torch.Tensor'>,tensor([1.1451], grad_fn=<UnsqueezeBackward0>),torch.Size([1])\n",
            "preds = tensor([2, 2, 2, 2, 2, 2, 2, 2, 1, 2, 2, 1, 2, 1, 2, 1])\n",
            "batch accuracy = 0.1875\n"
          ]
        },
        {
          "name": "stderr",
          "output_type": "stream",
          "text": [
            "  3%|▎         | 17/500 [11:24<5:15:35, 39.20s/it, train_loss=1.18]"
          ]
        },
        {
          "name": "stdout",
          "output_type": "stream",
          "text": [
            "labels = tensor([0, 0, 0, 0, 0, 0, 0, 0, 1, 0, 1, 0, 1, 1, 1, 0])\n",
            "loss = <class 'torch.Tensor'>,tensor([1.0966], grad_fn=<UnsqueezeBackward0>),torch.Size([1])\n",
            "preds = tensor([2, 2, 2, 0, 2, 1, 1, 2, 1, 1, 1, 2, 2, 1, 1, 2])\n",
            "batch accuracy = 0.3125\n"
          ]
        },
        {
          "name": "stderr",
          "output_type": "stream",
          "text": [
            "  4%|▎         | 18/500 [12:03<5:15:17, 39.25s/it, train_loss=1.18]"
          ]
        },
        {
          "name": "stdout",
          "output_type": "stream",
          "text": [
            "labels = tensor([0, 0, 1, 1, 1, 1, 0, 0, 1, 0, 0, 0, 0, 0, 1, 1])\n",
            "loss = <class 'torch.Tensor'>,tensor([1.1309], grad_fn=<UnsqueezeBackward0>),torch.Size([1])\n",
            "preds = tensor([2, 2, 1, 2, 2, 2, 2, 2, 1, 1, 2, 2, 1, 1, 1, 2])\n",
            "batch accuracy = 0.1875\n"
          ]
        },
        {
          "name": "stderr",
          "output_type": "stream",
          "text": [
            "  4%|▍         | 19/500 [12:29<4:41:09, 35.07s/it, train_loss=1.18]"
          ]
        },
        {
          "name": "stdout",
          "output_type": "stream",
          "text": [
            "labels = tensor([0, 0, 1, 0, 1, 0, 0, 0, 1, 2, 0, 0, 1, 1, 1, 1])\n",
            "loss = <class 'torch.Tensor'>,tensor([1.1010], grad_fn=<UnsqueezeBackward0>),torch.Size([1])\n",
            "preds = tensor([2, 2, 1, 2, 1, 1, 0, 1, 2, 2, 2, 2, 2, 1, 1, 2])\n",
            "batch accuracy = 0.375\n"
          ]
        },
        {
          "name": "stderr",
          "output_type": "stream",
          "text": [
            "  4%|▍         | 20/500 [13:08<4:51:12, 36.40s/it, train_loss=1.17]"
          ]
        },
        {
          "name": "stdout",
          "output_type": "stream",
          "text": [
            "labels = tensor([0, 0, 0, 0, 1, 0, 0, 0, 1, 1, 0, 0, 0, 0, 0, 0])\n",
            "loss = <class 'torch.Tensor'>,tensor([1.1792], grad_fn=<UnsqueezeBackward0>),torch.Size([1])\n",
            "preds = tensor([2, 2, 2, 2, 1, 2, 2, 2, 2, 1, 1, 2, 1, 2, 1, 1])\n",
            "batch accuracy = 0.125\n"
          ]
        },
        {
          "name": "stderr",
          "output_type": "stream",
          "text": [
            "  4%|▍         | 21/500 [13:32<4:21:21, 32.74s/it, train_loss=1.17]"
          ]
        },
        {
          "name": "stdout",
          "output_type": "stream",
          "text": [
            "labels = tensor([1, 0, 0, 0, 0, 0, 0, 1, 0, 0, 1, 0, 0, 0, 0, 0])\n",
            "loss = <class 'torch.Tensor'>,tensor([1.1687], grad_fn=<UnsqueezeBackward0>),torch.Size([1])\n",
            "preds = tensor([1, 2, 2, 2, 1, 1, 2, 2, 2, 2, 1, 2, 1, 2, 2, 2])\n",
            "batch accuracy = 0.125\n"
          ]
        },
        {
          "name": "stderr",
          "output_type": "stream",
          "text": [
            "  4%|▍         | 22/500 [13:53<3:52:14, 29.15s/it, train_loss=1.17]"
          ]
        },
        {
          "name": "stdout",
          "output_type": "stream",
          "text": [
            "labels = tensor([0, 0, 0, 1, 0, 0, 0, 0, 0, 0, 1, 0, 1, 0, 0, 1])\n",
            "loss = <class 'torch.Tensor'>,tensor([1.1118], grad_fn=<UnsqueezeBackward0>),torch.Size([1])\n",
            "preds = tensor([2, 2, 1, 1, 0, 1, 2, 1, 2, 2, 1, 2, 1, 2, 2, 1])\n",
            "batch accuracy = 0.3125\n"
          ]
        },
        {
          "name": "stderr",
          "output_type": "stream",
          "text": [
            "  5%|▍         | 23/500 [14:56<5:11:28, 39.18s/it, train_loss=1.17]"
          ]
        },
        {
          "name": "stdout",
          "output_type": "stream",
          "text": [
            "labels = tensor([0, 0, 0, 0, 1, 0, 1, 0, 0, 0, 0, 1, 1, 1, 0, 1])\n",
            "loss = <class 'torch.Tensor'>,tensor([1.0993], grad_fn=<UnsqueezeBackward0>),torch.Size([1])\n",
            "preds = tensor([0, 2, 2, 0, 2, 1, 1, 1, 1, 0, 2, 1, 2, 0, 0, 1])\n",
            "batch accuracy = 0.4375\n"
          ]
        },
        {
          "name": "stderr",
          "output_type": "stream",
          "text": [
            "  5%|▍         | 24/500 [15:28<4:54:27, 37.12s/it, train_loss=1.17]"
          ]
        },
        {
          "name": "stdout",
          "output_type": "stream",
          "text": [
            "labels = tensor([0, 1, 0, 1, 1, 0, 0, 1, 0, 1, 1, 1, 0, 0, 1, 0])\n",
            "loss = <class 'torch.Tensor'>,tensor([1.0883], grad_fn=<UnsqueezeBackward0>),torch.Size([1])\n",
            "preds = tensor([2, 2, 0, 1, 2, 2, 1, 1, 1, 2, 1, 2, 2, 2, 1, 2])\n",
            "batch accuracy = 0.3125\n"
          ]
        },
        {
          "name": "stderr",
          "output_type": "stream",
          "text": [
            "  5%|▌         | 25/500 [15:58<4:38:08, 35.13s/it, train_loss=1.16]"
          ]
        },
        {
          "name": "stdout",
          "output_type": "stream",
          "text": [
            "labels = tensor([0, 0, 0, 1, 1, 0, 1, 1, 0, 0, 0, 0, 0, 0, 1, 0])\n",
            "loss = <class 'torch.Tensor'>,tensor([1.0622], grad_fn=<UnsqueezeBackward0>),torch.Size([1])\n",
            "preds = tensor([0, 1, 0, 1, 2, 2, 1, 1, 1, 2, 2, 1, 2, 2, 1, 0])\n",
            "batch accuracy = 0.4375\n"
          ]
        },
        {
          "name": "stderr",
          "output_type": "stream",
          "text": [
            "  5%|▌         | 26/500 [16:33<4:36:43, 35.03s/it, train_loss=1.16]"
          ]
        },
        {
          "name": "stdout",
          "output_type": "stream",
          "text": [
            "labels = tensor([0, 0, 1, 1, 0, 0, 1, 1, 0, 1, 0, 0, 0, 0, 1, 0])\n",
            "loss = <class 'torch.Tensor'>,tensor([1.0600], grad_fn=<UnsqueezeBackward0>),torch.Size([1])\n",
            "preds = tensor([0, 1, 2, 1, 1, 2, 1, 2, 2, 1, 0, 2, 2, 2, 1, 1])\n",
            "batch accuracy = 0.375\n"
          ]
        },
        {
          "name": "stderr",
          "output_type": "stream",
          "text": [
            "  5%|▌         | 27/500 [17:23<5:09:59, 39.32s/it, train_loss=1.16]"
          ]
        },
        {
          "name": "stdout",
          "output_type": "stream",
          "text": [
            "labels = tensor([1, 0, 1, 1, 0, 0, 1, 0, 0, 1, 0, 0, 0, 0, 0, 0])\n",
            "loss = <class 'torch.Tensor'>,tensor([1.1122], grad_fn=<UnsqueezeBackward0>),torch.Size([1])\n",
            "preds = tensor([1, 0, 2, 1, 1, 2, 2, 0, 1, 2, 0, 2, 2, 1, 1, 0])\n",
            "batch accuracy = 0.375\n"
          ]
        },
        {
          "name": "stderr",
          "output_type": "stream",
          "text": [
            "  6%|▌         | 28/500 [18:01<5:07:39, 39.11s/it, train_loss=1.16]"
          ]
        },
        {
          "name": "stdout",
          "output_type": "stream",
          "text": [
            "labels = tensor([0, 1, 1, 1, 0, 0, 0, 0, 0, 0, 1, 0, 0, 0, 1, 1])\n",
            "loss = <class 'torch.Tensor'>,tensor([1.0921], grad_fn=<UnsqueezeBackward0>),torch.Size([1])\n",
            "preds = tensor([0, 1, 1, 2, 0, 2, 2, 1, 0, 2, 1, 0, 1, 1, 1, 2])\n",
            "batch accuracy = 0.5\n"
          ]
        },
        {
          "name": "stderr",
          "output_type": "stream",
          "text": [
            "  6%|▌         | 29/500 [18:36<4:57:12, 37.86s/it, train_loss=1.15]"
          ]
        },
        {
          "name": "stdout",
          "output_type": "stream",
          "text": [
            "labels = tensor([0, 0, 1, 0, 0, 1, 1, 0, 0, 1, 0, 0, 1, 1, 0, 0])\n",
            "loss = <class 'torch.Tensor'>,tensor([1.0994], grad_fn=<UnsqueezeBackward0>),torch.Size([1])\n",
            "preds = tensor([2, 2, 1, 2, 2, 2, 1, 1, 2, 2, 2, 1, 2, 1, 1, 2])\n",
            "batch accuracy = 0.1875\n"
          ]
        },
        {
          "name": "stderr",
          "output_type": "stream",
          "text": [
            "  6%|▌         | 30/500 [19:02<4:28:51, 34.32s/it, train_loss=1.15]"
          ]
        },
        {
          "name": "stdout",
          "output_type": "stream",
          "text": [
            "labels = tensor([0, 0, 0, 0, 0, 1, 1, 0, 0, 0, 0, 1, 1, 0, 0, 1])\n",
            "loss = <class 'torch.Tensor'>,tensor([1.0883], grad_fn=<UnsqueezeBackward0>),torch.Size([1])\n",
            "preds = tensor([0, 0, 2, 1, 2, 1, 1, 0, 2, 2, 1, 1, 0, 1, 0, 1])\n",
            "batch accuracy = 0.5\n"
          ]
        },
        {
          "name": "stderr",
          "output_type": "stream",
          "text": [
            "  6%|▌         | 31/500 [19:33<4:20:54, 33.38s/it, train_loss=1.15]"
          ]
        },
        {
          "name": "stdout",
          "output_type": "stream",
          "text": [
            "labels = tensor([1, 1, 1, 1, 1, 0, 1, 0, 0, 0, 0, 1, 1, 0, 1, 1])\n",
            "loss = <class 'torch.Tensor'>,tensor([1.0578], grad_fn=<UnsqueezeBackward0>),torch.Size([1])\n",
            "preds = tensor([1, 2, 1, 2, 1, 0, 1, 2, 2, 1, 0, 2, 1, 2, 1, 2])\n",
            "batch accuracy = 0.5\n"
          ]
        },
        {
          "name": "stderr",
          "output_type": "stream",
          "text": [
            "  6%|▋         | 32/500 [20:39<5:34:44, 42.91s/it, train_loss=1.15]"
          ]
        },
        {
          "name": "stdout",
          "output_type": "stream",
          "text": [
            "labels = tensor([2, 1, 1, 0, 0, 0, 0, 1, 1, 1, 0, 1, 0, 1, 1, 0])\n",
            "loss = <class 'torch.Tensor'>,tensor([1.0265], grad_fn=<UnsqueezeBackward0>),torch.Size([1])\n",
            "preds = tensor([1, 1, 1, 0, 1, 1, 0, 1, 2, 1, 0, 2, 0, 0, 1, 2])\n",
            "batch accuracy = 0.5625\n"
          ]
        },
        {
          "name": "stderr",
          "output_type": "stream",
          "text": [
            "  7%|▋         | 33/500 [21:09<5:04:32, 39.13s/it, train_loss=1.14]"
          ]
        },
        {
          "name": "stdout",
          "output_type": "stream",
          "text": [
            "labels = tensor([0, 0, 1, 1, 1, 0, 1, 0, 1, 0, 0, 0, 0, 1, 0, 0])\n",
            "loss = <class 'torch.Tensor'>,tensor([1.1287], grad_fn=<UnsqueezeBackward0>),torch.Size([1])\n",
            "preds = tensor([1, 2, 2, 1, 2, 2, 1, 1, 1, 1, 2, 1, 2, 2, 2, 2])\n",
            "batch accuracy = 0.1875\n"
          ]
        },
        {
          "name": "stderr",
          "output_type": "stream",
          "text": [
            "  7%|▋         | 34/500 [21:33<4:28:12, 34.53s/it, train_loss=1.14]"
          ]
        },
        {
          "name": "stdout",
          "output_type": "stream",
          "text": [
            "labels = tensor([1, 0, 0, 0, 1, 0, 0, 1, 1, 0, 0, 2, 0, 1, 0, 0])\n",
            "loss = <class 'torch.Tensor'>,tensor([1.0324], grad_fn=<UnsqueezeBackward0>),torch.Size([1])\n",
            "preds = tensor([1, 0, 1, 1, 1, 0, 1, 1, 1, 2, 0, 1, 1, 1, 0, 0])\n",
            "batch accuracy = 0.625\n"
          ]
        },
        {
          "name": "stderr",
          "output_type": "stream",
          "text": [
            "  7%|▋         | 35/500 [22:09<4:32:51, 35.21s/it, train_loss=1.14]"
          ]
        },
        {
          "name": "stdout",
          "output_type": "stream",
          "text": [
            "labels = tensor([0, 0, 1, 0, 0, 1, 0, 0, 0, 0, 0, 1, 0, 0, 1, 0])\n",
            "loss = <class 'torch.Tensor'>,tensor([1.0762], grad_fn=<UnsqueezeBackward0>),torch.Size([1])\n",
            "preds = tensor([1, 1, 2, 1, 0, 1, 2, 0, 2, 0, 2, 1, 1, 1, 1, 0])\n",
            "batch accuracy = 0.4375\n"
          ]
        },
        {
          "name": "stderr",
          "output_type": "stream",
          "text": [
            "  7%|▋         | 36/500 [22:41<4:23:12, 34.04s/it, train_loss=1.14]"
          ]
        },
        {
          "name": "stdout",
          "output_type": "stream",
          "text": [
            "labels = tensor([1, 0, 0, 1, 0, 0, 0, 0, 0, 0, 0, 1, 0, 1, 0, 0])\n",
            "loss = <class 'torch.Tensor'>,tensor([1.0815], grad_fn=<UnsqueezeBackward0>),torch.Size([1])\n",
            "preds = tensor([0, 0, 0, 1, 1, 0, 0, 0, 0, 1, 1, 1, 1, 1, 0, 1])\n",
            "batch accuracy = 0.625\n"
          ]
        },
        {
          "name": "stderr",
          "output_type": "stream",
          "text": [
            "  7%|▋         | 37/500 [23:21<4:37:19, 35.94s/it, train_loss=1.14]"
          ]
        },
        {
          "name": "stdout",
          "output_type": "stream",
          "text": [
            "labels = tensor([0, 0, 1, 1, 0, 0, 0, 0, 0, 0, 0, 0, 0, 0, 0, 0])\n",
            "loss = <class 'torch.Tensor'>,tensor([1.1490], grad_fn=<UnsqueezeBackward0>),torch.Size([1])\n",
            "preds = tensor([2, 1, 1, 0, 0, 1, 1, 1, 0, 1, 2, 1, 1, 1, 2, 0])\n",
            "batch accuracy = 0.25\n"
          ]
        },
        {
          "name": "stderr",
          "output_type": "stream",
          "text": [
            "  8%|▊         | 38/500 [24:39<6:13:28, 48.50s/it, train_loss=1.14]"
          ]
        },
        {
          "name": "stdout",
          "output_type": "stream",
          "text": [
            "labels = tensor([0, 0, 0, 0, 0, 1, 0, 1, 1, 1, 1, 0, 0, 0, 0, 0])\n",
            "loss = <class 'torch.Tensor'>,tensor([1.0332], grad_fn=<UnsqueezeBackward0>),torch.Size([1])\n",
            "preds = tensor([0, 0, 1, 0, 1, 1, 2, 1, 1, 1, 1, 2, 2, 0, 2, 1])\n",
            "batch accuracy = 0.5625\n"
          ]
        },
        {
          "name": "stderr",
          "output_type": "stream",
          "text": [
            "  8%|▊         | 39/500 [25:04<5:18:40, 41.48s/it, train_loss=1.13]"
          ]
        },
        {
          "name": "stdout",
          "output_type": "stream",
          "text": [
            "labels = tensor([1, 0, 0, 0, 0, 0, 0, 0, 0, 0, 0, 0, 0, 0, 0, 1])\n",
            "loss = <class 'torch.Tensor'>,tensor([1.1122], grad_fn=<UnsqueezeBackward0>),torch.Size([1])\n",
            "preds = tensor([1, 1, 2, 2, 1, 1, 1, 2, 2, 1, 2, 2, 1, 0, 2, 1])\n",
            "batch accuracy = 0.1875\n"
          ]
        },
        {
          "name": "stderr",
          "output_type": "stream",
          "text": [
            "  8%|▊         | 40/500 [25:23<4:25:09, 34.59s/it, train_loss=1.13]"
          ]
        },
        {
          "name": "stdout",
          "output_type": "stream",
          "text": [
            "labels = tensor([1, 0, 1, 0, 1, 0, 0, 0, 0, 2, 0, 0, 0, 0, 1, 1])\n",
            "loss = <class 'torch.Tensor'>,tensor([0.9991], grad_fn=<UnsqueezeBackward0>),torch.Size([1])\n",
            "preds = tensor([1, 0, 1, 0, 1, 0, 1, 0, 2, 1, 0, 1, 1, 0, 1, 1])\n",
            "batch accuracy = 0.6875\n"
          ]
        },
        {
          "name": "stderr",
          "output_type": "stream",
          "text": [
            "  8%|▊         | 41/500 [25:56<4:21:10, 34.14s/it, train_loss=1.13]"
          ]
        },
        {
          "name": "stdout",
          "output_type": "stream",
          "text": [
            "labels = tensor([0, 0, 1, 1, 1, 1, 0, 1, 0, 1, 0, 0, 0, 1, 0, 0])\n",
            "loss = <class 'torch.Tensor'>,tensor([0.9537], grad_fn=<UnsqueezeBackward0>),torch.Size([1])\n",
            "preds = tensor([0, 1, 1, 1, 2, 1, 0, 1, 2, 1, 0, 1, 2, 1, 0, 0])\n",
            "batch accuracy = 0.6875\n"
          ]
        },
        {
          "name": "stderr",
          "output_type": "stream",
          "text": [
            "  8%|▊         | 42/500 [26:37<4:36:22, 36.21s/it, train_loss=1.13]"
          ]
        },
        {
          "name": "stdout",
          "output_type": "stream",
          "text": [
            "labels = tensor([2, 0, 1, 0, 1, 0, 0, 1, 0, 0, 0, 0, 1, 0, 0, 1])\n",
            "loss = <class 'torch.Tensor'>,tensor([1.0350], grad_fn=<UnsqueezeBackward0>),torch.Size([1])\n",
            "preds = tensor([1, 1, 1, 0, 2, 0, 1, 1, 1, 1, 0, 0, 1, 0, 1, 2])\n",
            "batch accuracy = 0.5\n"
          ]
        },
        {
          "name": "stderr",
          "output_type": "stream",
          "text": [
            "  9%|▊         | 43/500 [27:10<4:30:12, 35.48s/it, train_loss=1.12]"
          ]
        },
        {
          "name": "stdout",
          "output_type": "stream",
          "text": [
            "labels = tensor([0, 1, 0, 0, 0, 0, 0, 0, 0, 0, 0, 1, 1, 0, 0, 0])\n",
            "loss = <class 'torch.Tensor'>,tensor([1.0566], grad_fn=<UnsqueezeBackward0>),torch.Size([1])\n",
            "preds = tensor([0, 1, 0, 1, 0, 1, 0, 0, 1, 1, 0, 1, 2, 0, 1, 1])\n",
            "batch accuracy = 0.5625\n"
          ]
        },
        {
          "name": "stderr",
          "output_type": "stream",
          "text": [
            "  9%|▉         | 44/500 [27:50<4:40:00, 36.84s/it, train_loss=1.12]"
          ]
        },
        {
          "name": "stdout",
          "output_type": "stream",
          "text": [
            "labels = tensor([1, 0, 0, 0, 1, 0, 0, 0, 0, 0, 0, 0, 1, 0, 0, 0])\n",
            "loss = <class 'torch.Tensor'>,tensor([1.0717], grad_fn=<UnsqueezeBackward0>),torch.Size([1])\n",
            "preds = tensor([1, 0, 2, 1, 0, 1, 0, 0, 0, 2, 0, 1, 1, 0, 0, 1])\n",
            "batch accuracy = 0.5625\n"
          ]
        },
        {
          "name": "stderr",
          "output_type": "stream",
          "text": [
            "  9%|▉         | 45/500 [28:20<4:22:11, 34.57s/it, train_loss=1.12]"
          ]
        },
        {
          "name": "stdout",
          "output_type": "stream",
          "text": [
            "labels = tensor([1, 1, 0, 1, 0, 0, 1, 0, 0, 0, 0, 1, 0, 1, 0, 0])\n",
            "loss = <class 'torch.Tensor'>,tensor([0.9346], grad_fn=<UnsqueezeBackward0>),torch.Size([1])\n",
            "preds = tensor([1, 1, 0, 1, 1, 1, 1, 0, 0, 0, 0, 0, 1, 1, 0, 0])\n",
            "batch accuracy = 0.75\n"
          ]
        },
        {
          "name": "stderr",
          "output_type": "stream",
          "text": [
            "  9%|▉         | 46/500 [28:57<4:27:46, 35.39s/it, train_loss=1.12]"
          ]
        },
        {
          "name": "stdout",
          "output_type": "stream",
          "text": [
            "labels = tensor([0, 0, 0, 0, 0, 0, 1, 0, 0, 0, 1, 0, 1, 0, 1, 0])\n",
            "loss = <class 'torch.Tensor'>,tensor([1.0185], grad_fn=<UnsqueezeBackward0>),torch.Size([1])\n",
            "preds = tensor([0, 1, 1, 0, 0, 1, 1, 0, 0, 0, 1, 1, 1, 1, 1, 1])\n",
            "batch accuracy = 0.625\n"
          ]
        },
        {
          "name": "stderr",
          "output_type": "stream",
          "text": [
            "  9%|▉         | 47/500 [29:47<5:00:59, 39.87s/it, train_loss=1.11]"
          ]
        },
        {
          "name": "stdout",
          "output_type": "stream",
          "text": [
            "labels = tensor([0, 0, 1, 0, 0, 0, 0, 0, 1, 1, 0, 0, 0, 0, 0, 1])\n",
            "loss = <class 'torch.Tensor'>,tensor([1.0176], grad_fn=<UnsqueezeBackward0>),torch.Size([1])\n",
            "preds = tensor([1, 0, 1, 0, 1, 2, 1, 0, 1, 1, 0, 2, 1, 0, 1, 1])\n",
            "batch accuracy = 0.5625\n"
          ]
        },
        {
          "name": "stderr",
          "output_type": "stream",
          "text": [
            " 10%|▉         | 48/500 [30:13<4:29:13, 35.74s/it, train_loss=1.11]"
          ]
        },
        {
          "name": "stdout",
          "output_type": "stream",
          "text": [
            "labels = tensor([1, 1, 0, 0, 0, 0, 1, 0, 0, 0, 1, 0, 0, 0, 0, 0])\n",
            "loss = <class 'torch.Tensor'>,tensor([1.0297], grad_fn=<UnsqueezeBackward0>),torch.Size([1])\n",
            "preds = tensor([1, 1, 0, 0, 0, 1, 1, 0, 0, 1, 1, 1, 2, 1, 0, 0])\n",
            "batch accuracy = 0.6875\n"
          ]
        },
        {
          "name": "stderr",
          "output_type": "stream",
          "text": [
            " 10%|▉         | 49/500 [30:46<4:20:29, 34.66s/it, train_loss=1.11]"
          ]
        },
        {
          "name": "stdout",
          "output_type": "stream",
          "text": [
            "labels = tensor([0, 0, 0, 1, 0, 0, 0, 1, 1, 0, 1, 1, 0, 0, 0, 0])\n",
            "loss = <class 'torch.Tensor'>,tensor([0.9443], grad_fn=<UnsqueezeBackward0>),torch.Size([1])\n",
            "preds = tensor([0, 1, 0, 1, 1, 0, 0, 1, 1, 0, 1, 1, 1, 0, 1, 0])\n",
            "batch accuracy = 0.75\n"
          ]
        },
        {
          "name": "stderr",
          "output_type": "stream",
          "text": [
            " 10%|█         | 50/500 [31:19<4:17:16, 34.30s/it, train_loss=1.11]"
          ]
        },
        {
          "name": "stdout",
          "output_type": "stream",
          "text": [
            "labels = tensor([0, 0, 0, 2, 0, 0, 1, 0, 0, 1, 1, 0, 0, 1, 0, 0])\n",
            "loss = <class 'torch.Tensor'>,tensor([0.9687], grad_fn=<UnsqueezeBackward0>),torch.Size([1])\n",
            "preds = tensor([2, 0, 1, 1, 1, 1, 1, 0, 1, 1, 1, 0, 1, 1, 0, 0])\n",
            "batch accuracy = 0.5625\n"
          ]
        },
        {
          "name": "stderr",
          "output_type": "stream",
          "text": [
            " 10%|█         | 51/500 [31:53<4:15:08, 34.10s/it, train_loss=1.1]"
          ]
        },
        {
          "name": "stdout",
          "output_type": "stream",
          "text": [
            "labels = tensor([0, 0, 0, 0, 0, 0, 1, 1, 1, 1, 0, 0, 1, 0, 0, 1])\n",
            "loss = <class 'torch.Tensor'>,tensor([0.9730], grad_fn=<UnsqueezeBackward0>),torch.Size([1])\n",
            "preds = tensor([1, 0, 0, 0, 1, 0, 1, 1, 1, 2, 1, 2, 1, 0, 1, 1])\n",
            "batch accuracy = 0.625\n"
          ]
        },
        {
          "name": "stderr",
          "output_type": "stream",
          "text": [
            " 10%|█         | 52/500 [32:31<4:23:56, 35.35s/it, train_loss=1.1]"
          ]
        },
        {
          "name": "stdout",
          "output_type": "stream",
          "text": [
            "labels = tensor([1, 0, 0, 0, 0, 1, 0, 0, 0, 1, 0, 0, 1, 0, 0, 0])\n",
            "loss = <class 'torch.Tensor'>,tensor([0.9678], grad_fn=<UnsqueezeBackward0>),torch.Size([1])\n",
            "preds = tensor([1, 0, 2, 1, 0, 1, 0, 2, 1, 1, 0, 1, 1, 0, 1, 0])\n",
            "batch accuracy = 0.625\n"
          ]
        },
        {
          "name": "stderr",
          "output_type": "stream",
          "text": [
            " 11%|█         | 53/500 [32:56<4:01:00, 32.35s/it, train_loss=1.1]"
          ]
        },
        {
          "name": "stdout",
          "output_type": "stream",
          "text": [
            "labels = tensor([0, 0, 1, 0, 0, 0, 0, 0, 0, 0, 1, 0, 0, 0, 0, 0])\n",
            "loss = <class 'torch.Tensor'>,tensor([1.0337], grad_fn=<UnsqueezeBackward0>),torch.Size([1])\n",
            "preds = tensor([0, 0, 1, 0, 0, 1, 1, 0, 1, 1, 1, 0, 0, 1, 0, 1])\n",
            "batch accuracy = 0.625\n"
          ]
        },
        {
          "name": "stderr",
          "output_type": "stream",
          "text": [
            " 11%|█         | 54/500 [33:50<4:49:02, 38.88s/it, train_loss=1.1]"
          ]
        },
        {
          "name": "stdout",
          "output_type": "stream",
          "text": [
            "labels = tensor([0, 0, 0, 1, 1, 0, 1, 0, 1, 0, 0, 1, 1, 0, 0, 0])\n",
            "loss = <class 'torch.Tensor'>,tensor([0.9646], grad_fn=<UnsqueezeBackward0>),torch.Size([1])\n",
            "preds = tensor([0, 0, 1, 1, 0, 0, 1, 0, 1, 1, 0, 1, 1, 1, 0, 1])\n",
            "batch accuracy = 0.6875\n"
          ]
        },
        {
          "name": "stderr",
          "output_type": "stream",
          "text": [
            " 11%|█         | 55/500 [34:36<5:03:58, 40.99s/it, train_loss=1.1]"
          ]
        },
        {
          "name": "stdout",
          "output_type": "stream",
          "text": [
            "labels = tensor([0, 1, 0, 0, 0, 0, 0, 0, 1, 0, 1, 1, 2, 0, 0, 0])\n",
            "loss = <class 'torch.Tensor'>,tensor([1.0253], grad_fn=<UnsqueezeBackward0>),torch.Size([1])\n",
            "preds = tensor([0, 0, 1, 0, 1, 1, 0, 0, 1, 0, 1, 1, 1, 0, 1, 0])\n",
            "batch accuracy = 0.625\n"
          ]
        },
        {
          "name": "stderr",
          "output_type": "stream",
          "text": [
            " 11%|█         | 56/500 [35:15<4:59:00, 40.41s/it, train_loss=1.09]"
          ]
        },
        {
          "name": "stdout",
          "output_type": "stream",
          "text": [
            "labels = tensor([0, 0, 0, 1, 1, 0, 0, 0, 0, 1, 0, 1, 0, 0, 1, 0])\n",
            "loss = <class 'torch.Tensor'>,tensor([0.8972], grad_fn=<UnsqueezeBackward0>),torch.Size([1])\n",
            "preds = tensor([1, 1, 1, 1, 1, 0, 0, 0, 0, 1, 0, 1, 0, 0, 1, 0])\n",
            "batch accuracy = 0.8125\n"
          ]
        },
        {
          "name": "stderr",
          "output_type": "stream",
          "text": [
            " 11%|█▏        | 57/500 [35:48<4:41:16, 38.10s/it, train_loss=1.09]"
          ]
        },
        {
          "name": "stdout",
          "output_type": "stream",
          "text": [
            "labels = tensor([0, 0, 0, 1, 0, 0, 0, 0, 0, 1, 0, 0, 1, 0, 1, 0])\n",
            "loss = <class 'torch.Tensor'>,tensor([0.9824], grad_fn=<UnsqueezeBackward0>),torch.Size([1])\n",
            "preds = tensor([1, 0, 0, 1, 0, 2, 0, 0, 1, 1, 0, 1, 1, 1, 1, 0])\n",
            "batch accuracy = 0.6875\n"
          ]
        },
        {
          "name": "stderr",
          "output_type": "stream",
          "text": [
            " 12%|█▏        | 58/500 [36:12<4:08:39, 33.75s/it, train_loss=1.09]"
          ]
        },
        {
          "name": "stdout",
          "output_type": "stream",
          "text": [
            "labels = tensor([0, 0, 0, 0, 0, 1, 0, 1, 0, 1, 0, 0, 0, 2, 0, 0])\n",
            "loss = <class 'torch.Tensor'>,tensor([1.0274], grad_fn=<UnsqueezeBackward0>),torch.Size([1])\n",
            "preds = tensor([1, 0, 1, 1, 1, 1, 0, 1, 0, 1, 0, 0, 0, 2, 2, 1])\n",
            "batch accuracy = 0.625\n"
          ]
        },
        {
          "name": "stderr",
          "output_type": "stream",
          "text": [
            " 12%|█▏        | 59/500 [36:31<3:35:38, 29.34s/it, train_loss=1.09]"
          ]
        },
        {
          "name": "stdout",
          "output_type": "stream",
          "text": [
            "labels = tensor([1, 1, 0, 1, 0, 0, 2, 2, 0, 1, 1, 0, 0, 0, 0, 1])\n",
            "loss = <class 'torch.Tensor'>,tensor([0.9925], grad_fn=<UnsqueezeBackward0>),torch.Size([1])\n",
            "preds = tensor([0, 1, 0, 1, 1, 1, 1, 1, 0, 0, 1, 0, 0, 1, 0, 0])\n",
            "batch accuracy = 0.5\n"
          ]
        },
        {
          "name": "stderr",
          "output_type": "stream",
          "text": [
            " 12%|█▏        | 60/500 [37:18<4:13:47, 34.61s/it, train_loss=1.09]"
          ]
        },
        {
          "name": "stdout",
          "output_type": "stream",
          "text": [
            "labels = tensor([0, 0, 0, 0, 1, 0, 0, 0, 0, 0, 0, 0, 0, 1, 0, 0])\n",
            "loss = <class 'torch.Tensor'>,tensor([1.0750], grad_fn=<UnsqueezeBackward0>),torch.Size([1])\n",
            "preds = tensor([1, 1, 1, 1, 1, 0, 1, 0, 1, 0, 0, 0, 1, 1, 0, 0])\n",
            "batch accuracy = 0.5625\n"
          ]
        },
        {
          "name": "stderr",
          "output_type": "stream",
          "text": [
            " 12%|█▏        | 61/500 [37:48<4:04:23, 33.40s/it, train_loss=1.09]"
          ]
        },
        {
          "name": "stdout",
          "output_type": "stream",
          "text": [
            "labels = tensor([0, 1, 1, 1, 0, 1, 1, 0, 0, 0, 0, 0, 1, 0, 1, 1])\n",
            "loss = <class 'torch.Tensor'>,tensor([1.0277], grad_fn=<UnsqueezeBackward0>),torch.Size([1])\n",
            "preds = tensor([0, 0, 1, 0, 1, 0, 1, 1, 1, 1, 0, 1, 1, 0, 1, 1])\n",
            "batch accuracy = 0.5\n"
          ]
        },
        {
          "name": "stderr",
          "output_type": "stream",
          "text": [
            " 12%|█▏        | 62/500 [38:23<4:07:06, 33.85s/it, train_loss=1.09]"
          ]
        },
        {
          "name": "stdout",
          "output_type": "stream",
          "text": [
            "labels = tensor([1, 0, 0, 0, 0, 0, 0, 0, 0, 1, 0, 1, 1, 0, 0, 0])\n",
            "loss = <class 'torch.Tensor'>,tensor([1.0752], grad_fn=<UnsqueezeBackward0>),torch.Size([1])\n",
            "preds = tensor([1, 1, 0, 0, 0, 1, 1, 0, 1, 1, 1, 0, 1, 0, 1, 0])\n",
            "batch accuracy = 0.5625\n"
          ]
        },
        {
          "name": "stderr",
          "output_type": "stream",
          "text": [
            " 13%|█▎        | 63/500 [38:55<4:01:33, 33.17s/it, train_loss=1.09]"
          ]
        },
        {
          "name": "stdout",
          "output_type": "stream",
          "text": [
            "labels = tensor([0, 0, 0, 0, 0, 0, 1, 1, 1, 0, 0, 0, 0, 0, 1, 1])\n",
            "loss = <class 'torch.Tensor'>,tensor([0.8243], grad_fn=<UnsqueezeBackward0>),torch.Size([1])\n",
            "preds = tensor([1, 1, 0, 0, 0, 0, 1, 1, 1, 1, 0, 0, 0, 0, 1, 1])\n",
            "batch accuracy = 0.8125\n"
          ]
        },
        {
          "name": "stderr",
          "output_type": "stream",
          "text": [
            " 13%|█▎        | 64/500 [39:30<4:05:40, 33.81s/it, train_loss=1.08]"
          ]
        },
        {
          "name": "stdout",
          "output_type": "stream",
          "text": [
            "labels = tensor([0, 0, 0, 0, 0, 1, 0, 0, 0, 0, 0, 1, 0, 0, 0, 1])\n",
            "loss = <class 'torch.Tensor'>,tensor([1.0203], grad_fn=<UnsqueezeBackward0>),torch.Size([1])\n",
            "preds = tensor([0, 0, 1, 1, 1, 1, 0, 1, 0, 0, 0, 1, 1, 1, 1, 1])\n",
            "batch accuracy = 0.5625\n"
          ]
        },
        {
          "name": "stderr",
          "output_type": "stream",
          "text": [
            " 13%|█▎        | 65/500 [40:04<4:05:43, 33.89s/it, train_loss=1.08]"
          ]
        },
        {
          "name": "stdout",
          "output_type": "stream",
          "text": [
            "labels = tensor([0, 0, 1, 0, 1, 0, 0, 1, 0, 1, 0, 0, 1, 0, 0, 1])\n",
            "loss = <class 'torch.Tensor'>,tensor([0.9239], grad_fn=<UnsqueezeBackward0>),torch.Size([1])\n",
            "preds = tensor([0, 1, 1, 0, 1, 1, 1, 1, 0, 1, 0, 1, 1, 0, 1, 1])\n",
            "batch accuracy = 0.6875\n"
          ]
        },
        {
          "name": "stderr",
          "output_type": "stream",
          "text": [
            " 13%|█▎        | 66/500 [40:37<4:02:51, 33.58s/it, train_loss=1.08]"
          ]
        },
        {
          "name": "stdout",
          "output_type": "stream",
          "text": [
            "labels = tensor([0, 0, 1, 0, 0, 0, 0, 1, 0, 0, 0, 0, 0, 0, 1, 0])\n",
            "loss = <class 'torch.Tensor'>,tensor([1.1287], grad_fn=<UnsqueezeBackward0>),torch.Size([1])\n",
            "preds = tensor([0, 1, 1, 0, 1, 0, 0, 0, 0, 1, 1, 1, 1, 1, 1, 0])\n",
            "batch accuracy = 0.5\n"
          ]
        },
        {
          "name": "stderr",
          "output_type": "stream",
          "text": [
            " 13%|█▎        | 67/500 [41:11<4:03:35, 33.75s/it, train_loss=1.08]"
          ]
        },
        {
          "name": "stdout",
          "output_type": "stream",
          "text": [
            "labels = tensor([1, 0, 0, 0, 0, 1, 1, 0, 0, 0, 1, 0, 0, 0, 1, 1])\n",
            "loss = <class 'torch.Tensor'>,tensor([0.9152], grad_fn=<UnsqueezeBackward0>),torch.Size([1])\n",
            "preds = tensor([1, 0, 1, 0, 0, 1, 1, 1, 0, 0, 1, 1, 0, 1, 1, 1])\n",
            "batch accuracy = 0.75\n"
          ]
        },
        {
          "name": "stderr",
          "output_type": "stream",
          "text": [
            " 14%|█▎        | 68/500 [41:42<3:57:14, 32.95s/it, train_loss=1.08]"
          ]
        },
        {
          "name": "stdout",
          "output_type": "stream",
          "text": [
            "labels = tensor([1, 0, 0, 1, 0, 0, 0, 0, 0, 0, 1, 0, 0, 0, 1, 1])\n",
            "loss = <class 'torch.Tensor'>,tensor([0.9267], grad_fn=<UnsqueezeBackward0>),torch.Size([1])\n",
            "preds = tensor([1, 0, 0, 1, 2, 2, 1, 0, 0, 1, 0, 0, 0, 1, 1, 1])\n",
            "batch accuracy = 0.625\n"
          ]
        },
        {
          "name": "stderr",
          "output_type": "stream",
          "text": [
            " 14%|█▍        | 69/500 [42:15<3:56:51, 32.97s/it, train_loss=1.07]"
          ]
        },
        {
          "name": "stdout",
          "output_type": "stream",
          "text": [
            "labels = tensor([0, 1, 1, 0, 1, 0, 1, 0, 1, 0, 1, 0, 1, 0, 0, 0])\n",
            "loss = <class 'torch.Tensor'>,tensor([0.9189], grad_fn=<UnsqueezeBackward0>),torch.Size([1])\n",
            "preds = tensor([0, 0, 1, 0, 1, 1, 0, 1, 1, 0, 1, 0, 1, 0, 0, 1])\n",
            "batch accuracy = 0.6875\n"
          ]
        },
        {
          "name": "stderr",
          "output_type": "stream",
          "text": [
            " 14%|█▍        | 70/500 [42:55<4:10:08, 34.90s/it, train_loss=1.07]"
          ]
        },
        {
          "name": "stdout",
          "output_type": "stream",
          "text": [
            "labels = tensor([0, 0, 0, 1, 0, 0, 1, 0, 0, 0, 1, 2, 1, 1, 0, 0])\n",
            "loss = <class 'torch.Tensor'>,tensor([0.8894], grad_fn=<UnsqueezeBackward0>),torch.Size([1])\n",
            "preds = tensor([1, 0, 0, 1, 0, 0, 1, 1, 0, 1, 1, 1, 1, 1, 0, 0])\n",
            "batch accuracy = 0.75\n"
          ]
        },
        {
          "name": "stderr",
          "output_type": "stream",
          "text": [
            " 14%|█▍        | 71/500 [43:39<4:30:37, 37.85s/it, train_loss=1.07]"
          ]
        },
        {
          "name": "stdout",
          "output_type": "stream",
          "text": [
            "labels = tensor([1, 0, 1, 0, 1, 0, 0, 1, 0, 1, 0, 0, 1, 0, 0, 0])\n",
            "loss = <class 'torch.Tensor'>,tensor([0.8982], grad_fn=<UnsqueezeBackward0>),torch.Size([1])\n",
            "preds = tensor([1, 0, 1, 0, 0, 1, 2, 1, 0, 1, 1, 0, 1, 0, 0, 1])\n",
            "batch accuracy = 0.6875\n"
          ]
        },
        {
          "name": "stderr",
          "output_type": "stream",
          "text": [
            " 14%|█▍        | 72/500 [44:04<4:01:13, 33.82s/it, train_loss=1.07]"
          ]
        },
        {
          "name": "stdout",
          "output_type": "stream",
          "text": [
            "labels = tensor([0, 0, 1, 0, 0, 0, 0, 0, 0, 0, 0, 0, 1, 0, 0, 0])\n",
            "loss = <class 'torch.Tensor'>,tensor([1.0174], grad_fn=<UnsqueezeBackward0>),torch.Size([1])\n",
            "preds = tensor([1, 0, 0, 1, 1, 0, 1, 1, 0, 0, 0, 0, 1, 1, 0, 0])\n",
            "batch accuracy = 0.5625\n"
          ]
        },
        {
          "name": "stderr",
          "output_type": "stream",
          "text": [
            " 15%|█▍        | 73/500 [44:51<4:28:25, 37.72s/it, train_loss=1.07]"
          ]
        },
        {
          "name": "stdout",
          "output_type": "stream",
          "text": [
            "labels = tensor([0, 0, 0, 0, 1, 0, 0, 0, 0, 0, 0, 0, 0, 1, 0, 0])\n",
            "loss = <class 'torch.Tensor'>,tensor([0.9527], grad_fn=<UnsqueezeBackward0>),torch.Size([1])\n",
            "preds = tensor([1, 0, 1, 0, 1, 0, 0, 1, 1, 0, 0, 1, 0, 1, 0, 1])\n",
            "batch accuracy = 0.625\n"
          ]
        },
        {
          "name": "stderr",
          "output_type": "stream",
          "text": [
            " 15%|█▍        | 74/500 [45:19<4:08:47, 35.04s/it, train_loss=1.06]"
          ]
        },
        {
          "name": "stdout",
          "output_type": "stream",
          "text": [
            "labels = tensor([0, 0, 0, 1, 1, 0, 1, 0, 0, 1, 0, 0, 0, 0, 1, 1])\n",
            "loss = <class 'torch.Tensor'>,tensor([0.8816], grad_fn=<UnsqueezeBackward0>),torch.Size([1])\n",
            "preds = tensor([0, 1, 0, 1, 1, 1, 1, 1, 0, 1, 0, 0, 0, 0, 0, 1])\n",
            "batch accuracy = 0.75\n"
          ]
        },
        {
          "name": "stderr",
          "output_type": "stream",
          "text": [
            " 15%|█▌        | 75/500 [45:57<4:13:39, 35.81s/it, train_loss=1.06]"
          ]
        },
        {
          "name": "stdout",
          "output_type": "stream",
          "text": [
            "labels = tensor([0, 0, 1, 0, 0, 0, 0, 0, 1, 1, 0, 0, 1, 0, 0, 2])\n",
            "loss = <class 'torch.Tensor'>,tensor([1.0036], grad_fn=<UnsqueezeBackward0>),torch.Size([1])\n",
            "preds = tensor([0, 1, 1, 0, 1, 1, 0, 0, 1, 0, 1, 0, 1, 0, 1, 1])\n",
            "batch accuracy = 0.5625\n"
          ]
        },
        {
          "name": "stderr",
          "output_type": "stream",
          "text": [
            " 15%|█▌        | 76/500 [46:29<4:05:38, 34.76s/it, train_loss=1.06]"
          ]
        },
        {
          "name": "stdout",
          "output_type": "stream",
          "text": [
            "labels = tensor([1, 0, 0, 1, 1, 2, 0, 1, 0, 0, 0, 1, 0, 0, 0, 1])\n",
            "loss = <class 'torch.Tensor'>,tensor([0.8761], grad_fn=<UnsqueezeBackward0>),torch.Size([1])\n",
            "preds = tensor([1, 0, 1, 1, 1, 0, 0, 1, 0, 0, 1, 1, 1, 0, 0, 1])\n",
            "batch accuracy = 0.75\n"
          ]
        },
        {
          "name": "stderr",
          "output_type": "stream",
          "text": [
            " 15%|█▌        | 77/500 [47:06<4:08:29, 35.25s/it, train_loss=1.06]"
          ]
        },
        {
          "name": "stdout",
          "output_type": "stream",
          "text": [
            "labels = tensor([0, 0, 0, 0, 1, 1, 0, 0, 0, 0, 0, 0, 1, 0, 0, 0])\n",
            "loss = <class 'torch.Tensor'>,tensor([1.0816], grad_fn=<UnsqueezeBackward0>),torch.Size([1])\n",
            "preds = tensor([1, 1, 2, 1, 1, 1, 1, 0, 0, 0, 0, 1, 0, 0, 1, 1])\n",
            "batch accuracy = 0.4375\n"
          ]
        },
        {
          "name": "stderr",
          "output_type": "stream",
          "text": [
            " 16%|█▌        | 78/500 [47:32<3:49:25, 32.62s/it, train_loss=1.06]"
          ]
        },
        {
          "name": "stdout",
          "output_type": "stream",
          "text": [
            "labels = tensor([0, 0, 1, 0, 0, 0, 0, 1, 0, 0, 0, 0, 0, 1, 0, 1])\n",
            "loss = <class 'torch.Tensor'>,tensor([0.8815], grad_fn=<UnsqueezeBackward0>),torch.Size([1])\n",
            "preds = tensor([0, 0, 1, 1, 0, 1, 1, 1, 0, 1, 1, 0, 1, 1, 0, 1])\n",
            "batch accuracy = 0.625\n"
          ]
        },
        {
          "name": "stderr",
          "output_type": "stream",
          "text": [
            " 16%|█▌        | 79/500 [48:01<3:40:30, 31.43s/it, train_loss=1.06]"
          ]
        },
        {
          "name": "stdout",
          "output_type": "stream",
          "text": [
            "labels = tensor([0, 0, 1, 0, 1, 1, 0, 1, 1, 0, 0, 0, 0, 1, 1, 1])\n",
            "loss = <class 'torch.Tensor'>,tensor([0.9250], grad_fn=<UnsqueezeBackward0>),torch.Size([1])\n",
            "preds = tensor([0, 1, 1, 0, 1, 1, 0, 1, 1, 0, 1, 0, 1, 1, 0, 0])\n",
            "batch accuracy = 0.6875\n"
          ]
        },
        {
          "name": "stderr",
          "output_type": "stream",
          "text": [
            " 16%|█▌        | 80/500 [48:46<4:08:22, 35.48s/it, train_loss=1.06]"
          ]
        },
        {
          "name": "stdout",
          "output_type": "stream",
          "text": [
            "labels = tensor([0, 0, 0, 1, 0, 0, 0, 0, 1, 0, 0, 1, 0, 0, 0, 0])\n",
            "loss = <class 'torch.Tensor'>,tensor([0.9408], grad_fn=<UnsqueezeBackward0>),torch.Size([1])\n",
            "preds = tensor([0, 0, 0, 1, 1, 1, 0, 1, 1, 1, 0, 0, 1, 0, 0, 1])\n",
            "batch accuracy = 0.5625\n"
          ]
        },
        {
          "name": "stderr",
          "output_type": "stream",
          "text": [
            " 16%|█▌        | 81/500 [49:17<3:59:31, 34.30s/it, train_loss=1.05]"
          ]
        },
        {
          "name": "stdout",
          "output_type": "stream",
          "text": [
            "labels = tensor([0, 1, 0, 0, 0, 1, 0, 0, 0, 0, 0, 0, 0, 0, 0, 0])\n",
            "loss = <class 'torch.Tensor'>,tensor([0.9665], grad_fn=<UnsqueezeBackward0>),torch.Size([1])\n",
            "preds = tensor([1, 1, 0, 0, 0, 1, 0, 1, 1, 0, 1, 0, 1, 1, 1, 0])\n",
            "batch accuracy = 0.5625\n"
          ]
        },
        {
          "name": "stderr",
          "output_type": "stream",
          "text": [
            " 16%|█▋        | 82/500 [49:58<4:12:48, 36.29s/it, train_loss=1.05]"
          ]
        },
        {
          "name": "stdout",
          "output_type": "stream",
          "text": [
            "labels = tensor([0, 0, 0, 0, 1, 0, 0, 1, 1, 1, 1, 1, 0, 0, 0, 0])\n",
            "loss = <class 'torch.Tensor'>,tensor([0.9313], grad_fn=<UnsqueezeBackward0>),torch.Size([1])\n",
            "preds = tensor([1, 0, 0, 0, 1, 1, 1, 1, 0, 0, 1, 1, 1, 0, 1, 0])\n",
            "batch accuracy = 0.5625\n"
          ]
        },
        {
          "name": "stderr",
          "output_type": "stream",
          "text": [
            " 17%|█▋        | 83/500 [50:37<4:16:29, 36.91s/it, train_loss=1.05]"
          ]
        },
        {
          "name": "stdout",
          "output_type": "stream",
          "text": [
            "labels = tensor([1, 0, 0, 1, 0, 1, 0, 0, 1, 0, 1, 2, 2, 0, 1, 1])\n",
            "loss = <class 'torch.Tensor'>,tensor([0.9340], grad_fn=<UnsqueezeBackward0>),torch.Size([1])\n",
            "preds = tensor([1, 0, 1, 1, 1, 0, 0, 0, 1, 1, 1, 1, 1, 0, 1, 1])\n",
            "batch accuracy = 0.625\n"
          ]
        },
        {
          "name": "stderr",
          "output_type": "stream",
          "text": [
            " 17%|█▋        | 84/500 [51:16<4:21:27, 37.71s/it, train_loss=1.05]"
          ]
        },
        {
          "name": "stdout",
          "output_type": "stream",
          "text": [
            "labels = tensor([1, 0, 0, 1, 1, 0, 0, 0, 0, 0, 0, 0, 0, 1, 0, 1])\n",
            "loss = <class 'torch.Tensor'>,tensor([0.9803], grad_fn=<UnsqueezeBackward0>),torch.Size([1])\n",
            "preds = tensor([1, 1, 1, 1, 0, 0, 0, 0, 0, 0, 1, 0, 1, 1, 1, 0])\n",
            "batch accuracy = 0.5625\n"
          ]
        },
        {
          "name": "stderr",
          "output_type": "stream",
          "text": [
            " 17%|█▋        | 85/500 [52:06<4:46:58, 41.49s/it, train_loss=1.05]"
          ]
        },
        {
          "name": "stdout",
          "output_type": "stream",
          "text": [
            "labels = tensor([0, 0, 0, 0, 0, 0, 0, 0, 1, 0, 2, 0, 1, 0, 0, 1])\n",
            "loss = <class 'torch.Tensor'>,tensor([0.8487], grad_fn=<UnsqueezeBackward0>),torch.Size([1])\n",
            "preds = tensor([0, 0, 0, 0, 1, 0, 1, 0, 1, 0, 1, 0, 1, 0, 1, 1])\n",
            "batch accuracy = 0.75\n"
          ]
        },
        {
          "name": "stderr",
          "output_type": "stream",
          "text": [
            " 17%|█▋        | 86/500 [52:38<4:26:07, 38.57s/it, train_loss=1.05]"
          ]
        },
        {
          "name": "stdout",
          "output_type": "stream",
          "text": [
            "labels = tensor([1, 1, 0, 0, 1, 0, 1, 1, 0, 1, 0, 0, 0, 0, 0, 0])\n",
            "loss = <class 'torch.Tensor'>,tensor([0.7763], grad_fn=<UnsqueezeBackward0>),torch.Size([1])\n",
            "preds = tensor([1, 1, 0, 0, 1, 0, 1, 1, 1, 1, 0, 0, 0, 0, 0, 0])\n",
            "batch accuracy = 0.9375\n"
          ]
        },
        {
          "name": "stderr",
          "output_type": "stream",
          "text": [
            " 17%|█▋        | 87/500 [53:19<4:30:15, 39.26s/it, train_loss=1.04]"
          ]
        },
        {
          "name": "stdout",
          "output_type": "stream",
          "text": [
            "labels = tensor([0, 1, 0, 0, 0, 0, 0, 0, 1, 1, 0, 1, 1, 0, 0, 1])\n",
            "loss = <class 'torch.Tensor'>,tensor([0.9663], grad_fn=<UnsqueezeBackward0>),torch.Size([1])\n",
            "preds = tensor([1, 1, 1, 0, 0, 1, 1, 0, 1, 1, 1, 1, 0, 1, 0, 1])\n",
            "batch accuracy = 0.5625\n"
          ]
        },
        {
          "name": "stderr",
          "output_type": "stream",
          "text": [
            " 18%|█▊        | 88/500 [54:14<5:02:48, 44.10s/it, train_loss=1.04]"
          ]
        },
        {
          "name": "stdout",
          "output_type": "stream",
          "text": [
            "labels = tensor([0, 0, 0, 0, 1, 0, 0, 1, 0, 0, 1, 1, 1, 0, 0, 0])\n",
            "loss = <class 'torch.Tensor'>,tensor([0.8862], grad_fn=<UnsqueezeBackward0>),torch.Size([1])\n",
            "preds = tensor([0, 1, 0, 1, 1, 0, 1, 1, 1, 0, 1, 1, 1, 1, 0, 1])\n",
            "batch accuracy = 0.625\n"
          ]
        },
        {
          "name": "stderr",
          "output_type": "stream",
          "text": [
            " 18%|█▊        | 89/500 [54:41<4:25:41, 38.79s/it, train_loss=1.04]"
          ]
        },
        {
          "name": "stdout",
          "output_type": "stream",
          "text": [
            "labels = tensor([1, 1, 0, 0, 0, 1, 1, 0, 1, 0, 0, 0, 1, 1, 0, 0])\n",
            "loss = <class 'torch.Tensor'>,tensor([0.8205], grad_fn=<UnsqueezeBackward0>),torch.Size([1])\n",
            "preds = tensor([0, 1, 0, 1, 0, 1, 1, 1, 1, 1, 0, 0, 1, 1, 0, 0])\n",
            "batch accuracy = 0.75\n"
          ]
        },
        {
          "name": "stderr",
          "output_type": "stream",
          "text": [
            " 18%|█▊        | 90/500 [55:24<4:34:29, 40.17s/it, train_loss=1.04]"
          ]
        },
        {
          "name": "stdout",
          "output_type": "stream",
          "text": [
            "labels = tensor([1, 1, 0, 1, 0, 1, 0, 0, 0, 1, 1, 1, 0, 0, 0, 0])\n",
            "loss = <class 'torch.Tensor'>,tensor([0.8033], grad_fn=<UnsqueezeBackward0>),torch.Size([1])\n",
            "preds = tensor([1, 1, 0, 1, 0, 0, 0, 1, 0, 1, 1, 1, 0, 1, 0, 0])\n",
            "batch accuracy = 0.8125\n"
          ]
        },
        {
          "name": "stderr",
          "output_type": "stream",
          "text": [
            " 18%|█▊        | 91/500 [56:18<5:01:11, 44.19s/it, train_loss=1.04]"
          ]
        },
        {
          "name": "stdout",
          "output_type": "stream",
          "text": [
            "labels = tensor([0, 0, 1, 0, 1, 1, 0, 1, 1, 1, 0, 0, 1, 0, 1, 0])\n",
            "loss = <class 'torch.Tensor'>,tensor([0.8074], grad_fn=<UnsqueezeBackward0>),torch.Size([1])\n",
            "preds = tensor([0, 0, 1, 0, 1, 1, 0, 1, 0, 0, 0, 1, 1, 0, 1, 0])\n",
            "batch accuracy = 0.8125\n"
          ]
        },
        {
          "name": "stderr",
          "output_type": "stream",
          "text": [
            " 18%|█▊        | 92/500 [57:01<4:59:19, 44.02s/it, train_loss=1.03]"
          ]
        },
        {
          "name": "stdout",
          "output_type": "stream",
          "text": [
            "labels = tensor([0, 0, 0, 0, 0, 1, 1, 1, 0, 0, 0, 0, 0, 1, 1, 0])\n",
            "loss = <class 'torch.Tensor'>,tensor([0.7355], grad_fn=<UnsqueezeBackward0>),torch.Size([1])\n",
            "preds = tensor([0, 0, 1, 0, 0, 1, 1, 1, 1, 0, 0, 0, 0, 1, 1, 0])\n",
            "batch accuracy = 0.875\n"
          ]
        },
        {
          "name": "stderr",
          "output_type": "stream",
          "text": [
            " 19%|█▊        | 93/500 [57:38<4:42:35, 41.66s/it, train_loss=1.03]"
          ]
        },
        {
          "name": "stdout",
          "output_type": "stream",
          "text": [
            "labels = tensor([0, 1, 0, 0, 0, 1, 1, 0, 1, 0, 1, 0, 1, 0, 1, 1])\n",
            "loss = <class 'torch.Tensor'>,tensor([0.8985], grad_fn=<UnsqueezeBackward0>),torch.Size([1])\n",
            "preds = tensor([0, 1, 0, 1, 0, 0, 1, 0, 1, 0, 1, 0, 0, 1, 0, 1])\n",
            "batch accuracy = 0.6875\n"
          ]
        },
        {
          "name": "stderr",
          "output_type": "stream",
          "text": [
            " 19%|█▉        | 94/500 [58:33<5:08:53, 45.65s/it, train_loss=1.03]"
          ]
        },
        {
          "name": "stdout",
          "output_type": "stream",
          "text": [
            "labels = tensor([1, 0, 0, 0, 0, 0, 0, 0, 1, 1, 0, 0, 0, 0, 0, 1])\n",
            "loss = <class 'torch.Tensor'>,tensor([0.9296], grad_fn=<UnsqueezeBackward0>),torch.Size([1])\n",
            "preds = tensor([1, 0, 1, 0, 1, 1, 1, 0, 1, 1, 0, 1, 0, 0, 0, 1])\n",
            "batch accuracy = 0.6875\n"
          ]
        },
        {
          "name": "stderr",
          "output_type": "stream",
          "text": [
            " 19%|█▉        | 95/500 [59:00<4:31:55, 40.29s/it, train_loss=1.03]"
          ]
        },
        {
          "name": "stdout",
          "output_type": "stream",
          "text": [
            "labels = tensor([0, 0, 0, 0, 1, 0, 0, 1, 1, 0, 0, 1, 0, 0, 1, 0])\n",
            "loss = <class 'torch.Tensor'>,tensor([0.8931], grad_fn=<UnsqueezeBackward0>),torch.Size([1])\n",
            "preds = tensor([1, 1, 0, 0, 1, 0, 0, 1, 1, 2, 0, 1, 0, 1, 1, 1])\n",
            "batch accuracy = 0.6875\n"
          ]
        },
        {
          "name": "stderr",
          "output_type": "stream",
          "text": [
            " 19%|█▉        | 96/500 [59:38<4:25:10, 39.38s/it, train_loss=1.03]"
          ]
        },
        {
          "name": "stdout",
          "output_type": "stream",
          "text": [
            "labels = tensor([0, 0, 0, 0, 1, 0, 0, 0, 0, 0, 0, 0, 1, 0, 0, 1])\n",
            "loss = <class 'torch.Tensor'>,tensor([0.9178], grad_fn=<UnsqueezeBackward0>),torch.Size([1])\n",
            "preds = tensor([1, 0, 0, 1, 1, 0, 1, 1, 0, 0, 0, 0, 1, 1, 0, 1])\n",
            "batch accuracy = 0.6875\n"
          ]
        },
        {
          "name": "stderr",
          "output_type": "stream",
          "text": [
            " 19%|█▉        | 97/500 [1:00:34<4:58:50, 44.49s/it, train_loss=1.03]"
          ]
        },
        {
          "name": "stdout",
          "output_type": "stream",
          "text": [
            "labels = tensor([0, 0, 1, 0, 0, 0, 1, 0, 1, 1, 0, 0, 1, 0, 0, 0])\n",
            "loss = <class 'torch.Tensor'>,tensor([0.8903], grad_fn=<UnsqueezeBackward0>),torch.Size([1])\n",
            "preds = tensor([0, 1, 1, 1, 0, 0, 0, 0, 1, 1, 0, 1, 1, 0, 1, 0])\n",
            "batch accuracy = 0.6875\n"
          ]
        },
        {
          "name": "stderr",
          "output_type": "stream",
          "text": [
            " 20%|█▉        | 98/500 [1:01:11<4:43:44, 42.35s/it, train_loss=1.02]"
          ]
        },
        {
          "name": "stdout",
          "output_type": "stream",
          "text": [
            "labels = tensor([0, 0, 0, 1, 0, 0, 0, 0, 0, 1, 0, 1, 1, 1, 0, 1])\n",
            "loss = <class 'torch.Tensor'>,tensor([0.9193], grad_fn=<UnsqueezeBackward0>),torch.Size([1])\n",
            "preds = tensor([1, 1, 1, 1, 1, 0, 0, 0, 0, 1, 0, 0, 1, 1, 0, 1])\n",
            "batch accuracy = 0.6875\n"
          ]
        },
        {
          "name": "stderr",
          "output_type": "stream",
          "text": [
            " 20%|█▉        | 99/500 [1:01:42<4:19:51, 38.88s/it, train_loss=1.02]"
          ]
        },
        {
          "name": "stdout",
          "output_type": "stream",
          "text": [
            "labels = tensor([0, 0, 0, 0, 1, 0, 1, 0, 0, 0, 0, 1, 0, 1, 1, 0])\n",
            "loss = <class 'torch.Tensor'>,tensor([0.9272], grad_fn=<UnsqueezeBackward0>),torch.Size([1])\n",
            "preds = tensor([0, 0, 1, 0, 1, 1, 1, 0, 1, 1, 0, 1, 0, 0, 1, 1])\n",
            "batch accuracy = 0.625\n"
          ]
        },
        {
          "name": "stderr",
          "output_type": "stream",
          "text": [
            " 20%|██        | 100/500 [1:02:17<4:11:22, 37.71s/it, train_loss=1.02]"
          ]
        },
        {
          "name": "stdout",
          "output_type": "stream",
          "text": [
            "labels = tensor([0, 0, 0, 1, 0, 1, 0, 0, 0, 1, 0, 0, 1, 1, 0, 1])\n",
            "loss = <class 'torch.Tensor'>,tensor([0.8180], grad_fn=<UnsqueezeBackward0>),torch.Size([1])\n",
            "preds = tensor([0, 0, 0, 1, 1, 0, 0, 1, 1, 1, 0, 1, 1, 1, 0, 1])\n",
            "batch accuracy = 0.6875\n"
          ]
        },
        {
          "name": "stderr",
          "output_type": "stream",
          "text": [
            " 20%|██        | 101/500 [1:02:54<4:08:37, 37.39s/it, train_loss=1.02]"
          ]
        },
        {
          "name": "stdout",
          "output_type": "stream",
          "text": [
            "labels = tensor([0, 0, 0, 0, 0, 1, 0, 0, 1, 1, 0, 0, 1, 0, 0, 0])\n",
            "loss = <class 'torch.Tensor'>,tensor([1.0812], grad_fn=<UnsqueezeBackward0>),torch.Size([1])\n",
            "preds = tensor([0, 1, 0, 1, 1, 1, 1, 1, 0, 1, 0, 0, 1, 0, 1, 1])\n",
            "batch accuracy = 0.5\n"
          ]
        },
        {
          "name": "stderr",
          "output_type": "stream",
          "text": [
            " 20%|██        | 102/500 [1:03:30<4:05:47, 37.05s/it, train_loss=1.02]"
          ]
        },
        {
          "name": "stdout",
          "output_type": "stream",
          "text": [
            "labels = tensor([0, 0, 1, 0, 1, 0, 0, 1, 1, 0, 0, 1, 0, 0, 0, 0])\n",
            "loss = <class 'torch.Tensor'>,tensor([0.9149], grad_fn=<UnsqueezeBackward0>),torch.Size([1])\n",
            "preds = tensor([0, 1, 1, 0, 1, 0, 0, 0, 1, 0, 1, 1, 0, 1, 1, 0])\n",
            "batch accuracy = 0.6875\n"
          ]
        },
        {
          "name": "stderr",
          "output_type": "stream",
          "text": [
            " 21%|██        | 103/500 [1:04:01<3:53:59, 35.36s/it, train_loss=1.02]"
          ]
        },
        {
          "name": "stdout",
          "output_type": "stream",
          "text": [
            "labels = tensor([0, 1, 0, 1, 0, 0, 0, 1, 0, 0, 0, 1, 0, 0, 0, 0])\n",
            "loss = <class 'torch.Tensor'>,tensor([0.8405], grad_fn=<UnsqueezeBackward0>),torch.Size([1])\n",
            "preds = tensor([0, 1, 1, 1, 0, 0, 0, 1, 1, 0, 0, 1, 1, 0, 1, 0])\n",
            "batch accuracy = 0.75\n"
          ]
        },
        {
          "name": "stderr",
          "output_type": "stream",
          "text": [
            " 21%|██        | 104/500 [1:04:49<4:16:49, 38.91s/it, train_loss=1.02]"
          ]
        },
        {
          "name": "stdout",
          "output_type": "stream",
          "text": [
            "labels = tensor([0, 0, 0, 0, 1, 1, 1, 0, 1, 0, 0, 1, 1, 0, 0, 0])\n",
            "loss = <class 'torch.Tensor'>,tensor([0.7312], grad_fn=<UnsqueezeBackward0>),torch.Size([1])\n",
            "preds = tensor([1, 0, 0, 0, 1, 1, 1, 0, 1, 1, 0, 1, 1, 0, 0, 1])\n",
            "batch accuracy = 0.8125\n"
          ]
        },
        {
          "name": "stderr",
          "output_type": "stream",
          "text": [
            " 21%|██        | 105/500 [1:05:24<4:09:36, 37.92s/it, train_loss=1.02]"
          ]
        },
        {
          "name": "stdout",
          "output_type": "stream",
          "text": [
            "labels = tensor([1, 1, 0, 0, 0, 0, 0, 1, 0, 0, 0, 0, 1, 0, 0, 0])\n",
            "loss = <class 'torch.Tensor'>,tensor([0.7804], grad_fn=<UnsqueezeBackward0>),torch.Size([1])\n",
            "preds = tensor([1, 1, 0, 0, 1, 0, 0, 1, 1, 0, 0, 1, 1, 1, 0, 0])\n",
            "batch accuracy = 0.75\n"
          ]
        },
        {
          "name": "stderr",
          "output_type": "stream",
          "text": [
            " 21%|██        | 106/500 [1:05:57<3:57:52, 36.22s/it, train_loss=1.01]"
          ]
        },
        {
          "name": "stdout",
          "output_type": "stream",
          "text": [
            "labels = tensor([1, 0, 0, 1, 0, 2, 1, 1, 0, 0, 0, 1, 0, 0, 0, 0])\n",
            "loss = <class 'torch.Tensor'>,tensor([0.9149], grad_fn=<UnsqueezeBackward0>),torch.Size([1])\n",
            "preds = tensor([1, 1, 0, 1, 0, 1, 1, 1, 0, 0, 1, 1, 1, 1, 0, 0])\n",
            "batch accuracy = 0.6875\n"
          ]
        },
        {
          "name": "stderr",
          "output_type": "stream",
          "text": [
            " 21%|██▏       | 107/500 [1:06:21<3:33:28, 32.59s/it, train_loss=1.01]"
          ]
        },
        {
          "name": "stdout",
          "output_type": "stream",
          "text": [
            "labels = tensor([0, 0, 0, 1, 2, 1, 0, 1, 0, 0, 0, 1, 0, 0, 0, 1])\n",
            "loss = <class 'torch.Tensor'>,tensor([0.7997], grad_fn=<UnsqueezeBackward0>),torch.Size([1])\n",
            "preds = tensor([0, 0, 0, 1, 0, 1, 0, 0, 1, 0, 1, 1, 1, 0, 0, 1])\n",
            "batch accuracy = 0.6875\n"
          ]
        },
        {
          "name": "stderr",
          "output_type": "stream",
          "text": [
            " 22%|██▏       | 108/500 [1:06:58<3:43:09, 34.16s/it, train_loss=1.01]"
          ]
        },
        {
          "name": "stdout",
          "output_type": "stream",
          "text": [
            "labels = tensor([0, 0, 0, 0, 0, 0, 1, 0, 0, 0, 1, 0, 0, 1, 0, 0])\n",
            "loss = <class 'torch.Tensor'>,tensor([0.8971], grad_fn=<UnsqueezeBackward0>),torch.Size([1])\n",
            "preds = tensor([1, 0, 0, 1, 0, 0, 0, 0, 0, 1, 1, 0, 0, 1, 0, 0])\n",
            "batch accuracy = 0.75\n"
          ]
        },
        {
          "name": "stderr",
          "output_type": "stream",
          "text": [
            " 22%|██▏       | 109/500 [1:07:40<3:56:25, 36.28s/it, train_loss=1.01]"
          ]
        },
        {
          "name": "stdout",
          "output_type": "stream",
          "text": [
            "labels = tensor([1, 0, 0, 1, 0, 1, 0, 0, 0, 1, 0, 0, 0, 0, 0, 0])\n",
            "loss = <class 'torch.Tensor'>,tensor([0.8293], grad_fn=<UnsqueezeBackward0>),torch.Size([1])\n",
            "preds = tensor([1, 0, 0, 1, 0, 1, 1, 0, 0, 0, 0, 1, 0, 1, 0, 1])\n",
            "batch accuracy = 0.6875\n"
          ]
        },
        {
          "name": "stderr",
          "output_type": "stream",
          "text": [
            " 22%|██▏       | 110/500 [1:08:13<3:50:56, 35.53s/it, train_loss=1.01]"
          ]
        },
        {
          "name": "stdout",
          "output_type": "stream",
          "text": [
            "labels = tensor([0, 1, 0, 0, 1, 0, 1, 1, 0, 0, 1, 0, 0, 0, 1, 1])\n",
            "loss = <class 'torch.Tensor'>,tensor([0.8019], grad_fn=<UnsqueezeBackward0>),torch.Size([1])\n",
            "preds = tensor([0, 0, 0, 0, 1, 0, 1, 0, 0, 1, 1, 1, 0, 0, 1, 1])\n",
            "batch accuracy = 0.75\n"
          ]
        },
        {
          "name": "stderr",
          "output_type": "stream",
          "text": [
            " 22%|██▏       | 111/500 [1:08:54<4:00:35, 37.11s/it, train_loss=1.01]"
          ]
        },
        {
          "name": "stdout",
          "output_type": "stream",
          "text": [
            "labels = tensor([1, 0, 1, 1, 0, 0, 0, 0, 1, 0, 0, 0, 1, 0, 0, 0])\n",
            "loss = <class 'torch.Tensor'>,tensor([0.8515], grad_fn=<UnsqueezeBackward0>),torch.Size([1])\n",
            "preds = tensor([1, 1, 1, 1, 0, 0, 0, 0, 1, 1, 1, 0, 1, 1, 0, 0])\n",
            "batch accuracy = 0.75\n"
          ]
        },
        {
          "name": "stderr",
          "output_type": "stream",
          "text": [
            " 22%|██▏       | 112/500 [1:09:28<3:53:30, 36.11s/it, train_loss=1]"
          ]
        },
        {
          "name": "stdout",
          "output_type": "stream",
          "text": [
            "labels = tensor([1, 0, 0, 1, 0, 0, 0, 0, 0, 0, 0, 0, 0, 1, 0, 1])\n",
            "loss = <class 'torch.Tensor'>,tensor([0.8497], grad_fn=<UnsqueezeBackward0>),torch.Size([1])\n",
            "preds = tensor([1, 1, 1, 1, 1, 0, 0, 0, 1, 0, 1, 0, 0, 1, 0, 1])\n",
            "batch accuracy = 0.6875\n"
          ]
        },
        {
          "name": "stderr",
          "output_type": "stream",
          "text": [
            " 23%|██▎       | 113/500 [1:09:54<3:32:41, 32.97s/it, train_loss=1]"
          ]
        },
        {
          "name": "stdout",
          "output_type": "stream",
          "text": [
            "labels = tensor([0, 0, 1, 0, 1, 1, 1, 0, 1, 1, 1, 0, 0, 1, 1, 0])\n",
            "loss = <class 'torch.Tensor'>,tensor([0.8072], grad_fn=<UnsqueezeBackward0>),torch.Size([1])\n",
            "preds = tensor([0, 0, 0, 0, 0, 1, 1, 1, 1, 1, 1, 1, 0, 1, 1, 0])\n",
            "batch accuracy = 0.75\n"
          ]
        },
        {
          "name": "stderr",
          "output_type": "stream",
          "text": [
            " 23%|██▎       | 114/500 [1:10:44<4:06:31, 38.32s/it, train_loss=1]"
          ]
        },
        {
          "name": "stdout",
          "output_type": "stream",
          "text": [
            "labels = tensor([0, 1, 0, 0, 0, 0, 0, 0, 0, 0, 1, 1, 0, 0, 1, 0])\n",
            "loss = <class 'torch.Tensor'>,tensor([0.8237], grad_fn=<UnsqueezeBackward0>),torch.Size([1])\n",
            "preds = tensor([0, 1, 1, 1, 0, 0, 0, 1, 1, 0, 1, 1, 1, 1, 0, 0])\n",
            "batch accuracy = 0.5625\n"
          ]
        },
        {
          "name": "stderr",
          "output_type": "stream",
          "text": [
            " 23%|██▎       | 115/500 [1:11:24<4:08:30, 38.73s/it, train_loss=1]"
          ]
        },
        {
          "name": "stdout",
          "output_type": "stream",
          "text": [
            "labels = tensor([0, 1, 0, 0, 0, 1, 1, 0, 0, 1, 0, 0, 0, 0, 0, 1])\n",
            "loss = <class 'torch.Tensor'>,tensor([0.7353], grad_fn=<UnsqueezeBackward0>),torch.Size([1])\n",
            "preds = tensor([0, 1, 0, 0, 1, 1, 1, 1, 0, 1, 0, 0, 0, 1, 0, 1])\n",
            "batch accuracy = 0.8125\n"
          ]
        },
        {
          "name": "stderr",
          "output_type": "stream",
          "text": [
            " 23%|██▎       | 116/500 [1:12:01<4:04:55, 38.27s/it, train_loss=0.997]"
          ]
        },
        {
          "name": "stdout",
          "output_type": "stream",
          "text": [
            "labels = tensor([2, 0, 0, 0, 0, 1, 1, 1, 1, 0, 0, 1, 0, 0, 1, 0])\n",
            "loss = <class 'torch.Tensor'>,tensor([0.8798], grad_fn=<UnsqueezeBackward0>),torch.Size([1])\n",
            "preds = tensor([1, 1, 0, 0, 0, 0, 0, 1, 1, 0, 1, 1, 0, 0, 1, 1])\n",
            "batch accuracy = 0.625\n"
          ]
        },
        {
          "name": "stderr",
          "output_type": "stream",
          "text": [
            " 23%|██▎       | 117/500 [1:12:37<3:59:48, 37.57s/it, train_loss=0.996]"
          ]
        },
        {
          "name": "stdout",
          "output_type": "stream",
          "text": [
            "labels = tensor([0, 0, 1, 1, 2, 0, 0, 1, 0, 1, 0, 0, 0, 0, 0, 1])\n",
            "loss = <class 'torch.Tensor'>,tensor([0.8061], grad_fn=<UnsqueezeBackward0>),torch.Size([1])\n",
            "preds = tensor([0, 0, 1, 1, 1, 1, 1, 1, 0, 1, 0, 0, 0, 0, 0, 0])\n",
            "batch accuracy = 0.75\n"
          ]
        },
        {
          "name": "stderr",
          "output_type": "stream",
          "text": [
            " 24%|██▎       | 118/500 [1:13:21<4:10:20, 39.32s/it, train_loss=0.995]"
          ]
        },
        {
          "name": "stdout",
          "output_type": "stream",
          "text": [
            "labels = tensor([0, 0, 1, 0, 1, 1, 1, 0, 0, 0, 0, 0, 0, 1, 1, 0])\n",
            "loss = <class 'torch.Tensor'>,tensor([0.7709], grad_fn=<UnsqueezeBackward0>),torch.Size([1])\n",
            "preds = tensor([0, 0, 0, 0, 1, 1, 1, 1, 0, 1, 1, 0, 1, 1, 1, 0])\n",
            "batch accuracy = 0.6875\n"
          ]
        },
        {
          "name": "stderr",
          "output_type": "stream",
          "text": [
            " 24%|██▍       | 119/500 [1:14:01<4:11:56, 39.68s/it, train_loss=0.993]"
          ]
        },
        {
          "name": "stdout",
          "output_type": "stream",
          "text": [
            "labels = tensor([0, 0, 0, 2, 0, 0, 0, 1, 1, 1, 0, 0, 1, 1, 0, 0])\n",
            "loss = <class 'torch.Tensor'>,tensor([0.7286], grad_fn=<UnsqueezeBackward0>),torch.Size([1])\n",
            "preds = tensor([1, 0, 0, 1, 0, 0, 0, 1, 1, 0, 0, 0, 1, 1, 0, 0])\n",
            "batch accuracy = 0.8125\n"
          ]
        },
        {
          "name": "stderr",
          "output_type": "stream",
          "text": [
            " 24%|██▍       | 120/500 [1:14:36<4:02:33, 38.30s/it, train_loss=0.991]"
          ]
        },
        {
          "name": "stdout",
          "output_type": "stream",
          "text": [
            "labels = tensor([0, 0, 0, 0, 0, 0, 1, 0, 1, 0, 0, 0, 1, 0, 0, 0])\n",
            "loss = <class 'torch.Tensor'>,tensor([0.7794], grad_fn=<UnsqueezeBackward0>),torch.Size([1])\n",
            "preds = tensor([1, 1, 1, 0, 0, 1, 1, 0, 1, 0, 0, 0, 1, 0, 0, 0])\n",
            "batch accuracy = 0.75\n"
          ]
        },
        {
          "name": "stderr",
          "output_type": "stream",
          "text": [
            " 24%|██▍       | 121/500 [1:15:20<4:11:48, 39.86s/it, train_loss=0.989]"
          ]
        },
        {
          "name": "stdout",
          "output_type": "stream",
          "text": [
            "labels = tensor([1, 0, 1, 1, 1, 0, 0, 1, 0, 1, 1, 0, 0, 0, 1, 0])\n",
            "loss = <class 'torch.Tensor'>,tensor([0.8232], grad_fn=<UnsqueezeBackward0>),torch.Size([1])\n",
            "preds = tensor([1, 0, 1, 1, 0, 1, 0, 0, 0, 1, 1, 0, 1, 0, 0, 0])\n",
            "batch accuracy = 0.6875\n"
          ]
        },
        {
          "name": "stderr",
          "output_type": "stream",
          "text": [
            " 24%|██▍       | 122/500 [1:15:52<3:56:07, 37.48s/it, train_loss=0.988]"
          ]
        },
        {
          "name": "stdout",
          "output_type": "stream",
          "text": [
            "labels = tensor([0, 1, 2, 1, 0, 0, 0, 1, 0, 0, 0, 0, 0, 1, 0, 0])\n",
            "loss = <class 'torch.Tensor'>,tensor([0.9146], grad_fn=<UnsqueezeBackward0>),torch.Size([1])\n",
            "preds = tensor([1, 0, 1, 1, 0, 0, 0, 1, 0, 0, 1, 1, 1, 1, 1, 0])\n",
            "batch accuracy = 0.5625\n"
          ]
        },
        {
          "name": "stderr",
          "output_type": "stream",
          "text": [
            " 25%|██▍       | 123/500 [1:16:33<4:02:16, 38.56s/it, train_loss=0.987]"
          ]
        },
        {
          "name": "stdout",
          "output_type": "stream",
          "text": [
            "labels = tensor([0, 0, 0, 0, 1, 2, 0, 0, 0, 0, 0, 0, 1, 0, 0, 0])\n",
            "loss = <class 'torch.Tensor'>,tensor([0.9735], grad_fn=<UnsqueezeBackward0>),torch.Size([1])\n",
            "preds = tensor([1, 0, 0, 1, 1, 1, 0, 1, 0, 0, 0, 0, 1, 1, 0, 1])\n",
            "batch accuracy = 0.625\n"
          ]
        },
        {
          "name": "stderr",
          "output_type": "stream",
          "text": [
            " 25%|██▍       | 124/500 [1:16:50<3:21:03, 32.08s/it, train_loss=0.987]"
          ]
        },
        {
          "name": "stdout",
          "output_type": "stream",
          "text": [
            "labels = tensor([0, 0, 0, 0, 0, 0, 0, 0, 2, 1, 0, 1, 0, 0, 0, 1])\n",
            "loss = <class 'torch.Tensor'>,tensor([0.8217], grad_fn=<UnsqueezeBackward0>),torch.Size([1])\n",
            "preds = tensor([1, 1, 0, 1, 0, 0, 0, 0, 1, 1, 1, 1, 1, 0, 0, 1])\n",
            "batch accuracy = 0.625\n"
          ]
        },
        {
          "name": "stderr",
          "output_type": "stream",
          "text": [
            " 25%|██▌       | 125/500 [1:17:24<3:25:25, 32.87s/it, train_loss=0.986]"
          ]
        },
        {
          "name": "stdout",
          "output_type": "stream",
          "text": [
            "labels = tensor([1, 1, 1, 0, 1, 0, 0, 0, 0, 1, 0, 0, 0, 0, 0, 1])\n",
            "loss = <class 'torch.Tensor'>,tensor([0.7211], grad_fn=<UnsqueezeBackward0>),torch.Size([1])\n",
            "preds = tensor([0, 1, 1, 0, 1, 0, 0, 1, 0, 1, 1, 1, 1, 0, 0, 1])\n",
            "batch accuracy = 0.6875\n"
          ]
        },
        {
          "name": "stderr",
          "output_type": "stream",
          "text": [
            " 25%|██▌       | 126/500 [1:17:59<3:28:03, 33.38s/it, train_loss=0.984]"
          ]
        },
        {
          "name": "stdout",
          "output_type": "stream",
          "text": [
            "labels = tensor([1, 0, 1, 0, 0, 2, 0, 0, 1, 0, 0, 0, 0, 0, 1, 1])\n",
            "loss = <class 'torch.Tensor'>,tensor([0.9429], grad_fn=<UnsqueezeBackward0>),torch.Size([1])\n",
            "preds = tensor([0, 0, 1, 1, 1, 1, 0, 1, 1, 0, 0, 0, 1, 0, 0, 1])\n",
            "batch accuracy = 0.5625\n"
          ]
        },
        {
          "name": "stderr",
          "output_type": "stream",
          "text": [
            " 25%|██▌       | 127/500 [1:18:33<3:28:12, 33.49s/it, train_loss=0.983]"
          ]
        },
        {
          "name": "stdout",
          "output_type": "stream",
          "text": [
            "labels = tensor([0, 1, 0, 1, 0, 1, 1, 1, 0, 0, 1, 0, 0, 0, 0, 2])\n",
            "loss = <class 'torch.Tensor'>,tensor([0.7496], grad_fn=<UnsqueezeBackward0>),torch.Size([1])\n",
            "preds = tensor([0, 1, 1, 1, 0, 1, 1, 1, 0, 0, 1, 0, 0, 0, 1, 0])\n",
            "batch accuracy = 0.8125\n"
          ]
        },
        {
          "name": "stderr",
          "output_type": "stream",
          "text": [
            " 26%|██▌       | 128/500 [1:19:23<3:58:55, 38.54s/it, train_loss=0.981]"
          ]
        },
        {
          "name": "stdout",
          "output_type": "stream",
          "text": [
            "labels = tensor([0, 0, 1, 0, 1, 0, 0, 0, 0, 1, 0, 0, 0, 0, 0, 0])\n",
            "loss = <class 'torch.Tensor'>,tensor([0.7616], grad_fn=<UnsqueezeBackward0>),torch.Size([1])\n",
            "preds = tensor([0, 0, 1, 0, 1, 0, 0, 0, 0, 1, 0, 1, 0, 1, 0, 0])\n",
            "batch accuracy = 0.875\n"
          ]
        },
        {
          "name": "stderr",
          "output_type": "stream",
          "text": [
            " 26%|██▌       | 129/500 [1:19:53<3:41:36, 35.84s/it, train_loss=0.98]"
          ]
        },
        {
          "name": "stdout",
          "output_type": "stream",
          "text": [
            "labels = tensor([1, 0, 1, 1, 0, 1, 1, 0, 0, 0, 0, 0, 0, 1, 2, 0])\n",
            "loss = <class 'torch.Tensor'>,tensor([0.7704], grad_fn=<UnsqueezeBackward0>),torch.Size([1])\n",
            "preds = tensor([1, 0, 0, 1, 0, 1, 1, 0, 0, 0, 1, 0, 0, 1, 1, 0])\n",
            "batch accuracy = 0.8125\n"
          ]
        },
        {
          "name": "stderr",
          "output_type": "stream",
          "text": [
            " 26%|██▌       | 130/500 [1:20:19<3:22:51, 32.90s/it, train_loss=0.978]"
          ]
        },
        {
          "name": "stdout",
          "output_type": "stream",
          "text": [
            "labels = tensor([0, 1, 1, 0, 0, 1, 0, 0, 0, 0, 0, 2, 1, 0, 0, 0])\n",
            "loss = <class 'torch.Tensor'>,tensor([0.8256], grad_fn=<UnsqueezeBackward0>),torch.Size([1])\n",
            "preds = tensor([0, 1, 1, 0, 1, 0, 0, 1, 1, 1, 0, 1, 1, 0, 0, 0])\n",
            "batch accuracy = 0.625\n"
          ]
        },
        {
          "name": "stderr",
          "output_type": "stream",
          "text": [
            " 26%|██▌       | 131/500 [1:20:57<3:32:30, 34.55s/it, train_loss=0.977]"
          ]
        },
        {
          "name": "stdout",
          "output_type": "stream",
          "text": [
            "labels = tensor([0, 1, 1, 0, 0, 1, 0, 1, 0, 1, 1, 0, 0, 0, 0, 0])\n",
            "loss = <class 'torch.Tensor'>,tensor([0.7059], grad_fn=<UnsqueezeBackward0>),torch.Size([1])\n",
            "preds = tensor([0, 1, 1, 0, 0, 1, 0, 0, 0, 1, 1, 1, 0, 0, 0, 0])\n",
            "batch accuracy = 0.875\n"
          ]
        },
        {
          "name": "stderr",
          "output_type": "stream",
          "text": [
            " 26%|██▋       | 132/500 [1:21:27<3:22:54, 33.08s/it, train_loss=0.975]"
          ]
        },
        {
          "name": "stdout",
          "output_type": "stream",
          "text": [
            "labels = tensor([0, 0, 1, 1, 0, 0, 0, 0, 1, 0, 1, 0, 0, 0, 1, 1])\n",
            "loss = <class 'torch.Tensor'>,tensor([0.6502], grad_fn=<UnsqueezeBackward0>),torch.Size([1])\n",
            "preds = tensor([1, 0, 1, 1, 0, 0, 0, 1, 1, 0, 1, 0, 0, 0, 1, 1])\n",
            "batch accuracy = 0.875\n"
          ]
        },
        {
          "name": "stderr",
          "output_type": "stream",
          "text": [
            " 27%|██▋       | 133/500 [1:21:54<3:10:51, 31.20s/it, train_loss=0.972]"
          ]
        },
        {
          "name": "stdout",
          "output_type": "stream",
          "text": [
            "labels = tensor([0, 0, 0, 0, 0, 0, 0, 0, 0, 0, 0, 0, 0, 0, 0, 0])\n",
            "loss = <class 'torch.Tensor'>,tensor([0.9373], grad_fn=<UnsqueezeBackward0>),torch.Size([1])\n",
            "preds = tensor([0, 0, 0, 1, 1, 0, 1, 1, 0, 0, 0, 0, 0, 0, 1, 0])\n",
            "batch accuracy = 0.6875\n"
          ]
        },
        {
          "name": "stderr",
          "output_type": "stream",
          "text": [
            " 27%|██▋       | 134/500 [1:22:37<3:32:45, 34.88s/it, train_loss=0.972]"
          ]
        },
        {
          "name": "stdout",
          "output_type": "stream",
          "text": [
            "labels = tensor([1, 0, 0, 0, 0, 1, 0, 0, 0, 0, 1, 1, 0, 0, 1, 1])\n",
            "loss = <class 'torch.Tensor'>,tensor([0.8172], grad_fn=<UnsqueezeBackward0>),torch.Size([1])\n",
            "preds = tensor([0, 0, 0, 1, 1, 1, 0, 0, 0, 1, 1, 1, 0, 1, 1, 1])\n",
            "batch accuracy = 0.6875\n"
          ]
        },
        {
          "name": "stderr",
          "output_type": "stream",
          "text": [
            " 27%|██▋       | 135/500 [1:23:08<3:24:27, 33.61s/it, train_loss=0.971]"
          ]
        },
        {
          "name": "stdout",
          "output_type": "stream",
          "text": [
            "labels = tensor([1, 1, 0, 0, 1, 0, 0, 0, 0, 0, 0, 0, 0, 0, 0, 0])\n",
            "loss = <class 'torch.Tensor'>,tensor([0.6658], grad_fn=<UnsqueezeBackward0>),torch.Size([1])\n",
            "preds = tensor([1, 1, 0, 1, 1, 0, 0, 0, 1, 0, 0, 0, 0, 0, 0, 0])\n",
            "batch accuracy = 0.875\n"
          ]
        },
        {
          "name": "stderr",
          "output_type": "stream",
          "text": [
            " 27%|██▋       | 136/500 [1:23:34<3:10:48, 31.45s/it, train_loss=0.969]"
          ]
        },
        {
          "name": "stdout",
          "output_type": "stream",
          "text": [
            "labels = tensor([0, 0, 0, 0, 0, 1, 1, 0, 0, 1, 0, 0, 0, 1, 0, 0])\n",
            "loss = <class 'torch.Tensor'>,tensor([0.9312], grad_fn=<UnsqueezeBackward0>),torch.Size([1])\n",
            "preds = tensor([0, 0, 0, 0, 1, 1, 0, 0, 1, 0, 1, 1, 0, 1, 0, 0])\n",
            "batch accuracy = 0.625\n"
          ]
        },
        {
          "name": "stderr",
          "output_type": "stream",
          "text": [
            " 27%|██▋       | 137/500 [1:24:21<3:38:53, 36.18s/it, train_loss=0.968]"
          ]
        },
        {
          "name": "stdout",
          "output_type": "stream",
          "text": [
            "labels = tensor([1, 1, 1, 1, 0, 0, 1, 0, 0, 0, 0, 0, 0, 1, 0, 2])\n",
            "loss = <class 'torch.Tensor'>,tensor([0.8345], grad_fn=<UnsqueezeBackward0>),torch.Size([1])\n",
            "preds = tensor([1, 1, 1, 1, 1, 0, 1, 1, 1, 0, 1, 1, 0, 1, 0, 0])\n",
            "batch accuracy = 0.625\n"
          ]
        },
        {
          "name": "stderr",
          "output_type": "stream",
          "text": [
            " 28%|██▊       | 138/500 [1:24:48<3:21:03, 33.32s/it, train_loss=0.968]"
          ]
        },
        {
          "name": "stdout",
          "output_type": "stream",
          "text": [
            "labels = tensor([1, 1, 1, 1, 0, 1, 1, 1, 0, 1, 1, 1, 0, 0, 0, 0])\n",
            "loss = <class 'torch.Tensor'>,tensor([0.6116], grad_fn=<UnsqueezeBackward0>),torch.Size([1])\n",
            "preds = tensor([1, 1, 0, 1, 0, 1, 1, 0, 0, 1, 1, 1, 0, 0, 0, 0])\n",
            "batch accuracy = 0.875\n"
          ]
        },
        {
          "name": "stderr",
          "output_type": "stream",
          "text": [
            " 28%|██▊       | 139/500 [1:25:39<3:51:35, 38.49s/it, train_loss=0.965]"
          ]
        },
        {
          "name": "stdout",
          "output_type": "stream",
          "text": [
            "labels = tensor([1, 0, 1, 0, 1, 1, 0, 1, 1, 0, 0, 1, 1, 0, 1, 0])\n",
            "loss = <class 'torch.Tensor'>,tensor([0.8805], grad_fn=<UnsqueezeBackward0>),torch.Size([1])\n",
            "preds = tensor([1, 0, 1, 1, 0, 1, 0, 0, 1, 1, 0, 1, 0, 0, 0, 0])\n",
            "batch accuracy = 0.625\n"
          ]
        },
        {
          "name": "stderr",
          "output_type": "stream",
          "text": [
            " 28%|██▊       | 140/500 [1:26:10<3:37:33, 36.26s/it, train_loss=0.964]"
          ]
        },
        {
          "name": "stdout",
          "output_type": "stream",
          "text": [
            "labels = tensor([0, 1, 0, 1, 0, 0, 0, 1, 1, 1, 0, 0, 0, 1, 0, 0])\n",
            "loss = <class 'torch.Tensor'>,tensor([0.6474], grad_fn=<UnsqueezeBackward0>),torch.Size([1])\n",
            "preds = tensor([0, 1, 0, 1, 0, 0, 0, 1, 1, 1, 0, 0, 0, 1, 1, 0])\n",
            "batch accuracy = 0.9375\n"
          ]
        },
        {
          "name": "stderr",
          "output_type": "stream",
          "text": [
            " 28%|██▊       | 141/500 [1:26:42<3:30:52, 35.25s/it, train_loss=0.962]"
          ]
        },
        {
          "name": "stdout",
          "output_type": "stream",
          "text": [
            "labels = tensor([0, 0, 1, 0, 1, 0, 0, 0, 1, 1, 1, 0, 1, 0, 0, 1])\n",
            "loss = <class 'torch.Tensor'>,tensor([0.9641], grad_fn=<UnsqueezeBackward0>),torch.Size([1])\n",
            "preds = tensor([1, 0, 1, 1, 1, 0, 0, 1, 1, 1, 0, 1, 1, 0, 1, 1])\n",
            "batch accuracy = 0.625\n"
          ]
        },
        {
          "name": "stderr",
          "output_type": "stream",
          "text": [
            " 28%|██▊       | 142/500 [1:27:11<3:18:04, 33.20s/it, train_loss=0.962]"
          ]
        },
        {
          "name": "stdout",
          "output_type": "stream",
          "text": [
            "labels = tensor([2, 0, 1, 1, 1, 1, 0, 0, 1, 1, 1, 1, 0, 1, 1, 0])\n",
            "loss = <class 'torch.Tensor'>,tensor([0.7922], grad_fn=<UnsqueezeBackward0>),torch.Size([1])\n",
            "preds = tensor([1, 0, 1, 0, 1, 1, 0, 0, 1, 0, 1, 1, 0, 1, 1, 0])\n",
            "batch accuracy = 0.8125\n"
          ]
        },
        {
          "name": "stderr",
          "output_type": "stream",
          "text": [
            " 29%|██▊       | 143/500 [1:27:47<3:21:57, 33.94s/it, train_loss=0.961]"
          ]
        },
        {
          "name": "stdout",
          "output_type": "stream",
          "text": [
            "labels = tensor([0, 1, 1, 0, 0, 0, 1, 1, 0, 0, 0, 0, 1, 1, 1, 1])\n",
            "loss = <class 'torch.Tensor'>,tensor([0.7265], grad_fn=<UnsqueezeBackward0>),torch.Size([1])\n",
            "preds = tensor([1, 0, 1, 1, 0, 1, 1, 1, 0, 0, 0, 0, 1, 1, 1, 1])\n",
            "batch accuracy = 0.75\n"
          ]
        },
        {
          "name": "stderr",
          "output_type": "stream",
          "text": [
            " 29%|██▉       | 144/500 [1:28:23<3:25:01, 34.55s/it, train_loss=0.959]"
          ]
        },
        {
          "name": "stdout",
          "output_type": "stream",
          "text": [
            "labels = tensor([0, 0, 0, 0, 1, 2, 0, 1, 1, 1, 1, 0, 0, 0, 0, 0])\n",
            "loss = <class 'torch.Tensor'>,tensor([0.8967], grad_fn=<UnsqueezeBackward0>),torch.Size([1])\n",
            "preds = tensor([1, 1, 1, 1, 1, 1, 0, 0, 1, 1, 1, 0, 1, 0, 0, 0])\n",
            "batch accuracy = 0.5625\n"
          ]
        },
        {
          "name": "stderr",
          "output_type": "stream",
          "text": [
            " 29%|██▉       | 145/500 [1:28:46<3:05:19, 31.32s/it, train_loss=0.959]"
          ]
        },
        {
          "name": "stdout",
          "output_type": "stream",
          "text": [
            "labels = tensor([0, 1, 0, 1, 0, 1, 1, 0, 0, 1, 1, 0, 0, 1, 0, 1])\n",
            "loss = <class 'torch.Tensor'>,tensor([0.9971], grad_fn=<UnsqueezeBackward0>),torch.Size([1])\n",
            "preds = tensor([0, 1, 0, 0, 1, 0, 1, 1, 0, 1, 1, 1, 0, 0, 0, 1])\n",
            "batch accuracy = 0.625\n"
          ]
        },
        {
          "name": "stderr",
          "output_type": "stream",
          "text": [
            " 29%|██▉       | 146/500 [1:29:20<3:08:38, 31.97s/it, train_loss=0.959]"
          ]
        },
        {
          "name": "stdout",
          "output_type": "stream",
          "text": [
            "labels = tensor([1, 0, 0, 0, 0, 1, 1, 0, 1, 0, 0, 0, 0, 0, 0, 1])\n",
            "loss = <class 'torch.Tensor'>,tensor([0.7855], grad_fn=<UnsqueezeBackward0>),torch.Size([1])\n",
            "preds = tensor([0, 0, 0, 0, 0, 1, 1, 0, 1, 1, 0, 0, 0, 0, 1, 0])\n",
            "batch accuracy = 0.75\n"
          ]
        },
        {
          "name": "stderr",
          "output_type": "stream",
          "text": [
            " 29%|██▉       | 147/500 [1:30:04<3:28:58, 35.52s/it, train_loss=0.958]"
          ]
        },
        {
          "name": "stdout",
          "output_type": "stream",
          "text": [
            "labels = tensor([1, 1, 1, 0, 0, 0, 1, 0, 0, 0, 0, 1, 1, 0, 0, 1])\n",
            "loss = <class 'torch.Tensor'>,tensor([0.7298], grad_fn=<UnsqueezeBackward0>),torch.Size([1])\n",
            "preds = tensor([1, 1, 0, 0, 0, 1, 1, 0, 0, 0, 0, 0, 1, 0, 0, 1])\n",
            "batch accuracy = 0.8125\n"
          ]
        },
        {
          "name": "stderr",
          "output_type": "stream",
          "text": [
            " 30%|██▉       | 148/500 [1:31:16<4:32:31, 46.45s/it, train_loss=0.956]"
          ]
        },
        {
          "name": "stdout",
          "output_type": "stream",
          "text": [
            "labels = tensor([0, 0, 1, 1, 1, 1, 0, 0, 1, 0, 1, 0, 0, 1, 0, 0])\n",
            "loss = <class 'torch.Tensor'>,tensor([0.8277], grad_fn=<UnsqueezeBackward0>),torch.Size([1])\n",
            "preds = tensor([1, 1, 1, 1, 0, 1, 0, 0, 1, 0, 1, 1, 0, 1, 0, 0])\n",
            "batch accuracy = 0.75\n"
          ]
        },
        {
          "name": "stderr",
          "output_type": "stream",
          "text": [
            " 30%|██▉       | 149/500 [1:31:43<3:58:49, 40.82s/it, train_loss=0.956]"
          ]
        },
        {
          "name": "stdout",
          "output_type": "stream",
          "text": [
            "labels = tensor([0, 1, 0, 1, 1, 1, 0, 0, 0, 1, 1, 0, 0, 0, 1, 0])\n",
            "loss = <class 'torch.Tensor'>,tensor([0.6666], grad_fn=<UnsqueezeBackward0>),torch.Size([1])\n",
            "preds = tensor([0, 1, 0, 1, 1, 1, 1, 0, 0, 0, 1, 0, 0, 0, 1, 0])\n",
            "batch accuracy = 0.875\n"
          ]
        },
        {
          "name": "stderr",
          "output_type": "stream",
          "text": [
            " 30%|███       | 150/500 [1:32:20<3:50:48, 39.57s/it, train_loss=0.954]"
          ]
        },
        {
          "name": "stdout",
          "output_type": "stream",
          "text": [
            "labels = tensor([0, 1, 0, 0, 1, 0, 0, 1, 0, 1, 0, 0, 0, 1, 1, 1])\n",
            "loss = <class 'torch.Tensor'>,tensor([0.5271], grad_fn=<UnsqueezeBackward0>),torch.Size([1])\n",
            "preds = tensor([1, 1, 0, 0, 1, 0, 0, 1, 0, 1, 0, 0, 0, 1, 1, 1])\n",
            "batch accuracy = 0.9375\n"
          ]
        },
        {
          "name": "stderr",
          "output_type": "stream",
          "text": [
            " 30%|███       | 151/500 [1:32:56<3:44:16, 38.56s/it, train_loss=0.951]"
          ]
        },
        {
          "name": "stdout",
          "output_type": "stream",
          "text": [
            "labels = tensor([0, 0, 0, 0, 0, 0, 0, 0, 0, 1, 0, 0, 0, 0, 1, 0])\n",
            "loss = <class 'torch.Tensor'>,tensor([0.7779], grad_fn=<UnsqueezeBackward0>),torch.Size([1])\n",
            "preds = tensor([0, 0, 0, 0, 0, 1, 1, 0, 1, 1, 1, 1, 0, 0, 1, 0])\n",
            "batch accuracy = 0.6875\n"
          ]
        },
        {
          "name": "stderr",
          "output_type": "stream",
          "text": [
            " 30%|███       | 152/500 [1:33:26<3:28:46, 36.00s/it, train_loss=0.95]"
          ]
        },
        {
          "name": "stdout",
          "output_type": "stream",
          "text": [
            "labels = tensor([0, 0, 0, 1, 1, 0, 0, 0, 0, 1, 1, 1, 1, 1, 0, 0])\n",
            "loss = <class 'torch.Tensor'>,tensor([0.7208], grad_fn=<UnsqueezeBackward0>),torch.Size([1])\n",
            "preds = tensor([0, 0, 0, 1, 0, 1, 0, 0, 0, 1, 1, 1, 1, 1, 0, 1])\n",
            "batch accuracy = 0.8125\n"
          ]
        },
        {
          "name": "stderr",
          "output_type": "stream",
          "text": [
            " 31%|███       | 153/500 [1:34:14<3:48:48, 39.56s/it, train_loss=0.948]"
          ]
        },
        {
          "name": "stdout",
          "output_type": "stream",
          "text": [
            "labels = tensor([1, 0, 0, 0, 0, 0, 0, 0, 0, 0, 0, 0, 1, 1, 1, 0])\n",
            "loss = <class 'torch.Tensor'>,tensor([0.8771], grad_fn=<UnsqueezeBackward0>),torch.Size([1])\n",
            "preds = tensor([1, 1, 0, 1, 0, 0, 0, 1, 0, 0, 0, 0, 1, 0, 0, 1])\n",
            "batch accuracy = 0.625\n"
          ]
        },
        {
          "name": "stderr",
          "output_type": "stream",
          "text": [
            " 31%|███       | 154/500 [1:35:01<4:01:42, 41.92s/it, train_loss=0.948]"
          ]
        },
        {
          "name": "stdout",
          "output_type": "stream",
          "text": [
            "labels = tensor([1, 0, 0, 0, 0, 0, 1, 0, 0, 0, 0, 1, 1, 0, 0, 0])\n",
            "loss = <class 'torch.Tensor'>,tensor([0.9829], grad_fn=<UnsqueezeBackward0>),torch.Size([1])\n",
            "preds = tensor([0, 1, 0, 0, 1, 1, 0, 0, 1, 1, 1, 1, 0, 0, 1, 0])\n",
            "batch accuracy = 0.375\n"
          ]
        },
        {
          "name": "stderr",
          "output_type": "stream",
          "text": [
            " 31%|███       | 155/500 [1:35:16<3:14:02, 33.75s/it, train_loss=0.948]"
          ]
        },
        {
          "name": "stdout",
          "output_type": "stream",
          "text": [
            "labels = tensor([0, 0, 0, 1, 1, 0, 0, 1, 0, 0, 0, 1, 0, 1, 1, 0])\n",
            "loss = <class 'torch.Tensor'>,tensor([0.8416], grad_fn=<UnsqueezeBackward0>),torch.Size([1])\n",
            "preds = tensor([0, 0, 0, 0, 1, 0, 1, 1, 1, 1, 0, 0, 0, 1, 1, 1])\n",
            "batch accuracy = 0.625\n"
          ]
        },
        {
          "name": "stderr",
          "output_type": "stream",
          "text": [
            " 31%|███       | 156/500 [1:35:45<3:04:25, 32.17s/it, train_loss=0.947]"
          ]
        },
        {
          "name": "stdout",
          "output_type": "stream",
          "text": [
            "labels = tensor([0, 0, 1, 1, 1, 1, 0, 1, 1, 0, 0, 0, 0, 1, 1, 0])\n",
            "loss = <class 'torch.Tensor'>,tensor([0.6760], grad_fn=<UnsqueezeBackward0>),torch.Size([1])\n",
            "preds = tensor([0, 0, 1, 1, 1, 1, 0, 1, 1, 0, 1, 0, 0, 0, 0, 0])\n",
            "batch accuracy = 0.8125\n"
          ]
        },
        {
          "name": "stderr",
          "output_type": "stream",
          "text": [
            " 31%|███▏      | 157/500 [1:36:33<3:31:09, 36.94s/it, train_loss=0.946]"
          ]
        },
        {
          "name": "stdout",
          "output_type": "stream",
          "text": [
            "labels = tensor([0, 0, 1, 1, 0, 1, 0, 0, 1, 0, 0, 1, 1, 1, 1, 0])\n",
            "loss = <class 'torch.Tensor'>,tensor([0.6552], grad_fn=<UnsqueezeBackward0>),torch.Size([1])\n",
            "preds = tensor([0, 0, 1, 1, 0, 1, 0, 0, 1, 0, 1, 1, 0, 0, 1, 0])\n",
            "batch accuracy = 0.8125\n"
          ]
        },
        {
          "name": "stderr",
          "output_type": "stream",
          "text": [
            " 32%|███▏      | 158/500 [1:37:09<3:30:21, 36.90s/it, train_loss=0.944]"
          ]
        },
        {
          "name": "stdout",
          "output_type": "stream",
          "text": [
            "labels = tensor([0, 0, 0, 0, 0, 0, 0, 0, 1, 0, 0, 0, 1, 1, 1, 0])\n",
            "loss = <class 'torch.Tensor'>,tensor([0.8594], grad_fn=<UnsqueezeBackward0>),torch.Size([1])\n",
            "preds = tensor([1, 1, 1, 0, 0, 1, 0, 0, 0, 0, 0, 1, 1, 1, 1, 0])\n",
            "batch accuracy = 0.625\n"
          ]
        },
        {
          "name": "stderr",
          "output_type": "stream",
          "text": [
            " 32%|███▏      | 159/500 [1:37:41<3:21:23, 35.44s/it, train_loss=0.943]"
          ]
        },
        {
          "name": "stdout",
          "output_type": "stream",
          "text": [
            "labels = tensor([0, 0, 0, 1, 0, 1, 1, 1, 1, 0, 0, 1, 0, 1, 0, 1])\n",
            "loss = <class 'torch.Tensor'>,tensor([0.7111], grad_fn=<UnsqueezeBackward0>),torch.Size([1])\n",
            "preds = tensor([0, 0, 0, 1, 0, 0, 1, 1, 1, 0, 1, 1, 0, 0, 0, 0])\n",
            "batch accuracy = 0.75\n"
          ]
        },
        {
          "name": "stderr",
          "output_type": "stream",
          "text": [
            " 32%|███▏      | 160/500 [1:39:13<4:56:57, 52.41s/it, train_loss=0.942]"
          ]
        },
        {
          "name": "stdout",
          "output_type": "stream",
          "text": [
            "labels = tensor([1, 0, 0, 0, 0, 1, 0, 0, 1, 0, 0, 0, 0, 0, 0, 0])\n",
            "loss = <class 'torch.Tensor'>,tensor([0.7946], grad_fn=<UnsqueezeBackward0>),torch.Size([1])\n",
            "preds = tensor([1, 0, 0, 1, 1, 1, 1, 0, 1, 1, 0, 0, 1, 0, 0, 0])\n",
            "batch accuracy = 0.6875\n"
          ]
        },
        {
          "name": "stderr",
          "output_type": "stream",
          "text": [
            " 32%|███▏      | 161/500 [1:39:42<4:15:43, 45.26s/it, train_loss=0.941]"
          ]
        },
        {
          "name": "stdout",
          "output_type": "stream",
          "text": [
            "labels = tensor([0, 1, 0, 1, 0, 0, 0, 0, 0, 0, 1, 0, 1, 1, 0, 0])\n",
            "loss = <class 'torch.Tensor'>,tensor([0.7752], grad_fn=<UnsqueezeBackward0>),torch.Size([1])\n",
            "preds = tensor([1, 1, 0, 0, 0, 0, 0, 0, 0, 1, 1, 1, 1, 1, 0, 0])\n",
            "batch accuracy = 0.75\n"
          ]
        },
        {
          "name": "stderr",
          "output_type": "stream",
          "text": [
            " 32%|███▏      | 162/500 [1:40:19<4:01:23, 42.85s/it, train_loss=0.94]"
          ]
        },
        {
          "name": "stdout",
          "output_type": "stream",
          "text": [
            "labels = tensor([0, 1, 0, 0, 1, 0, 0, 0, 0, 0, 1, 1, 0, 0, 0, 1])\n",
            "loss = <class 'torch.Tensor'>,tensor([0.8397], grad_fn=<UnsqueezeBackward0>),torch.Size([1])\n",
            "preds = tensor([0, 1, 1, 0, 1, 0, 1, 0, 1, 0, 0, 1, 0, 0, 0, 0])\n",
            "batch accuracy = 0.6875\n"
          ]
        },
        {
          "name": "stderr",
          "output_type": "stream",
          "text": [
            " 33%|███▎      | 163/500 [1:41:00<3:57:46, 42.33s/it, train_loss=0.939]"
          ]
        },
        {
          "name": "stdout",
          "output_type": "stream",
          "text": [
            "labels = tensor([0, 1, 0, 0, 1, 1, 0, 1, 0, 1, 0, 0, 1, 1, 0, 1])\n",
            "loss = <class 'torch.Tensor'>,tensor([0.8795], grad_fn=<UnsqueezeBackward0>),torch.Size([1])\n",
            "preds = tensor([0, 0, 1, 0, 1, 0, 0, 0, 1, 1, 0, 0, 1, 1, 1, 1])\n",
            "batch accuracy = 0.625\n"
          ]
        },
        {
          "name": "stderr",
          "output_type": "stream",
          "text": [
            " 33%|███▎      | 164/500 [1:41:28<3:32:32, 37.96s/it, train_loss=0.939]"
          ]
        },
        {
          "name": "stdout",
          "output_type": "stream",
          "text": [
            "labels = tensor([0, 0, 0, 1, 1, 0, 1, 0, 1, 0, 0, 0, 0, 0, 0, 0])\n",
            "loss = <class 'torch.Tensor'>,tensor([0.7396], grad_fn=<UnsqueezeBackward0>),torch.Size([1])\n",
            "preds = tensor([0, 1, 0, 1, 1, 0, 1, 0, 1, 1, 0, 0, 1, 1, 0, 0])\n",
            "batch accuracy = 0.75\n"
          ]
        },
        {
          "name": "stderr",
          "output_type": "stream",
          "text": [
            " 33%|███▎      | 165/500 [1:42:06<3:32:01, 37.97s/it, train_loss=0.938]"
          ]
        },
        {
          "name": "stdout",
          "output_type": "stream",
          "text": [
            "labels = tensor([0, 0, 0, 0, 1, 0, 0, 1, 1, 0, 0, 1, 1, 1, 0, 1])\n",
            "loss = <class 'torch.Tensor'>,tensor([0.8128], grad_fn=<UnsqueezeBackward0>),torch.Size([1])\n",
            "preds = tensor([0, 0, 0, 1, 1, 0, 1, 0, 0, 0, 0, 0, 1, 1, 0, 1])\n",
            "batch accuracy = 0.6875\n"
          ]
        },
        {
          "name": "stderr",
          "output_type": "stream",
          "text": [
            " 33%|███▎      | 166/500 [1:42:55<3:48:57, 41.13s/it, train_loss=0.937]"
          ]
        },
        {
          "name": "stdout",
          "output_type": "stream",
          "text": [
            "labels = tensor([0, 0, 0, 0, 0, 1, 0, 1, 1, 0, 1, 1, 1, 1, 1, 0])\n",
            "loss = <class 'torch.Tensor'>,tensor([0.7613], grad_fn=<UnsqueezeBackward0>),torch.Size([1])\n",
            "preds = tensor([0, 0, 0, 1, 1, 1, 0, 0, 1, 1, 0, 1, 0, 1, 1, 0])\n",
            "batch accuracy = 0.625\n"
          ]
        },
        {
          "name": "stderr",
          "output_type": "stream",
          "text": [
            " 33%|███▎      | 167/500 [1:43:26<3:31:43, 38.15s/it, train_loss=0.936]"
          ]
        },
        {
          "name": "stdout",
          "output_type": "stream",
          "text": [
            "labels = tensor([0, 1, 0, 1, 0, 0, 0, 0, 0, 1, 0, 0, 0, 1, 0, 1])\n",
            "loss = <class 'torch.Tensor'>,tensor([0.8298], grad_fn=<UnsqueezeBackward0>),torch.Size([1])\n",
            "preds = tensor([1, 0, 0, 1, 0, 0, 1, 1, 0, 1, 1, 0, 0, 0, 0, 1])\n",
            "batch accuracy = 0.625\n"
          ]
        },
        {
          "name": "stderr",
          "output_type": "stream",
          "text": [
            " 34%|███▎      | 168/500 [1:43:50<3:07:51, 33.95s/it, train_loss=0.935]"
          ]
        },
        {
          "name": "stdout",
          "output_type": "stream",
          "text": [
            "labels = tensor([0, 1, 0, 0, 0, 1, 1, 0, 0, 0, 0, 0, 0, 0, 1, 2])\n",
            "loss = <class 'torch.Tensor'>,tensor([0.7310], grad_fn=<UnsqueezeBackward0>),torch.Size([1])\n",
            "preds = tensor([0, 1, 0, 0, 0, 0, 1, 0, 1, 0, 1, 0, 1, 0, 1, 1])\n",
            "batch accuracy = 0.6875\n"
          ]
        },
        {
          "name": "stderr",
          "output_type": "stream",
          "text": [
            " 34%|███▍      | 169/500 [1:44:30<3:18:05, 35.91s/it, train_loss=0.934]"
          ]
        },
        {
          "name": "stdout",
          "output_type": "stream",
          "text": [
            "labels = tensor([0, 0, 0, 0, 0, 0, 0, 0, 0, 0, 1, 0, 1, 0, 0, 0])\n",
            "loss = <class 'torch.Tensor'>,tensor([0.7649], grad_fn=<UnsqueezeBackward0>),torch.Size([1])\n",
            "preds = tensor([0, 1, 0, 0, 1, 1, 1, 0, 1, 1, 1, 0, 1, 0, 0, 0])\n",
            "batch accuracy = 0.625\n"
          ]
        },
        {
          "name": "stderr",
          "output_type": "stream",
          "text": [
            " 34%|███▍      | 170/500 [1:45:03<3:11:46, 34.87s/it, train_loss=0.933]"
          ]
        },
        {
          "name": "stdout",
          "output_type": "stream",
          "text": [
            "labels = tensor([1, 0, 1, 0, 0, 0, 1, 0, 1, 0, 1, 1, 0, 1, 1, 1])\n",
            "loss = <class 'torch.Tensor'>,tensor([0.7211], grad_fn=<UnsqueezeBackward0>),torch.Size([1])\n",
            "preds = tensor([1, 0, 1, 0, 0, 1, 1, 1, 0, 0, 1, 1, 0, 1, 0, 0])\n",
            "batch accuracy = 0.6875\n"
          ]
        },
        {
          "name": "stderr",
          "output_type": "stream",
          "text": [
            " 34%|███▍      | 171/500 [1:45:33<3:03:53, 33.54s/it, train_loss=0.932]"
          ]
        },
        {
          "name": "stdout",
          "output_type": "stream",
          "text": [
            "labels = tensor([0, 0, 0, 1, 0, 0, 0, 1, 0, 0, 1, 0, 1, 1, 0, 0])\n",
            "loss = <class 'torch.Tensor'>,tensor([0.9059], grad_fn=<UnsqueezeBackward0>),torch.Size([1])\n",
            "preds = tensor([1, 1, 0, 1, 0, 1, 0, 0, 0, 1, 1, 0, 1, 1, 1, 0])\n",
            "batch accuracy = 0.625\n"
          ]
        },
        {
          "name": "stderr",
          "output_type": "stream",
          "text": [
            " 34%|███▍      | 172/500 [1:45:53<2:40:13, 29.31s/it, train_loss=0.932]"
          ]
        },
        {
          "name": "stdout",
          "output_type": "stream",
          "text": [
            "labels = tensor([1, 0, 0, 0, 1, 0, 1, 0, 0, 0, 1, 0, 0, 0, 0, 1])\n",
            "loss = <class 'torch.Tensor'>,tensor([0.7039], grad_fn=<UnsqueezeBackward0>),torch.Size([1])\n",
            "preds = tensor([1, 0, 1, 0, 1, 0, 1, 0, 0, 0, 1, 0, 1, 0, 1, 1])\n",
            "batch accuracy = 0.8125\n"
          ]
        },
        {
          "name": "stderr",
          "output_type": "stream",
          "text": [
            " 35%|███▍      | 173/500 [1:46:39<3:07:18, 34.37s/it, train_loss=0.93]"
          ]
        },
        {
          "name": "stdout",
          "output_type": "stream",
          "text": [
            "labels = tensor([0, 1, 1, 0, 0, 0, 1, 0, 0, 0, 1, 1, 0, 0, 0, 0])\n",
            "loss = <class 'torch.Tensor'>,tensor([0.7373], grad_fn=<UnsqueezeBackward0>),torch.Size([1])\n",
            "preds = tensor([1, 1, 1, 0, 1, 1, 1, 0, 0, 0, 1, 1, 0, 1, 1, 0])\n",
            "batch accuracy = 0.6875\n"
          ]
        },
        {
          "name": "stderr",
          "output_type": "stream",
          "text": [
            " 35%|███▍      | 174/500 [1:47:09<2:58:59, 32.94s/it, train_loss=0.929]"
          ]
        },
        {
          "name": "stdout",
          "output_type": "stream",
          "text": [
            "labels = tensor([0, 0, 1, 0, 1, 0, 1, 0, 0, 0, 1, 1, 0, 0, 1, 0])\n",
            "loss = <class 'torch.Tensor'>,tensor([0.6901], grad_fn=<UnsqueezeBackward0>),torch.Size([1])\n",
            "preds = tensor([1, 0, 1, 0, 1, 0, 1, 0, 0, 0, 1, 0, 0, 0, 1, 0])\n",
            "batch accuracy = 0.875\n"
          ]
        },
        {
          "name": "stderr",
          "output_type": "stream",
          "text": [
            " 35%|███▌      | 175/500 [1:47:26<2:32:53, 28.23s/it, train_loss=0.928]"
          ]
        },
        {
          "name": "stdout",
          "output_type": "stream",
          "text": [
            "labels = tensor([1, 0, 1, 0, 1, 0, 0, 0, 0, 1, 0, 0, 0, 0, 0, 0])\n",
            "loss = <class 'torch.Tensor'>,tensor([0.7331], grad_fn=<UnsqueezeBackward0>),torch.Size([1])\n",
            "preds = tensor([1, 0, 1, 0, 1, 1, 1, 0, 1, 0, 0, 0, 0, 1, 0, 0])\n",
            "batch accuracy = 0.6875\n"
          ]
        },
        {
          "name": "stderr",
          "output_type": "stream",
          "text": [
            " 35%|███▌      | 176/500 [1:48:15<3:06:18, 34.50s/it, train_loss=0.927]"
          ]
        },
        {
          "name": "stdout",
          "output_type": "stream",
          "text": [
            "labels = tensor([0, 2, 0, 0, 1, 0, 1, 0, 1, 0, 1, 0, 0, 0, 0, 1])\n",
            "loss = <class 'torch.Tensor'>,tensor([0.8347], grad_fn=<UnsqueezeBackward0>),torch.Size([1])\n",
            "preds = tensor([0, 1, 1, 0, 1, 0, 1, 1, 1, 0, 0, 0, 1, 1, 0, 1])\n",
            "batch accuracy = 0.625\n"
          ]
        },
        {
          "name": "stderr",
          "output_type": "stream",
          "text": [
            " 35%|███▌      | 177/500 [1:48:42<2:53:22, 32.21s/it, train_loss=0.926]"
          ]
        },
        {
          "name": "stdout",
          "output_type": "stream",
          "text": [
            "labels = tensor([0, 1, 1, 0, 1, 1, 0, 0, 1, 0, 0, 0, 2, 0, 0, 1])\n",
            "loss = <class 'torch.Tensor'>,tensor([0.7604], grad_fn=<UnsqueezeBackward0>),torch.Size([1])\n",
            "preds = tensor([0, 0, 0, 0, 1, 1, 0, 0, 0, 0, 1, 1, 0, 0, 0, 1])\n",
            "batch accuracy = 0.625\n"
          ]
        },
        {
          "name": "stderr",
          "output_type": "stream",
          "text": [
            " 36%|███▌      | 178/500 [1:49:36<3:27:44, 38.71s/it, train_loss=0.925]"
          ]
        },
        {
          "name": "stdout",
          "output_type": "stream",
          "text": [
            "labels = tensor([1, 1, 0, 0, 1, 1, 0, 1, 0, 1, 0, 0, 0, 1, 0, 1])\n",
            "loss = <class 'torch.Tensor'>,tensor([0.9148], grad_fn=<UnsqueezeBackward0>),torch.Size([1])\n",
            "preds = tensor([1, 0, 1, 0, 0, 1, 1, 1, 0, 1, 0, 0, 0, 0, 1, 0])\n",
            "batch accuracy = 0.5625\n"
          ]
        },
        {
          "name": "stderr",
          "output_type": "stream",
          "text": [
            " 36%|███▌      | 179/500 [1:50:17<3:30:53, 39.42s/it, train_loss=0.925]"
          ]
        },
        {
          "name": "stdout",
          "output_type": "stream",
          "text": [
            "labels = tensor([0, 1, 0, 1, 0, 1, 0, 0, 0, 1, 0, 1, 1, 0, 1, 0])\n",
            "loss = <class 'torch.Tensor'>,tensor([0.5168], grad_fn=<UnsqueezeBackward0>),torch.Size([1])\n",
            "preds = tensor([0, 1, 0, 0, 0, 1, 0, 0, 0, 1, 0, 1, 1, 0, 1, 0])\n",
            "batch accuracy = 0.9375\n"
          ]
        },
        {
          "name": "stderr",
          "output_type": "stream",
          "text": [
            " 36%|███▌      | 180/500 [1:50:53<3:25:30, 38.53s/it, train_loss=0.923]"
          ]
        },
        {
          "name": "stdout",
          "output_type": "stream",
          "text": [
            "labels = tensor([0, 0, 1, 1, 0, 0, 0, 0, 0, 1, 1, 0, 0, 0, 0, 0])\n",
            "loss = <class 'torch.Tensor'>,tensor([0.6200], grad_fn=<UnsqueezeBackward0>),torch.Size([1])\n",
            "preds = tensor([0, 1, 1, 1, 0, 0, 0, 0, 1, 1, 1, 0, 0, 0, 1, 0])\n",
            "batch accuracy = 0.8125\n"
          ]
        },
        {
          "name": "stderr",
          "output_type": "stream",
          "text": [
            " 36%|███▌      | 181/500 [1:51:46<3:48:10, 42.92s/it, train_loss=0.921]"
          ]
        },
        {
          "name": "stdout",
          "output_type": "stream",
          "text": [
            "labels = tensor([0, 0, 0, 1, 1, 0, 0, 1, 1, 1, 2, 1, 0, 0, 0, 2])\n",
            "loss = <class 'torch.Tensor'>,tensor([0.7742], grad_fn=<UnsqueezeBackward0>),torch.Size([1])\n",
            "preds = tensor([0, 0, 0, 1, 0, 0, 1, 1, 1, 1, 1, 1, 0, 0, 1, 0])\n",
            "batch accuracy = 0.6875\n"
          ]
        },
        {
          "name": "stderr",
          "output_type": "stream",
          "text": [
            " 36%|███▋      | 182/500 [1:52:18<3:29:55, 39.61s/it, train_loss=0.92]"
          ]
        },
        {
          "name": "stdout",
          "output_type": "stream",
          "text": [
            "labels = tensor([1, 1, 0, 1, 2, 0, 0, 1, 1, 0, 0, 0, 0, 1, 0, 0])\n",
            "loss = <class 'torch.Tensor'>,tensor([1.0120], grad_fn=<UnsqueezeBackward0>),torch.Size([1])\n",
            "preds = tensor([0, 1, 0, 1, 1, 1, 0, 0, 0, 1, 0, 1, 1, 1, 1, 0])\n",
            "batch accuracy = 0.4375\n"
          ]
        },
        {
          "name": "stderr",
          "output_type": "stream",
          "text": [
            " 37%|███▋      | 183/500 [1:52:55<3:24:34, 38.72s/it, train_loss=0.921]"
          ]
        },
        {
          "name": "stdout",
          "output_type": "stream",
          "text": [
            "labels = tensor([0, 0, 0, 0, 0, 0, 1, 0, 1, 0, 0, 0, 0, 0, 0, 0])\n",
            "loss = <class 'torch.Tensor'>,tensor([0.8134], grad_fn=<UnsqueezeBackward0>),torch.Size([1])\n",
            "preds = tensor([0, 0, 1, 0, 0, 0, 1, 1, 1, 0, 0, 1, 0, 0, 0, 0])\n",
            "batch accuracy = 0.8125\n"
          ]
        },
        {
          "name": "stderr",
          "output_type": "stream",
          "text": [
            " 37%|███▋      | 184/500 [1:53:52<3:53:12, 44.28s/it, train_loss=0.92]"
          ]
        },
        {
          "name": "stdout",
          "output_type": "stream",
          "text": [
            "labels = tensor([0, 0, 0, 1, 2, 0, 0, 0, 0, 1, 0, 1, 0, 0, 0, 0])\n",
            "loss = <class 'torch.Tensor'>,tensor([0.9235], grad_fn=<UnsqueezeBackward0>),torch.Size([1])\n",
            "preds = tensor([0, 1, 1, 1, 1, 0, 0, 0, 0, 1, 1, 1, 1, 1, 0, 1])\n",
            "batch accuracy = 0.5625\n"
          ]
        },
        {
          "name": "stderr",
          "output_type": "stream",
          "text": [
            " 37%|███▋      | 185/500 [1:54:21<3:27:35, 39.54s/it, train_loss=0.92]"
          ]
        },
        {
          "name": "stdout",
          "output_type": "stream",
          "text": [
            "labels = tensor([0, 2, 0, 0, 0, 1, 1, 0, 0, 1, 0, 0, 0, 1, 0, 1])\n",
            "loss = <class 'torch.Tensor'>,tensor([0.8977], grad_fn=<UnsqueezeBackward0>),torch.Size([1])\n",
            "preds = tensor([0, 1, 1, 0, 0, 1, 0, 0, 0, 1, 0, 1, 0, 1, 0, 0])\n",
            "batch accuracy = 0.6875\n"
          ]
        },
        {
          "name": "stderr",
          "output_type": "stream",
          "text": [
            " 37%|███▋      | 186/500 [1:54:38<2:52:03, 32.88s/it, train_loss=0.92]"
          ]
        },
        {
          "name": "stdout",
          "output_type": "stream",
          "text": [
            "labels = tensor([0, 0, 1, 0, 1, 1, 0, 1, 1, 0, 0, 0, 1, 1, 1, 0])\n",
            "loss = <class 'torch.Tensor'>,tensor([0.5868], grad_fn=<UnsqueezeBackward0>),torch.Size([1])\n",
            "preds = tensor([0, 0, 1, 0, 1, 1, 0, 1, 1, 0, 0, 1, 0, 1, 1, 1])\n",
            "batch accuracy = 0.8125\n"
          ]
        },
        {
          "name": "stderr",
          "output_type": "stream",
          "text": [
            " 37%|███▋      | 187/500 [1:55:23<3:10:01, 36.43s/it, train_loss=0.918]"
          ]
        },
        {
          "name": "stdout",
          "output_type": "stream",
          "text": [
            "labels = tensor([0, 0, 0, 0, 1, 1, 0, 0, 0, 0, 1, 0, 1, 0, 1, 1])\n",
            "loss = <class 'torch.Tensor'>,tensor([0.6444], grad_fn=<UnsqueezeBackward0>),torch.Size([1])\n",
            "preds = tensor([0, 0, 0, 0, 1, 1, 1, 0, 0, 0, 1, 1, 1, 1, 1, 1])\n",
            "batch accuracy = 0.8125\n"
          ]
        },
        {
          "name": "stderr",
          "output_type": "stream",
          "text": [
            " 38%|███▊      | 188/500 [1:55:52<2:58:06, 34.25s/it, train_loss=0.917]"
          ]
        },
        {
          "name": "stdout",
          "output_type": "stream",
          "text": [
            "labels = tensor([1, 0, 0, 0, 0, 0, 1, 0, 0, 0, 0, 1, 1, 0, 1, 0])\n",
            "loss = <class 'torch.Tensor'>,tensor([0.5578], grad_fn=<UnsqueezeBackward0>),torch.Size([1])\n",
            "preds = tensor([1, 0, 0, 0, 0, 0, 1, 1, 0, 0, 0, 1, 1, 0, 1, 0])\n",
            "batch accuracy = 0.9375\n"
          ]
        },
        {
          "name": "stderr",
          "output_type": "stream",
          "text": [
            " 38%|███▊      | 189/500 [1:56:28<2:59:52, 34.70s/it, train_loss=0.915]"
          ]
        },
        {
          "name": "stdout",
          "output_type": "stream",
          "text": [
            "labels = tensor([1, 0, 1, 0, 0, 1, 2, 0, 1, 0, 0, 1, 0, 0, 1, 0])\n",
            "loss = <class 'torch.Tensor'>,tensor([0.6935], grad_fn=<UnsqueezeBackward0>),torch.Size([1])\n",
            "preds = tensor([1, 1, 1, 0, 0, 0, 1, 0, 1, 0, 0, 1, 0, 0, 0, 0])\n",
            "batch accuracy = 0.75\n"
          ]
        },
        {
          "name": "stderr",
          "output_type": "stream",
          "text": [
            " 38%|███▊      | 190/500 [1:57:14<3:17:10, 38.16s/it, train_loss=0.914]"
          ]
        },
        {
          "name": "stdout",
          "output_type": "stream",
          "text": [
            "labels = tensor([0, 2, 1, 0, 0, 0, 1, 0, 1, 0, 0, 0, 1, 0, 1, 1])\n",
            "loss = <class 'torch.Tensor'>,tensor([0.8263], grad_fn=<UnsqueezeBackward0>),torch.Size([1])\n",
            "preds = tensor([0, 0, 1, 1, 0, 0, 0, 1, 1, 0, 0, 0, 1, 1, 1, 0])\n",
            "batch accuracy = 0.625\n"
          ]
        },
        {
          "name": "stderr",
          "output_type": "stream",
          "text": [
            " 38%|███▊      | 191/500 [1:57:53<3:18:42, 38.58s/it, train_loss=0.913]"
          ]
        },
        {
          "name": "stdout",
          "output_type": "stream",
          "text": [
            "labels = tensor([0, 0, 0, 1, 0, 0, 1, 0, 0, 0, 1, 1, 1, 0, 1, 1])\n",
            "loss = <class 'torch.Tensor'>,tensor([0.6221], grad_fn=<UnsqueezeBackward0>),torch.Size([1])\n",
            "preds = tensor([0, 0, 0, 1, 1, 0, 1, 1, 0, 0, 1, 1, 0, 0, 1, 1])\n",
            "batch accuracy = 0.8125\n"
          ]
        },
        {
          "name": "stderr",
          "output_type": "stream",
          "text": [
            " 38%|███▊      | 192/500 [1:58:16<2:53:28, 33.79s/it, train_loss=0.912]"
          ]
        },
        {
          "name": "stdout",
          "output_type": "stream",
          "text": [
            "labels = tensor([0, 1, 1, 1, 0, 0, 0, 1, 0, 0, 0, 1, 1, 1, 0, 1])\n",
            "loss = <class 'torch.Tensor'>,tensor([0.5270], grad_fn=<UnsqueezeBackward0>),torch.Size([1])\n",
            "preds = tensor([0, 1, 1, 0, 0, 0, 0, 1, 0, 0, 0, 1, 0, 1, 0, 1])\n",
            "batch accuracy = 0.875\n"
          ]
        },
        {
          "name": "stderr",
          "output_type": "stream",
          "text": [
            " 39%|███▊      | 193/500 [1:59:08<3:20:09, 39.12s/it, train_loss=0.91]"
          ]
        },
        {
          "name": "stdout",
          "output_type": "stream",
          "text": [
            "labels = tensor([0, 0, 1, 0, 0, 0, 0, 0, 0, 1, 0, 0, 0, 1, 0, 2])\n",
            "loss = <class 'torch.Tensor'>,tensor([0.8210], grad_fn=<UnsqueezeBackward0>),torch.Size([1])\n",
            "preds = tensor([1, 1, 1, 0, 0, 0, 0, 0, 0, 1, 0, 1, 0, 0, 0, 1])\n",
            "batch accuracy = 0.6875\n"
          ]
        },
        {
          "name": "stderr",
          "output_type": "stream",
          "text": [
            " 39%|███▉      | 194/500 [2:00:01<3:41:48, 43.49s/it, train_loss=0.909]"
          ]
        },
        {
          "name": "stdout",
          "output_type": "stream",
          "text": [
            "labels = tensor([0, 0, 1, 1, 0, 1, 0, 0, 0, 0, 0, 1, 0, 1, 1, 0])\n",
            "loss = <class 'torch.Tensor'>,tensor([0.7198], grad_fn=<UnsqueezeBackward0>),torch.Size([1])\n",
            "preds = tensor([0, 0, 0, 1, 0, 1, 0, 0, 1, 0, 0, 0, 0, 1, 0, 0])\n",
            "batch accuracy = 0.75\n"
          ]
        },
        {
          "name": "stderr",
          "output_type": "stream",
          "text": [
            " 39%|███▉      | 195/500 [2:00:38<3:30:56, 41.50s/it, train_loss=0.909]"
          ]
        },
        {
          "name": "stdout",
          "output_type": "stream",
          "text": [
            "labels = tensor([1, 0, 0, 0, 0, 1, 0, 0, 2, 1, 1, 1, 0, 0, 0, 0])\n",
            "loss = <class 'torch.Tensor'>,tensor([0.6898], grad_fn=<UnsqueezeBackward0>),torch.Size([1])\n",
            "preds = tensor([0, 0, 0, 0, 0, 1, 0, 1, 1, 1, 1, 1, 1, 0, 0, 0])\n",
            "batch accuracy = 0.75\n"
          ]
        },
        {
          "name": "stderr",
          "output_type": "stream",
          "text": [
            " 39%|███▉      | 196/500 [2:01:01<3:01:31, 35.83s/it, train_loss=0.907]"
          ]
        },
        {
          "name": "stdout",
          "output_type": "stream",
          "text": [
            "labels = tensor([1, 1, 1, 0, 0, 1, 1, 0, 0, 0, 0, 1, 0, 0, 0, 0])\n",
            "loss = <class 'torch.Tensor'>,tensor([0.7882], grad_fn=<UnsqueezeBackward0>),torch.Size([1])\n",
            "preds = tensor([0, 1, 1, 0, 1, 1, 1, 0, 0, 0, 1, 1, 1, 0, 1, 0])\n",
            "batch accuracy = 0.6875\n"
          ]
        },
        {
          "name": "stderr",
          "output_type": "stream",
          "text": [
            " 39%|███▉      | 197/500 [2:01:39<3:04:11, 36.47s/it, train_loss=0.907]"
          ]
        },
        {
          "name": "stdout",
          "output_type": "stream",
          "text": [
            "labels = tensor([0, 0, 0, 1, 0, 1, 0, 1, 1, 1, 0, 0, 0, 2, 0, 0])\n",
            "loss = <class 'torch.Tensor'>,tensor([0.7842], grad_fn=<UnsqueezeBackward0>),torch.Size([1])\n",
            "preds = tensor([0, 0, 1, 0, 0, 1, 1, 1, 1, 1, 1, 0, 0, 1, 1, 0])\n",
            "batch accuracy = 0.625\n"
          ]
        },
        {
          "name": "stderr",
          "output_type": "stream",
          "text": [
            " 40%|███▉      | 198/500 [2:02:10<2:55:59, 34.97s/it, train_loss=0.906]"
          ]
        },
        {
          "name": "stdout",
          "output_type": "stream",
          "text": [
            "labels = tensor([1, 1, 1, 1, 0, 0, 0, 0, 0, 1, 1, 0, 0, 1, 0, 0])\n",
            "loss = <class 'torch.Tensor'>,tensor([0.8183], grad_fn=<UnsqueezeBackward0>),torch.Size([1])\n",
            "preds = tensor([1, 0, 1, 1, 0, 0, 1, 0, 0, 0, 1, 1, 0, 1, 0, 0])\n",
            "batch accuracy = 0.75\n"
          ]
        },
        {
          "name": "stderr",
          "output_type": "stream",
          "text": [
            " 40%|███▉      | 199/500 [2:02:38<2:44:06, 32.71s/it, train_loss=0.906]"
          ]
        },
        {
          "name": "stdout",
          "output_type": "stream",
          "text": [
            "labels = tensor([0, 1, 1, 0, 0, 1, 1, 0, 1, 1, 0, 0, 1, 1, 0, 0])\n",
            "loss = <class 'torch.Tensor'>,tensor([0.7838], grad_fn=<UnsqueezeBackward0>),torch.Size([1])\n",
            "preds = tensor([0, 0, 0, 0, 0, 0, 1, 0, 1, 0, 1, 0, 1, 1, 0, 1])\n",
            "batch accuracy = 0.625\n"
          ]
        },
        {
          "name": "stderr",
          "output_type": "stream",
          "text": [
            " 40%|████      | 200/500 [2:03:16<2:52:09, 34.43s/it, train_loss=0.905]"
          ]
        },
        {
          "name": "stdout",
          "output_type": "stream",
          "text": [
            "labels = tensor([0, 0, 0, 1, 0, 0, 0, 0, 0, 0, 0, 1, 0, 1, 1, 1])\n",
            "loss = <class 'torch.Tensor'>,tensor([0.6155], grad_fn=<UnsqueezeBackward0>),torch.Size([1])\n",
            "preds = tensor([0, 0, 1, 1, 0, 0, 0, 0, 0, 0, 0, 1, 0, 1, 1, 0])\n",
            "batch accuracy = 0.875\n"
          ]
        },
        {
          "name": "stderr",
          "output_type": "stream",
          "text": [
            " 40%|████      | 201/500 [2:04:00<3:05:45, 37.27s/it, train_loss=0.904]"
          ]
        },
        {
          "name": "stdout",
          "output_type": "stream",
          "text": [
            "labels = tensor([0, 0, 0, 0, 0, 1, 1, 1, 1, 0, 0, 1, 0, 0, 0, 0])\n",
            "loss = <class 'torch.Tensor'>,tensor([0.7141], grad_fn=<UnsqueezeBackward0>),torch.Size([1])\n",
            "preds = tensor([0, 1, 1, 1, 0, 1, 1, 1, 1, 0, 0, 1, 0, 1, 0, 0])\n",
            "batch accuracy = 0.75\n"
          ]
        },
        {
          "name": "stderr",
          "output_type": "stream",
          "text": [
            " 40%|████      | 202/500 [2:04:35<3:02:15, 36.70s/it, train_loss=0.903]"
          ]
        },
        {
          "name": "stdout",
          "output_type": "stream",
          "text": [
            "labels = tensor([0, 1, 0, 1, 0, 0, 2, 1, 0, 1, 0, 0, 0, 0, 0, 1])\n",
            "loss = <class 'torch.Tensor'>,tensor([0.8044], grad_fn=<UnsqueezeBackward0>),torch.Size([1])\n",
            "preds = tensor([0, 0, 0, 1, 1, 1, 1, 0, 0, 1, 1, 0, 0, 1, 0, 1])\n",
            "batch accuracy = 0.5625\n"
          ]
        },
        {
          "name": "stderr",
          "output_type": "stream",
          "text": [
            " 41%|████      | 203/500 [2:05:06<2:52:42, 34.89s/it, train_loss=0.902]"
          ]
        },
        {
          "name": "stdout",
          "output_type": "stream",
          "text": [
            "labels = tensor([2, 1, 0, 0, 0, 1, 1, 0, 1, 1, 1, 0, 1, 0, 0, 1])\n",
            "loss = <class 'torch.Tensor'>,tensor([0.8304], grad_fn=<UnsqueezeBackward0>),torch.Size([1])\n",
            "preds = tensor([0, 1, 0, 0, 0, 0, 1, 0, 0, 1, 1, 1, 1, 1, 0, 1])\n",
            "batch accuracy = 0.6875\n"
          ]
        },
        {
          "name": "stderr",
          "output_type": "stream",
          "text": [
            " 41%|████      | 204/500 [2:05:38<2:47:51, 34.03s/it, train_loss=0.902]"
          ]
        },
        {
          "name": "stdout",
          "output_type": "stream",
          "text": [
            "labels = tensor([0, 0, 0, 2, 1, 0, 0, 0, 1, 1, 1, 0, 0, 0, 0, 0])\n",
            "loss = <class 'torch.Tensor'>,tensor([1.0571], grad_fn=<UnsqueezeBackward0>),torch.Size([1])\n",
            "preds = tensor([0, 1, 1, 0, 1, 1, 0, 1, 0, 1, 0, 0, 0, 1, 0, 1])\n",
            "batch accuracy = 0.4375\n"
          ]
        },
        {
          "name": "stderr",
          "output_type": "stream",
          "text": [
            " 41%|████      | 205/500 [2:06:13<2:49:13, 34.42s/it, train_loss=0.903]"
          ]
        },
        {
          "name": "stdout",
          "output_type": "stream",
          "text": [
            "labels = tensor([1, 0, 0, 0, 1, 0, 0, 1, 0, 0, 0, 1, 0, 0, 0, 1])\n",
            "loss = <class 'torch.Tensor'>,tensor([0.7192], grad_fn=<UnsqueezeBackward0>),torch.Size([1])\n",
            "preds = tensor([0, 1, 0, 0, 1, 0, 1, 1, 0, 0, 1, 1, 0, 1, 0, 1])\n",
            "batch accuracy = 0.6875\n"
          ]
        },
        {
          "name": "stderr",
          "output_type": "stream",
          "text": [
            " 41%|████      | 206/500 [2:06:45<2:44:17, 33.53s/it, train_loss=0.902]"
          ]
        },
        {
          "name": "stdout",
          "output_type": "stream",
          "text": [
            "labels = tensor([0, 0, 0, 0, 0, 0, 0, 0, 1, 0, 1, 0, 0, 0, 0, 0])\n",
            "loss = <class 'torch.Tensor'>,tensor([0.7893], grad_fn=<UnsqueezeBackward0>),torch.Size([1])\n",
            "preds = tensor([1, 1, 1, 1, 0, 0, 0, 0, 1, 0, 1, 0, 1, 0, 0, 0])\n",
            "batch accuracy = 0.6875\n"
          ]
        },
        {
          "name": "stderr",
          "output_type": "stream",
          "text": [
            " 41%|████▏     | 207/500 [2:07:14<2:37:35, 32.27s/it, train_loss=0.901]"
          ]
        },
        {
          "name": "stdout",
          "output_type": "stream",
          "text": [
            "labels = tensor([0, 1, 0, 0, 0, 0, 1, 0, 0, 0, 0, 0, 1, 1, 0, 1])\n",
            "loss = <class 'torch.Tensor'>,tensor([0.8628], grad_fn=<UnsqueezeBackward0>),torch.Size([1])\n",
            "preds = tensor([0, 0, 1, 0, 1, 0, 1, 1, 0, 0, 1, 0, 1, 0, 0, 1])\n",
            "batch accuracy = 0.625\n"
          ]
        },
        {
          "name": "stderr",
          "output_type": "stream",
          "text": [
            " 42%|████▏     | 208/500 [2:07:48<2:40:07, 32.90s/it, train_loss=0.901]"
          ]
        },
        {
          "name": "stdout",
          "output_type": "stream",
          "text": [
            "labels = tensor([0, 0, 1, 0, 0, 1, 1, 0, 0, 0, 0, 0, 0, 1, 0, 0])\n",
            "loss = <class 'torch.Tensor'>,tensor([0.7764], grad_fn=<UnsqueezeBackward0>),torch.Size([1])\n",
            "preds = tensor([0, 1, 1, 0, 0, 1, 1, 1, 0, 0, 1, 0, 1, 1, 0, 0])\n",
            "batch accuracy = 0.75\n"
          ]
        },
        {
          "name": "stderr",
          "output_type": "stream",
          "text": [
            " 42%|████▏     | 209/500 [2:08:17<2:33:16, 31.60s/it, train_loss=0.9]"
          ]
        },
        {
          "name": "stdout",
          "output_type": "stream",
          "text": [
            "labels = tensor([0, 0, 0, 1, 0, 0, 1, 0, 0, 0, 0, 1, 1, 1, 0, 0])\n",
            "loss = <class 'torch.Tensor'>,tensor([0.7539], grad_fn=<UnsqueezeBackward0>),torch.Size([1])\n",
            "preds = tensor([0, 1, 1, 1, 0, 0, 0, 0, 1, 0, 0, 1, 1, 1, 1, 0])\n",
            "batch accuracy = 0.6875\n"
          ]
        },
        {
          "name": "stderr",
          "output_type": "stream",
          "text": [
            " 42%|████▏     | 210/500 [2:08:55<2:41:50, 33.48s/it, train_loss=0.9]"
          ]
        },
        {
          "name": "stdout",
          "output_type": "stream",
          "text": [
            "labels = tensor([1, 1, 0, 1, 0, 0, 0, 0, 0, 0, 1, 1, 2, 0, 0, 1])\n",
            "loss = <class 'torch.Tensor'>,tensor([0.7170], grad_fn=<UnsqueezeBackward0>),torch.Size([1])\n",
            "preds = tensor([1, 1, 0, 1, 0, 0, 0, 1, 0, 1, 1, 0, 0, 0, 1, 1])\n",
            "batch accuracy = 0.6875\n"
          ]
        },
        {
          "name": "stderr",
          "output_type": "stream",
          "text": [
            " 42%|████▏     | 211/500 [2:09:33<2:48:07, 34.90s/it, train_loss=0.899]"
          ]
        },
        {
          "name": "stdout",
          "output_type": "stream",
          "text": [
            "labels = tensor([0, 1, 0, 0, 0, 1, 0, 0, 1, 0, 1, 0, 0, 1, 0, 0])\n",
            "loss = <class 'torch.Tensor'>,tensor([0.6117], grad_fn=<UnsqueezeBackward0>),torch.Size([1])\n",
            "preds = tensor([1, 1, 0, 0, 0, 1, 0, 0, 1, 1, 1, 0, 0, 1, 1, 0])\n",
            "batch accuracy = 0.8125\n"
          ]
        },
        {
          "name": "stderr",
          "output_type": "stream",
          "text": [
            " 42%|████▏     | 212/500 [2:10:05<2:42:59, 33.96s/it, train_loss=0.898]"
          ]
        },
        {
          "name": "stdout",
          "output_type": "stream",
          "text": [
            "labels = tensor([0, 0, 1, 0, 2, 1, 1, 0, 0, 1, 0, 1, 0, 0, 0, 0])\n",
            "loss = <class 'torch.Tensor'>,tensor([0.6947], grad_fn=<UnsqueezeBackward0>),torch.Size([1])\n",
            "preds = tensor([0, 0, 1, 0, 1, 1, 1, 1, 0, 1, 0, 0, 0, 0, 0, 1])\n",
            "batch accuracy = 0.75\n"
          ]
        },
        {
          "name": "stderr",
          "output_type": "stream",
          "text": [
            " 43%|████▎     | 213/500 [2:10:45<2:51:55, 35.94s/it, train_loss=0.897]"
          ]
        },
        {
          "name": "stdout",
          "output_type": "stream",
          "text": [
            "labels = tensor([0, 0, 1, 0, 1, 1, 0, 0, 1, 1, 0, 0, 1, 0, 0, 0])\n",
            "loss = <class 'torch.Tensor'>,tensor([0.6599], grad_fn=<UnsqueezeBackward0>),torch.Size([1])\n",
            "preds = tensor([0, 0, 1, 1, 1, 1, 0, 0, 1, 1, 1, 0, 1, 0, 0, 1])\n",
            "batch accuracy = 0.8125\n"
          ]
        },
        {
          "name": "stderr",
          "output_type": "stream",
          "text": [
            " 43%|████▎     | 214/500 [2:11:16<2:43:51, 34.38s/it, train_loss=0.895]"
          ]
        },
        {
          "name": "stdout",
          "output_type": "stream",
          "text": [
            "labels = tensor([1, 1, 0, 0, 0, 0, 0, 0, 1, 0, 0, 1, 0, 0, 0, 0])\n",
            "loss = <class 'torch.Tensor'>,tensor([0.8699], grad_fn=<UnsqueezeBackward0>),torch.Size([1])\n",
            "preds = tensor([1, 1, 1, 1, 0, 0, 0, 0, 1, 0, 0, 0, 1, 1, 1, 0])\n",
            "batch accuracy = 0.625\n"
          ]
        },
        {
          "name": "stderr",
          "output_type": "stream",
          "text": [
            " 43%|████▎     | 215/500 [2:12:26<3:33:10, 44.88s/it, train_loss=0.895]"
          ]
        },
        {
          "name": "stdout",
          "output_type": "stream",
          "text": [
            "labels = tensor([1, 0, 0, 1, 1, 0, 1, 1, 0, 0, 2, 0, 0, 1, 1, 1])\n",
            "loss = <class 'torch.Tensor'>,tensor([0.6813], grad_fn=<UnsqueezeBackward0>),torch.Size([1])\n",
            "preds = tensor([1, 1, 0, 1, 1, 0, 1, 0, 0, 0, 0, 0, 0, 1, 1, 1])\n",
            "batch accuracy = 0.8125\n"
          ]
        },
        {
          "name": "stderr",
          "output_type": "stream",
          "text": [
            " 43%|████▎     | 216/500 [2:13:09<3:30:49, 44.54s/it, train_loss=0.894]"
          ]
        },
        {
          "name": "stdout",
          "output_type": "stream",
          "text": [
            "labels = tensor([0, 0, 0, 0, 1, 0, 0, 0, 2, 0, 0, 1, 0, 1, 0, 1])\n",
            "loss = <class 'torch.Tensor'>,tensor([0.7911], grad_fn=<UnsqueezeBackward0>),torch.Size([1])\n",
            "preds = tensor([1, 0, 0, 0, 1, 0, 0, 1, 1, 1, 1, 0, 0, 1, 0, 1])\n",
            "batch accuracy = 0.625\n"
          ]
        },
        {
          "name": "stderr",
          "output_type": "stream",
          "text": [
            " 43%|████▎     | 217/500 [2:13:38<3:07:55, 39.84s/it, train_loss=0.894]"
          ]
        },
        {
          "name": "stdout",
          "output_type": "stream",
          "text": [
            "labels = tensor([1, 0, 0, 0, 0, 1, 0, 0, 0, 0, 1, 1, 1, 1, 1, 1])\n",
            "loss = <class 'torch.Tensor'>,tensor([0.6090], grad_fn=<UnsqueezeBackward0>),torch.Size([1])\n",
            "preds = tensor([0, 0, 0, 0, 0, 1, 0, 0, 0, 0, 1, 1, 1, 1, 1, 1])\n",
            "batch accuracy = 0.9375\n"
          ]
        },
        {
          "name": "stderr",
          "output_type": "stream",
          "text": [
            " 44%|████▎     | 218/500 [2:14:16<3:04:14, 39.20s/it, train_loss=0.893]"
          ]
        },
        {
          "name": "stdout",
          "output_type": "stream",
          "text": [
            "labels = tensor([1, 0, 1, 0, 1, 0, 0, 0, 0, 0, 0, 0, 1, 1, 0, 1])\n",
            "loss = <class 'torch.Tensor'>,tensor([0.5843], grad_fn=<UnsqueezeBackward0>),torch.Size([1])\n",
            "preds = tensor([1, 1, 1, 0, 0, 0, 0, 0, 0, 0, 0, 1, 1, 1, 0, 1])\n",
            "batch accuracy = 0.8125\n"
          ]
        },
        {
          "name": "stderr",
          "output_type": "stream",
          "text": [
            " 44%|████▍     | 219/500 [2:15:10<3:24:59, 43.77s/it, train_loss=0.891]"
          ]
        },
        {
          "name": "stdout",
          "output_type": "stream",
          "text": [
            "labels = tensor([0, 0, 0, 0, 1, 0, 0, 0, 0, 0, 0, 0, 0, 1, 1, 1])\n",
            "loss = <class 'torch.Tensor'>,tensor([0.6839], grad_fn=<UnsqueezeBackward0>),torch.Size([1])\n",
            "preds = tensor([0, 0, 1, 0, 1, 1, 0, 0, 1, 0, 0, 0, 0, 0, 1, 1])\n",
            "batch accuracy = 0.75\n"
          ]
        },
        {
          "name": "stderr",
          "output_type": "stream",
          "text": [
            " 44%|████▍     | 220/500 [2:15:46<3:13:21, 41.43s/it, train_loss=0.89]"
          ]
        },
        {
          "name": "stdout",
          "output_type": "stream",
          "text": [
            "labels = tensor([0, 1, 1, 2, 0, 1, 1, 1, 1, 0, 0, 0, 0, 0, 0, 0])\n",
            "loss = <class 'torch.Tensor'>,tensor([0.7221], grad_fn=<UnsqueezeBackward0>),torch.Size([1])\n",
            "preds = tensor([0, 1, 1, 0, 1, 1, 1, 1, 1, 1, 0, 0, 1, 0, 0, 1])\n",
            "batch accuracy = 0.6875\n"
          ]
        },
        {
          "name": "stderr",
          "output_type": "stream",
          "text": [
            " 44%|████▍     | 221/500 [2:16:24<3:07:09, 40.25s/it, train_loss=0.889]"
          ]
        },
        {
          "name": "stdout",
          "output_type": "stream",
          "text": [
            "labels = tensor([0, 1, 0, 0, 0, 0, 0, 0, 1, 0, 0, 0, 1, 0, 0, 0])\n",
            "loss = <class 'torch.Tensor'>,tensor([1.0327], grad_fn=<UnsqueezeBackward0>),torch.Size([1])\n",
            "preds = tensor([1, 1, 0, 1, 0, 0, 1, 1, 0, 0, 0, 0, 0, 1, 1, 1])\n",
            "batch accuracy = 0.4375\n"
          ]
        },
        {
          "name": "stderr",
          "output_type": "stream",
          "text": [
            " 44%|████▍     | 222/500 [2:16:57<2:56:18, 38.05s/it, train_loss=0.89]"
          ]
        },
        {
          "name": "stdout",
          "output_type": "stream",
          "text": [
            "labels = tensor([1, 1, 0, 0, 0, 0, 1, 1, 0, 0, 0, 0, 0, 0, 0, 0])\n",
            "loss = <class 'torch.Tensor'>,tensor([0.6687], grad_fn=<UnsqueezeBackward0>),torch.Size([1])\n",
            "preds = tensor([1, 1, 0, 0, 0, 1, 1, 0, 0, 1, 0, 0, 0, 0, 0, 0])\n",
            "batch accuracy = 0.8125\n"
          ]
        },
        {
          "name": "stderr",
          "output_type": "stream",
          "text": [
            " 45%|████▍     | 223/500 [2:17:22<2:37:39, 34.15s/it, train_loss=0.889]"
          ]
        },
        {
          "name": "stdout",
          "output_type": "stream",
          "text": [
            "labels = tensor([0, 1, 0, 0, 0, 1, 1, 1, 0, 0, 0, 1, 0, 0, 0, 0])\n",
            "loss = <class 'torch.Tensor'>,tensor([0.5695], grad_fn=<UnsqueezeBackward0>),torch.Size([1])\n",
            "preds = tensor([0, 1, 0, 1, 0, 1, 1, 1, 0, 0, 0, 1, 1, 0, 0, 0])\n",
            "batch accuracy = 0.875\n"
          ]
        },
        {
          "name": "stderr",
          "output_type": "stream",
          "text": [
            " 45%|████▍     | 224/500 [2:18:07<2:51:57, 37.38s/it, train_loss=0.888]"
          ]
        },
        {
          "name": "stdout",
          "output_type": "stream",
          "text": [
            "labels = tensor([1, 1, 0, 0, 1, 1, 0, 0, 0, 1, 0, 0, 0, 0, 0, 0])\n",
            "loss = <class 'torch.Tensor'>,tensor([0.6650], grad_fn=<UnsqueezeBackward0>),torch.Size([1])\n",
            "preds = tensor([1, 1, 0, 0, 1, 0, 0, 0, 1, 1, 0, 0, 0, 0, 1, 0])\n",
            "batch accuracy = 0.8125\n"
          ]
        },
        {
          "name": "stderr",
          "output_type": "stream",
          "text": [
            " 45%|████▌     | 225/500 [2:18:38<2:42:44, 35.51s/it, train_loss=0.887]"
          ]
        },
        {
          "name": "stdout",
          "output_type": "stream",
          "text": [
            "labels = tensor([0, 0, 0, 1, 0, 0, 1, 0, 0, 0, 0, 1, 0, 1, 0, 0])\n",
            "loss = <class 'torch.Tensor'>,tensor([0.7026], grad_fn=<UnsqueezeBackward0>),torch.Size([1])\n",
            "preds = tensor([1, 0, 1, 0, 0, 0, 1, 1, 0, 0, 0, 1, 1, 1, 0, 0])\n",
            "batch accuracy = 0.6875\n"
          ]
        },
        {
          "name": "stderr",
          "output_type": "stream",
          "text": [
            " 45%|████▌     | 226/500 [2:18:58<2:21:28, 30.98s/it, train_loss=0.886]"
          ]
        },
        {
          "name": "stdout",
          "output_type": "stream",
          "text": [
            "labels = tensor([0, 1, 0, 0, 1, 0, 1, 0, 0, 1, 0, 1, 1, 0, 0, 0])\n",
            "loss = <class 'torch.Tensor'>,tensor([0.8477], grad_fn=<UnsqueezeBackward0>),torch.Size([1])\n",
            "preds = tensor([0, 0, 1, 1, 1, 1, 1, 0, 0, 0, 0, 0, 1, 1, 0, 0])\n",
            "batch accuracy = 0.5625\n"
          ]
        },
        {
          "name": "stderr",
          "output_type": "stream",
          "text": [
            " 45%|████▌     | 227/500 [2:19:35<2:28:23, 32.61s/it, train_loss=0.886]"
          ]
        },
        {
          "name": "stdout",
          "output_type": "stream",
          "text": [
            "labels = tensor([0, 0, 0, 0, 0, 0, 1, 0, 0, 0, 1, 0, 1, 0, 0, 1])\n",
            "loss = <class 'torch.Tensor'>,tensor([0.6859], grad_fn=<UnsqueezeBackward0>),torch.Size([1])\n",
            "preds = tensor([1, 0, 1, 0, 0, 0, 0, 0, 0, 0, 1, 0, 1, 0, 1, 1])\n",
            "batch accuracy = 0.75\n"
          ]
        },
        {
          "name": "stderr",
          "output_type": "stream",
          "text": [
            " 46%|████▌     | 228/500 [2:20:08<2:28:19, 32.72s/it, train_loss=0.885]"
          ]
        },
        {
          "name": "stdout",
          "output_type": "stream",
          "text": [
            "labels = tensor([1, 0, 1, 0, 1, 1, 0, 0, 0, 0, 0, 0, 0, 0, 0, 0])\n",
            "loss = <class 'torch.Tensor'>,tensor([0.6367], grad_fn=<UnsqueezeBackward0>),torch.Size([1])\n",
            "preds = tensor([1, 0, 1, 0, 1, 1, 0, 0, 1, 0, 0, 1, 1, 0, 0, 0])\n",
            "batch accuracy = 0.8125\n"
          ]
        },
        {
          "name": "stderr",
          "output_type": "stream",
          "text": [
            " 46%|████▌     | 229/500 [2:20:54<2:45:45, 36.70s/it, train_loss=0.884]"
          ]
        },
        {
          "name": "stdout",
          "output_type": "stream",
          "text": [
            "labels = tensor([0, 2, 0, 0, 0, 1, 1, 0, 0, 1, 1, 1, 0, 1, 1, 0])\n",
            "loss = <class 'torch.Tensor'>,tensor([0.8224], grad_fn=<UnsqueezeBackward0>),torch.Size([1])\n",
            "preds = tensor([0, 1, 1, 0, 0, 0, 1, 0, 0, 1, 1, 1, 0, 0, 1, 1])\n",
            "batch accuracy = 0.6875\n"
          ]
        },
        {
          "name": "stderr",
          "output_type": "stream",
          "text": [
            " 46%|████▌     | 230/500 [2:21:25<2:37:28, 35.00s/it, train_loss=0.883]"
          ]
        },
        {
          "name": "stdout",
          "output_type": "stream",
          "text": [
            "labels = tensor([0, 0, 1, 0, 1, 0, 1, 1, 0, 0, 0, 0, 0, 1, 1, 0])\n",
            "loss = <class 'torch.Tensor'>,tensor([0.5721], grad_fn=<UnsqueezeBackward0>),torch.Size([1])\n",
            "preds = tensor([0, 0, 1, 0, 1, 0, 1, 1, 0, 1, 0, 0, 0, 0, 1, 0])\n",
            "batch accuracy = 0.875\n"
          ]
        },
        {
          "name": "stderr",
          "output_type": "stream",
          "text": [
            " 46%|████▌     | 231/500 [2:22:03<2:41:15, 35.97s/it, train_loss=0.882]"
          ]
        },
        {
          "name": "stdout",
          "output_type": "stream",
          "text": [
            "labels = tensor([1, 0, 0, 0, 1, 1, 0, 0, 1, 0, 0, 1, 0, 1, 0, 0])\n",
            "loss = <class 'torch.Tensor'>,tensor([0.7182], grad_fn=<UnsqueezeBackward0>),torch.Size([1])\n",
            "preds = tensor([0, 1, 0, 1, 0, 1, 0, 0, 1, 0, 0, 1, 0, 1, 1, 0])\n",
            "batch accuracy = 0.6875\n"
          ]
        },
        {
          "name": "stderr",
          "output_type": "stream",
          "text": [
            " 46%|████▋     | 232/500 [2:22:42<2:45:16, 37.00s/it, train_loss=0.881]"
          ]
        },
        {
          "name": "stdout",
          "output_type": "stream",
          "text": [
            "labels = tensor([2, 0, 0, 0, 0, 1, 0, 0, 0, 0, 0, 0, 0, 0, 1, 1])\n",
            "loss = <class 'torch.Tensor'>,tensor([0.6256], grad_fn=<UnsqueezeBackward0>),torch.Size([1])\n",
            "preds = tensor([1, 1, 0, 1, 0, 1, 0, 0, 0, 0, 0, 0, 0, 0, 1, 1])\n",
            "batch accuracy = 0.8125\n"
          ]
        },
        {
          "name": "stderr",
          "output_type": "stream",
          "text": [
            " 47%|████▋     | 233/500 [2:23:28<2:56:36, 39.69s/it, train_loss=0.88]"
          ]
        },
        {
          "name": "stdout",
          "output_type": "stream",
          "text": [
            "labels = tensor([1, 0, 1, 0, 1, 0, 1, 0, 0, 0, 0, 0, 0, 0, 0, 0])\n",
            "loss = <class 'torch.Tensor'>,tensor([0.8551], grad_fn=<UnsqueezeBackward0>),torch.Size([1])\n",
            "preds = tensor([0, 0, 1, 0, 0, 0, 0, 0, 0, 0, 1, 1, 1, 0, 0, 0])\n",
            "batch accuracy = 0.625\n"
          ]
        },
        {
          "name": "stderr",
          "output_type": "stream",
          "text": [
            " 47%|████▋     | 234/500 [2:23:45<2:25:35, 32.84s/it, train_loss=0.88]"
          ]
        },
        {
          "name": "stdout",
          "output_type": "stream",
          "text": [
            "labels = tensor([0, 0, 0, 0, 1, 0, 1, 0, 0, 0, 1, 0, 0, 0, 0, 0])\n",
            "loss = <class 'torch.Tensor'>,tensor([0.5866], grad_fn=<UnsqueezeBackward0>),torch.Size([1])\n",
            "preds = tensor([0, 1, 0, 0, 1, 0, 1, 0, 0, 0, 1, 1, 0, 0, 0, 0])\n",
            "batch accuracy = 0.875\n"
          ]
        },
        {
          "name": "stderr",
          "output_type": "stream",
          "text": [
            " 47%|████▋     | 235/500 [2:24:22<2:30:11, 34.01s/it, train_loss=0.879]"
          ]
        },
        {
          "name": "stdout",
          "output_type": "stream",
          "text": [
            "labels = tensor([1, 0, 0, 0, 0, 0, 1, 1, 0, 0, 0, 1, 0, 1, 0, 0])\n",
            "loss = <class 'torch.Tensor'>,tensor([0.7982], grad_fn=<UnsqueezeBackward0>),torch.Size([1])\n",
            "preds = tensor([1, 0, 0, 0, 1, 1, 0, 1, 0, 0, 0, 1, 0, 0, 0, 0])\n",
            "batch accuracy = 0.75\n"
          ]
        },
        {
          "name": "stderr",
          "output_type": "stream",
          "text": [
            " 47%|████▋     | 236/500 [2:24:59<2:33:10, 34.81s/it, train_loss=0.879]"
          ]
        },
        {
          "name": "stdout",
          "output_type": "stream",
          "text": [
            "labels = tensor([0, 1, 0, 0, 1, 1, 0, 0, 0, 1, 1, 0, 0, 1, 1, 1])\n",
            "loss = <class 'torch.Tensor'>,tensor([0.8133], grad_fn=<UnsqueezeBackward0>),torch.Size([1])\n",
            "preds = tensor([0, 0, 0, 0, 1, 1, 1, 0, 0, 1, 0, 0, 1, 1, 1, 1])\n",
            "batch accuracy = 0.75\n"
          ]
        },
        {
          "name": "stderr",
          "output_type": "stream",
          "text": [
            " 47%|████▋     | 237/500 [2:25:42<2:44:05, 37.43s/it, train_loss=0.878]"
          ]
        },
        {
          "name": "stdout",
          "output_type": "stream",
          "text": [
            "labels = tensor([0, 0, 0, 0, 0, 0, 0, 0, 0, 1, 0, 1, 0, 0, 0, 1])\n",
            "loss = <class 'torch.Tensor'>,tensor([0.6687], grad_fn=<UnsqueezeBackward0>),torch.Size([1])\n",
            "preds = tensor([0, 0, 1, 0, 0, 0, 0, 0, 1, 1, 0, 1, 0, 0, 1, 1])\n",
            "batch accuracy = 0.8125\n"
          ]
        },
        {
          "name": "stderr",
          "output_type": "stream",
          "text": [
            " 48%|████▊     | 238/500 [2:26:02<2:19:50, 32.03s/it, train_loss=0.877]"
          ]
        },
        {
          "name": "stdout",
          "output_type": "stream",
          "text": [
            "labels = tensor([1, 0, 0, 0, 0, 0, 1, 1, 0, 1, 0, 0, 1, 0, 0, 0])\n",
            "loss = <class 'torch.Tensor'>,tensor([0.7843], grad_fn=<UnsqueezeBackward0>),torch.Size([1])\n",
            "preds = tensor([1, 0, 1, 1, 0, 0, 1, 0, 0, 1, 1, 0, 1, 0, 1, 0])\n",
            "batch accuracy = 0.6875\n"
          ]
        },
        {
          "name": "stderr",
          "output_type": "stream",
          "text": [
            " 48%|████▊     | 239/500 [2:26:42<2:30:47, 34.67s/it, train_loss=0.877]"
          ]
        },
        {
          "name": "stdout",
          "output_type": "stream",
          "text": [
            "labels = tensor([0, 1, 0, 0, 1, 0, 0, 1, 1, 0, 0, 1, 0, 0, 0, 1])\n",
            "loss = <class 'torch.Tensor'>,tensor([0.6753], grad_fn=<UnsqueezeBackward0>),torch.Size([1])\n",
            "preds = tensor([0, 1, 0, 0, 1, 1, 0, 1, 1, 0, 0, 1, 0, 1, 1, 0])\n",
            "batch accuracy = 0.75\n"
          ]
        },
        {
          "name": "stderr",
          "output_type": "stream",
          "text": [
            " 48%|████▊     | 240/500 [2:27:21<2:35:27, 35.87s/it, train_loss=0.876]"
          ]
        },
        {
          "name": "stdout",
          "output_type": "stream",
          "text": [
            "labels = tensor([0, 1, 0, 0, 0, 0, 1, 0, 0, 1, 1, 0, 1, 0, 0, 0])\n",
            "loss = <class 'torch.Tensor'>,tensor([0.6873], grad_fn=<UnsqueezeBackward0>),torch.Size([1])\n",
            "preds = tensor([1, 1, 0, 0, 0, 0, 0, 1, 0, 1, 1, 0, 1, 0, 0, 0])\n",
            "batch accuracy = 0.8125\n"
          ]
        },
        {
          "name": "stderr",
          "output_type": "stream",
          "text": [
            " 48%|████▊     | 241/500 [2:27:49<2:24:00, 33.36s/it, train_loss=0.875]"
          ]
        },
        {
          "name": "stdout",
          "output_type": "stream",
          "text": [
            "labels = tensor([0, 0, 0, 0, 0, 0, 1, 1, 0, 0, 0, 0, 0, 0, 0, 0])\n",
            "loss = <class 'torch.Tensor'>,tensor([0.6003], grad_fn=<UnsqueezeBackward0>),torch.Size([1])\n",
            "preds = tensor([1, 0, 0, 0, 0, 1, 1, 1, 0, 0, 0, 1, 0, 0, 0, 1])\n",
            "batch accuracy = 0.75\n"
          ]
        },
        {
          "name": "stderr",
          "output_type": "stream",
          "text": [
            " 48%|████▊     | 242/500 [2:28:26<2:28:41, 34.58s/it, train_loss=0.874]"
          ]
        },
        {
          "name": "stdout",
          "output_type": "stream",
          "text": [
            "labels = tensor([0, 0, 0, 1, 0, 0, 1, 0, 1, 0, 1, 1, 0, 0, 0, 0])\n",
            "loss = <class 'torch.Tensor'>,tensor([0.4875], grad_fn=<UnsqueezeBackward0>),torch.Size([1])\n",
            "preds = tensor([0, 0, 0, 1, 0, 0, 0, 0, 1, 0, 1, 1, 0, 0, 1, 0])\n",
            "batch accuracy = 0.875\n"
          ]
        },
        {
          "name": "stderr",
          "output_type": "stream",
          "text": [
            " 49%|████▊     | 243/500 [2:29:00<2:26:52, 34.29s/it, train_loss=0.873]"
          ]
        },
        {
          "name": "stdout",
          "output_type": "stream",
          "text": [
            "labels = tensor([0, 1, 0, 2, 2, 0, 0, 2, 0, 1, 1, 0, 0, 1, 0, 1])\n",
            "loss = <class 'torch.Tensor'>,tensor([0.9335], grad_fn=<UnsqueezeBackward0>),torch.Size([1])\n",
            "preds = tensor([0, 1, 0, 1, 1, 1, 0, 1, 0, 0, 1, 0, 0, 1, 0, 0])\n",
            "batch accuracy = 0.625\n"
          ]
        },
        {
          "name": "stderr",
          "output_type": "stream",
          "text": [
            " 49%|████▉     | 244/500 [2:29:31<2:23:03, 33.53s/it, train_loss=0.873]"
          ]
        },
        {
          "name": "stdout",
          "output_type": "stream",
          "text": [
            "labels = tensor([1, 1, 0, 0, 0, 0, 0, 0, 1, 1, 0, 1, 0, 1, 1, 0])\n",
            "loss = <class 'torch.Tensor'>,tensor([0.5964], grad_fn=<UnsqueezeBackward0>),torch.Size([1])\n",
            "preds = tensor([1, 1, 0, 0, 0, 1, 0, 0, 1, 1, 0, 1, 0, 0, 1, 0])\n",
            "batch accuracy = 0.875\n"
          ]
        },
        {
          "name": "stderr",
          "output_type": "stream",
          "text": [
            " 49%|████▉     | 245/500 [2:30:03<2:20:00, 32.94s/it, train_loss=0.872]"
          ]
        },
        {
          "name": "stdout",
          "output_type": "stream",
          "text": [
            "labels = tensor([1, 0, 1, 0, 1, 0, 0, 0, 1, 1, 0, 1, 1, 0, 0, 0])\n",
            "loss = <class 'torch.Tensor'>,tensor([0.5581], grad_fn=<UnsqueezeBackward0>),torch.Size([1])\n",
            "preds = tensor([1, 0, 1, 0, 0, 0, 0, 1, 1, 1, 0, 0, 1, 0, 0, 0])\n",
            "batch accuracy = 0.8125\n"
          ]
        },
        {
          "name": "stderr",
          "output_type": "stream",
          "text": [
            " 49%|████▉     | 246/500 [2:30:44<2:30:15, 35.50s/it, train_loss=0.871]"
          ]
        },
        {
          "name": "stdout",
          "output_type": "stream",
          "text": [
            "labels = tensor([0, 0, 1, 1, 0, 0, 0, 0, 0, 1, 0, 2, 0, 0, 1, 1])\n",
            "loss = <class 'torch.Tensor'>,tensor([0.5684], grad_fn=<UnsqueezeBackward0>),torch.Size([1])\n",
            "preds = tensor([1, 0, 1, 1, 0, 0, 0, 0, 0, 1, 0, 1, 0, 0, 1, 0])\n",
            "batch accuracy = 0.8125\n"
          ]
        },
        {
          "name": "stderr",
          "output_type": "stream",
          "text": [
            " 49%|████▉     | 247/500 [2:31:21<2:30:48, 35.77s/it, train_loss=0.869]"
          ]
        },
        {
          "name": "stdout",
          "output_type": "stream",
          "text": [
            "labels = tensor([0, 0, 0, 0, 1, 1, 0, 0, 0, 0, 1, 1, 0, 1, 1, 0])\n",
            "loss = <class 'torch.Tensor'>,tensor([0.5876], grad_fn=<UnsqueezeBackward0>),torch.Size([1])\n",
            "preds = tensor([0, 0, 0, 0, 1, 1, 0, 1, 0, 0, 1, 1, 0, 0, 1, 0])\n",
            "batch accuracy = 0.875\n"
          ]
        },
        {
          "name": "stderr",
          "output_type": "stream",
          "text": [
            " 50%|████▉     | 248/500 [2:32:00<2:34:55, 36.89s/it, train_loss=0.868]"
          ]
        },
        {
          "name": "stdout",
          "output_type": "stream",
          "text": [
            "labels = tensor([1, 0, 0, 0, 0, 0, 0, 0, 0, 0, 1, 1, 0, 0, 0, 0])\n",
            "loss = <class 'torch.Tensor'>,tensor([0.6058], grad_fn=<UnsqueezeBackward0>),torch.Size([1])\n",
            "preds = tensor([1, 0, 1, 0, 1, 1, 1, 0, 0, 0, 1, 1, 0, 0, 0, 0])\n",
            "batch accuracy = 0.75\n"
          ]
        },
        {
          "name": "stderr",
          "output_type": "stream",
          "text": [
            " 50%|████▉     | 249/500 [2:32:33<2:29:15, 35.68s/it, train_loss=0.867]"
          ]
        },
        {
          "name": "stdout",
          "output_type": "stream",
          "text": [
            "labels = tensor([0, 1, 0, 1, 1, 1, 0, 1, 0, 0, 1, 0, 1, 1, 1, 1])\n",
            "loss = <class 'torch.Tensor'>,tensor([0.6002], grad_fn=<UnsqueezeBackward0>),torch.Size([1])\n",
            "preds = tensor([1, 1, 0, 1, 1, 1, 0, 1, 0, 0, 0, 0, 1, 0, 1, 1])\n",
            "batch accuracy = 0.8125\n"
          ]
        },
        {
          "name": "stderr",
          "output_type": "stream",
          "text": [
            " 50%|█████     | 250/500 [2:33:01<2:18:46, 33.31s/it, train_loss=0.866]"
          ]
        },
        {
          "name": "stdout",
          "output_type": "stream",
          "text": [
            "labels = tensor([0, 0, 0, 1, 0, 0, 0, 1, 0, 0, 0, 0, 1, 0, 0, 1])\n",
            "loss = <class 'torch.Tensor'>,tensor([0.5418], grad_fn=<UnsqueezeBackward0>),torch.Size([1])\n",
            "preds = tensor([0, 0, 0, 1, 1, 0, 0, 1, 0, 0, 0, 0, 1, 0, 0, 1])\n",
            "batch accuracy = 0.9375\n"
          ]
        },
        {
          "name": "stderr",
          "output_type": "stream",
          "text": [
            " 50%|█████     | 251/500 [2:33:41<2:26:35, 35.32s/it, train_loss=0.865]"
          ]
        },
        {
          "name": "stdout",
          "output_type": "stream",
          "text": [
            "labels = tensor([1, 0, 0, 1, 0, 0, 0, 0, 0, 1, 0, 0, 1, 0, 0, 0])\n",
            "loss = <class 'torch.Tensor'>,tensor([0.5264], grad_fn=<UnsqueezeBackward0>),torch.Size([1])\n",
            "preds = tensor([1, 0, 0, 1, 0, 1, 1, 0, 1, 1, 0, 0, 1, 0, 0, 0])\n",
            "batch accuracy = 0.8125\n"
          ]
        },
        {
          "name": "stderr",
          "output_type": "stream",
          "text": [
            " 50%|█████     | 252/500 [2:34:07<2:14:55, 32.64s/it, train_loss=0.863]"
          ]
        },
        {
          "name": "stdout",
          "output_type": "stream",
          "text": [
            "labels = tensor([0, 0, 0, 0, 0, 1, 0, 1, 0, 0, 0, 0, 0, 0, 0, 0])\n",
            "loss = <class 'torch.Tensor'>,tensor([0.5931], grad_fn=<UnsqueezeBackward0>),torch.Size([1])\n",
            "preds = tensor([0, 0, 0, 1, 1, 1, 0, 1, 0, 0, 0, 0, 1, 0, 0, 0])\n",
            "batch accuracy = 0.8125\n"
          ]
        },
        {
          "name": "stderr",
          "output_type": "stream",
          "text": [
            " 51%|█████     | 253/500 [2:34:38<2:11:31, 31.95s/it, train_loss=0.862]"
          ]
        },
        {
          "name": "stdout",
          "output_type": "stream",
          "text": [
            "labels = tensor([0, 1, 0, 0, 0, 0, 0, 1, 1, 1, 0, 1, 0, 0, 0, 1])\n",
            "loss = <class 'torch.Tensor'>,tensor([0.7976], grad_fn=<UnsqueezeBackward0>),torch.Size([1])\n",
            "preds = tensor([0, 1, 0, 0, 1, 1, 0, 0, 1, 1, 1, 0, 0, 0, 0, 1])\n",
            "batch accuracy = 0.6875\n"
          ]
        },
        {
          "name": "stderr",
          "output_type": "stream",
          "text": [
            " 51%|█████     | 254/500 [2:35:09<2:10:22, 31.80s/it, train_loss=0.862]"
          ]
        },
        {
          "name": "stdout",
          "output_type": "stream",
          "text": [
            "labels = tensor([0, 1, 1, 1, 0, 0, 0, 0, 0, 0, 0, 1, 0, 1, 0, 0])\n",
            "loss = <class 'torch.Tensor'>,tensor([0.6080], grad_fn=<UnsqueezeBackward0>),torch.Size([1])\n",
            "preds = tensor([0, 1, 1, 1, 0, 0, 1, 0, 1, 0, 0, 1, 0, 1, 0, 1])\n",
            "batch accuracy = 0.8125\n"
          ]
        },
        {
          "name": "stderr",
          "output_type": "stream",
          "text": [
            " 51%|█████     | 255/500 [2:35:35<2:03:02, 30.13s/it, train_loss=0.861]"
          ]
        },
        {
          "name": "stdout",
          "output_type": "stream",
          "text": [
            "labels = tensor([0, 0, 0, 0, 0, 0, 0, 1, 1, 0, 0, 1, 0, 0, 0, 0])\n",
            "loss = <class 'torch.Tensor'>,tensor([0.7337], grad_fn=<UnsqueezeBackward0>),torch.Size([1])\n",
            "preds = tensor([1, 0, 0, 0, 0, 0, 0, 1, 1, 0, 0, 1, 1, 0, 1, 1])\n",
            "batch accuracy = 0.75\n"
          ]
        },
        {
          "name": "stderr",
          "output_type": "stream",
          "text": [
            " 51%|█████     | 256/500 [2:36:00<1:55:46, 28.47s/it, train_loss=0.861]"
          ]
        },
        {
          "name": "stdout",
          "output_type": "stream",
          "text": [
            "labels = tensor([2, 0, 0, 1, 0, 0, 0, 0, 1, 0, 0, 0, 0, 1, 1, 1])\n",
            "loss = <class 'torch.Tensor'>,tensor([0.8678], grad_fn=<UnsqueezeBackward0>),torch.Size([1])\n",
            "preds = tensor([1, 0, 0, 1, 0, 0, 0, 0, 1, 0, 0, 0, 1, 1, 0, 0])\n",
            "batch accuracy = 0.75\n"
          ]
        },
        {
          "name": "stderr",
          "output_type": "stream",
          "text": [
            " 51%|█████▏    | 257/500 [2:36:17<1:40:57, 24.93s/it, train_loss=0.861]"
          ]
        },
        {
          "name": "stdout",
          "output_type": "stream",
          "text": [
            "labels = tensor([0, 2, 0, 1, 0, 0, 1, 0, 1, 1, 1, 0, 1, 1, 1, 0])\n",
            "loss = <class 'torch.Tensor'>,tensor([0.5933], grad_fn=<UnsqueezeBackward0>),torch.Size([1])\n",
            "preds = tensor([0, 0, 0, 1, 0, 0, 1, 0, 1, 1, 1, 0, 1, 0, 1, 0])\n",
            "batch accuracy = 0.875\n"
          ]
        },
        {
          "name": "stderr",
          "output_type": "stream",
          "text": [
            " 52%|█████▏    | 258/500 [2:36:52<1:53:50, 28.22s/it, train_loss=0.86]"
          ]
        },
        {
          "name": "stdout",
          "output_type": "stream",
          "text": [
            "labels = tensor([0, 0, 0, 0, 1, 1, 0, 0, 0, 0, 0, 1, 1, 1, 0, 1])\n",
            "loss = <class 'torch.Tensor'>,tensor([0.6324], grad_fn=<UnsqueezeBackward0>),torch.Size([1])\n",
            "preds = tensor([0, 0, 0, 0, 1, 1, 0, 1, 0, 1, 0, 1, 1, 0, 0, 1])\n",
            "batch accuracy = 0.8125\n"
          ]
        },
        {
          "name": "stderr",
          "output_type": "stream",
          "text": [
            " 52%|█████▏    | 259/500 [2:37:28<2:01:40, 30.29s/it, train_loss=0.859]"
          ]
        },
        {
          "name": "stdout",
          "output_type": "stream",
          "text": [
            "labels = tensor([0, 0, 0, 0, 1, 1, 0, 0, 0, 0, 1, 1, 1, 0, 0, 0])\n",
            "loss = <class 'torch.Tensor'>,tensor([0.6826], grad_fn=<UnsqueezeBackward0>),torch.Size([1])\n",
            "preds = tensor([0, 0, 1, 1, 0, 1, 0, 1, 0, 0, 1, 1, 1, 0, 0, 0])\n",
            "batch accuracy = 0.75\n"
          ]
        }
      ],
      "source": [
        "# Initialize an empty list to store accuracies\n",
        "brain.epoch_valid_accuracies = []\n",
        "\n",
        "#  Set up a training loop using the system object\n",
        "brain.fit(\n",
        "    epoch_counter=range(1),\n",
        "    train_set= dataset,\n",
        "    valid_set=dev_dataset,\n",
        "    train_loader_kwargs={\"shuffle\": True, \"batch_size\": 16 },\n",
        "    valid_loader_kwargs={\"batch_size\": 16},\n",
        "    progressbar=True,\n",
        ")"
      ]
    },
    {
      "cell_type": "markdown",
      "metadata": {
        "id": "wUwTWafBTeu_"
      },
      "source": [
        "**"
      ]
    },
    {
      "cell_type": "code",
      "execution_count": null,
      "metadata": {
        "id": "es1ht0AiSryH"
      },
      "outputs": [],
      "source": []
    }
  ],
  "metadata": {
    "accelerator": "GPU",
    "colab": {
      "provenance": [],
      "toc_visible": true
    },
    "gpuClass": "standard",
    "kernelspec": {
      "display_name": "Python 3",
      "name": "python3"
    },
    "language_info": {
      "name": "python"
    },
    "widgets": {
      "application/vnd.jupyter.widget-state+json": {
        "008ce478b05c4f0b862ff830855ee419": {
          "model_module": "@jupyter-widgets/controls",
          "model_module_version": "1.5.0",
          "model_name": "ProgressStyleModel",
          "state": {
            "_model_module": "@jupyter-widgets/controls",
            "_model_module_version": "1.5.0",
            "_model_name": "ProgressStyleModel",
            "_view_count": null,
            "_view_module": "@jupyter-widgets/base",
            "_view_module_version": "1.2.0",
            "_view_name": "StyleView",
            "bar_color": null,
            "description_width": ""
          }
        },
        "0989e4d03906454a9492468bc79757fa": {
          "model_module": "@jupyter-widgets/base",
          "model_module_version": "1.2.0",
          "model_name": "LayoutModel",
          "state": {
            "_model_module": "@jupyter-widgets/base",
            "_model_module_version": "1.2.0",
            "_model_name": "LayoutModel",
            "_view_count": null,
            "_view_module": "@jupyter-widgets/base",
            "_view_module_version": "1.2.0",
            "_view_name": "LayoutView",
            "align_content": null,
            "align_items": null,
            "align_self": null,
            "border": null,
            "bottom": null,
            "display": null,
            "flex": null,
            "flex_flow": null,
            "grid_area": null,
            "grid_auto_columns": null,
            "grid_auto_flow": null,
            "grid_auto_rows": null,
            "grid_column": null,
            "grid_gap": null,
            "grid_row": null,
            "grid_template_areas": null,
            "grid_template_columns": null,
            "grid_template_rows": null,
            "height": null,
            "justify_content": null,
            "justify_items": null,
            "left": null,
            "margin": null,
            "max_height": null,
            "max_width": null,
            "min_height": null,
            "min_width": null,
            "object_fit": null,
            "object_position": null,
            "order": null,
            "overflow": null,
            "overflow_x": null,
            "overflow_y": null,
            "padding": null,
            "right": null,
            "top": null,
            "visibility": null,
            "width": null
          }
        },
        "0ee9ade1a3de44488831c960b20738c4": {
          "model_module": "@jupyter-widgets/controls",
          "model_module_version": "1.5.0",
          "model_name": "DescriptionStyleModel",
          "state": {
            "_model_module": "@jupyter-widgets/controls",
            "_model_module_version": "1.5.0",
            "_model_name": "DescriptionStyleModel",
            "_view_count": null,
            "_view_module": "@jupyter-widgets/base",
            "_view_module_version": "1.2.0",
            "_view_name": "StyleView",
            "description_width": ""
          }
        },
        "11327f45978542899dcd317c01a6d072": {
          "model_module": "@jupyter-widgets/base",
          "model_module_version": "1.2.0",
          "model_name": "LayoutModel",
          "state": {
            "_model_module": "@jupyter-widgets/base",
            "_model_module_version": "1.2.0",
            "_model_name": "LayoutModel",
            "_view_count": null,
            "_view_module": "@jupyter-widgets/base",
            "_view_module_version": "1.2.0",
            "_view_name": "LayoutView",
            "align_content": null,
            "align_items": null,
            "align_self": null,
            "border": null,
            "bottom": null,
            "display": null,
            "flex": null,
            "flex_flow": null,
            "grid_area": null,
            "grid_auto_columns": null,
            "grid_auto_flow": null,
            "grid_auto_rows": null,
            "grid_column": null,
            "grid_gap": null,
            "grid_row": null,
            "grid_template_areas": null,
            "grid_template_columns": null,
            "grid_template_rows": null,
            "height": null,
            "justify_content": null,
            "justify_items": null,
            "left": null,
            "margin": null,
            "max_height": null,
            "max_width": null,
            "min_height": null,
            "min_width": null,
            "object_fit": null,
            "object_position": null,
            "order": null,
            "overflow": null,
            "overflow_x": null,
            "overflow_y": null,
            "padding": null,
            "right": null,
            "top": null,
            "visibility": null,
            "width": null
          }
        },
        "11f669db041f41acad5742821627df44": {
          "model_module": "@jupyter-widgets/controls",
          "model_module_version": "1.5.0",
          "model_name": "HTMLModel",
          "state": {
            "_dom_classes": [],
            "_model_module": "@jupyter-widgets/controls",
            "_model_module_version": "1.5.0",
            "_model_name": "HTMLModel",
            "_view_count": null,
            "_view_module": "@jupyter-widgets/controls",
            "_view_module_version": "1.5.0",
            "_view_name": "HTMLView",
            "description": "",
            "description_tooltip": null,
            "layout": "IPY_MODEL_36ee6cdc59b14e8a9d5ee1c828d2fd7f",
            "placeholder": "​",
            "style": "IPY_MODEL_7b6ec524ab5649f0a8a8c00c035de0b7",
            "value": "Downloading normalizer.ckpt: 100%"
          }
        },
        "14e784acdfe344348fadc07ee932ca87": {
          "model_module": "@jupyter-widgets/base",
          "model_module_version": "1.2.0",
          "model_name": "LayoutModel",
          "state": {
            "_model_module": "@jupyter-widgets/base",
            "_model_module_version": "1.2.0",
            "_model_name": "LayoutModel",
            "_view_count": null,
            "_view_module": "@jupyter-widgets/base",
            "_view_module_version": "1.2.0",
            "_view_name": "LayoutView",
            "align_content": null,
            "align_items": null,
            "align_self": null,
            "border": null,
            "bottom": null,
            "display": null,
            "flex": null,
            "flex_flow": null,
            "grid_area": null,
            "grid_auto_columns": null,
            "grid_auto_flow": null,
            "grid_auto_rows": null,
            "grid_column": null,
            "grid_gap": null,
            "grid_row": null,
            "grid_template_areas": null,
            "grid_template_columns": null,
            "grid_template_rows": null,
            "height": null,
            "justify_content": null,
            "justify_items": null,
            "left": null,
            "margin": null,
            "max_height": null,
            "max_width": null,
            "min_height": null,
            "min_width": null,
            "object_fit": null,
            "object_position": null,
            "order": null,
            "overflow": null,
            "overflow_x": null,
            "overflow_y": null,
            "padding": null,
            "right": null,
            "top": null,
            "visibility": null,
            "width": null
          }
        },
        "155b1d2f84f345dd974610ee5e1f4031": {
          "model_module": "@jupyter-widgets/controls",
          "model_module_version": "1.5.0",
          "model_name": "ProgressStyleModel",
          "state": {
            "_model_module": "@jupyter-widgets/controls",
            "_model_module_version": "1.5.0",
            "_model_name": "ProgressStyleModel",
            "_view_count": null,
            "_view_module": "@jupyter-widgets/base",
            "_view_module_version": "1.2.0",
            "_view_name": "StyleView",
            "bar_color": null,
            "description_width": ""
          }
        },
        "18f4466225f34817acba0573cbad4a4d": {
          "model_module": "@jupyter-widgets/base",
          "model_module_version": "1.2.0",
          "model_name": "LayoutModel",
          "state": {
            "_model_module": "@jupyter-widgets/base",
            "_model_module_version": "1.2.0",
            "_model_name": "LayoutModel",
            "_view_count": null,
            "_view_module": "@jupyter-widgets/base",
            "_view_module_version": "1.2.0",
            "_view_name": "LayoutView",
            "align_content": null,
            "align_items": null,
            "align_self": null,
            "border": null,
            "bottom": null,
            "display": null,
            "flex": null,
            "flex_flow": null,
            "grid_area": null,
            "grid_auto_columns": null,
            "grid_auto_flow": null,
            "grid_auto_rows": null,
            "grid_column": null,
            "grid_gap": null,
            "grid_row": null,
            "grid_template_areas": null,
            "grid_template_columns": null,
            "grid_template_rows": null,
            "height": null,
            "justify_content": null,
            "justify_items": null,
            "left": null,
            "margin": null,
            "max_height": null,
            "max_width": null,
            "min_height": null,
            "min_width": null,
            "object_fit": null,
            "object_position": null,
            "order": null,
            "overflow": null,
            "overflow_x": null,
            "overflow_y": null,
            "padding": null,
            "right": null,
            "top": null,
            "visibility": null,
            "width": null
          }
        },
        "19eb392d1a8c49bab86a0b2739b10e5a": {
          "model_module": "@jupyter-widgets/controls",
          "model_module_version": "1.5.0",
          "model_name": "HTMLModel",
          "state": {
            "_dom_classes": [],
            "_model_module": "@jupyter-widgets/controls",
            "_model_module_version": "1.5.0",
            "_model_name": "HTMLModel",
            "_view_count": null,
            "_view_module": "@jupyter-widgets/controls",
            "_view_module_version": "1.5.0",
            "_view_name": "HTMLView",
            "description": "",
            "description_tooltip": null,
            "layout": "IPY_MODEL_5b950f14f3bf41df85452b599b6f966c",
            "placeholder": "​",
            "style": "IPY_MODEL_275dd6b55a5d46159cf1a7f1f0ca0099",
            "value": "Downloading asr.ckpt: 100%"
          }
        },
        "1cad011332354739882af89559c33e78": {
          "model_module": "@jupyter-widgets/controls",
          "model_module_version": "1.5.0",
          "model_name": "FloatProgressModel",
          "state": {
            "_dom_classes": [],
            "_model_module": "@jupyter-widgets/controls",
            "_model_module_version": "1.5.0",
            "_model_name": "FloatProgressModel",
            "_view_count": null,
            "_view_module": "@jupyter-widgets/controls",
            "_view_module_version": "1.5.0",
            "_view_name": "ProgressView",
            "bar_style": "success",
            "description": "",
            "description_tooltip": null,
            "layout": "IPY_MODEL_893b6749a79646f1840911427feb6ae4",
            "max": 253217,
            "min": 0,
            "orientation": "horizontal",
            "style": "IPY_MODEL_f892418777c34e53af90ca6f1a77a943",
            "value": 253217
          }
        },
        "20474281ef8f4c6c9b8ebd3ec6e31829": {
          "model_module": "@jupyter-widgets/controls",
          "model_module_version": "1.5.0",
          "model_name": "FloatProgressModel",
          "state": {
            "_dom_classes": [],
            "_model_module": "@jupyter-widgets/controls",
            "_model_module_version": "1.5.0",
            "_model_name": "FloatProgressModel",
            "_view_count": null,
            "_view_module": "@jupyter-widgets/controls",
            "_view_module_version": "1.5.0",
            "_view_name": "ProgressView",
            "bar_style": "success",
            "description": "",
            "description_tooltip": null,
            "layout": "IPY_MODEL_983e39e00bd94d5f8665f94c22333c9d",
            "max": 212420087,
            "min": 0,
            "orientation": "horizontal",
            "style": "IPY_MODEL_daa3418652104e4688b0efb4426fa3d9",
            "value": 212420087
          }
        },
        "24fc4b8f16784f378cebc00237bfd934": {
          "model_module": "@jupyter-widgets/controls",
          "model_module_version": "1.5.0",
          "model_name": "ProgressStyleModel",
          "state": {
            "_model_module": "@jupyter-widgets/controls",
            "_model_module_version": "1.5.0",
            "_model_name": "ProgressStyleModel",
            "_view_count": null,
            "_view_module": "@jupyter-widgets/base",
            "_view_module_version": "1.2.0",
            "_view_name": "StyleView",
            "bar_color": null,
            "description_width": ""
          }
        },
        "252a87e8cbcc42ffaafe12475e7e91be": {
          "model_module": "@jupyter-widgets/controls",
          "model_module_version": "1.5.0",
          "model_name": "HBoxModel",
          "state": {
            "_dom_classes": [],
            "_model_module": "@jupyter-widgets/controls",
            "_model_module_version": "1.5.0",
            "_model_name": "HBoxModel",
            "_view_count": null,
            "_view_module": "@jupyter-widgets/controls",
            "_view_module_version": "1.5.0",
            "_view_name": "HBoxView",
            "box_style": "",
            "children": [
              "IPY_MODEL_90cbfc5ad08b4d78929232f51aef50e0",
              "IPY_MODEL_e02b798d375944179d2af1a0de86531c",
              "IPY_MODEL_c24bd9aa20e7427689de707cd4a86966"
            ],
            "layout": "IPY_MODEL_99d41dcc2afa4303933d008c4bfe2b9b"
          }
        },
        "275dd6b55a5d46159cf1a7f1f0ca0099": {
          "model_module": "@jupyter-widgets/controls",
          "model_module_version": "1.5.0",
          "model_name": "DescriptionStyleModel",
          "state": {
            "_model_module": "@jupyter-widgets/controls",
            "_model_module_version": "1.5.0",
            "_model_name": "DescriptionStyleModel",
            "_view_count": null,
            "_view_module": "@jupyter-widgets/base",
            "_view_module_version": "1.2.0",
            "_view_name": "StyleView",
            "description_width": ""
          }
        },
        "2c5a1581324847da9f621fe02c56fa27": {
          "model_module": "@jupyter-widgets/controls",
          "model_module_version": "1.5.0",
          "model_name": "HTMLModel",
          "state": {
            "_dom_classes": [],
            "_model_module": "@jupyter-widgets/controls",
            "_model_module_version": "1.5.0",
            "_model_name": "HTMLModel",
            "_view_count": null,
            "_view_module": "@jupyter-widgets/controls",
            "_view_module_version": "1.5.0",
            "_view_name": "HTMLView",
            "description": "",
            "description_tooltip": null,
            "layout": "IPY_MODEL_11327f45978542899dcd317c01a6d072",
            "placeholder": "​",
            "style": "IPY_MODEL_0ee9ade1a3de44488831c960b20738c4",
            "value": " 212M/212M [00:01&lt;00:00, 233MB/s]"
          }
        },
        "30c5ec30edf845768dc5ffb818585e5b": {
          "model_module": "@jupyter-widgets/controls",
          "model_module_version": "1.5.0",
          "model_name": "HBoxModel",
          "state": {
            "_dom_classes": [],
            "_model_module": "@jupyter-widgets/controls",
            "_model_module_version": "1.5.0",
            "_model_name": "HBoxModel",
            "_view_count": null,
            "_view_module": "@jupyter-widgets/controls",
            "_view_module_version": "1.5.0",
            "_view_name": "HBoxView",
            "box_style": "",
            "children": [
              "IPY_MODEL_bca1e708111740cea738395edae64daa",
              "IPY_MODEL_1cad011332354739882af89559c33e78",
              "IPY_MODEL_b4dd7fe094cd40409d71e8a60460b4e4"
            ],
            "layout": "IPY_MODEL_411cbef34321407aa51cd04b2b1a07fd"
          }
        },
        "3187f444560645db86be9c7d57a86167": {
          "model_module": "@jupyter-widgets/controls",
          "model_module_version": "1.5.0",
          "model_name": "DescriptionStyleModel",
          "state": {
            "_model_module": "@jupyter-widgets/controls",
            "_model_module_version": "1.5.0",
            "_model_name": "DescriptionStyleModel",
            "_view_count": null,
            "_view_module": "@jupyter-widgets/base",
            "_view_module_version": "1.2.0",
            "_view_name": "StyleView",
            "description_width": ""
          }
        },
        "36ee6cdc59b14e8a9d5ee1c828d2fd7f": {
          "model_module": "@jupyter-widgets/base",
          "model_module_version": "1.2.0",
          "model_name": "LayoutModel",
          "state": {
            "_model_module": "@jupyter-widgets/base",
            "_model_module_version": "1.2.0",
            "_model_name": "LayoutModel",
            "_view_count": null,
            "_view_module": "@jupyter-widgets/base",
            "_view_module_version": "1.2.0",
            "_view_name": "LayoutView",
            "align_content": null,
            "align_items": null,
            "align_self": null,
            "border": null,
            "bottom": null,
            "display": null,
            "flex": null,
            "flex_flow": null,
            "grid_area": null,
            "grid_auto_columns": null,
            "grid_auto_flow": null,
            "grid_auto_rows": null,
            "grid_column": null,
            "grid_gap": null,
            "grid_row": null,
            "grid_template_areas": null,
            "grid_template_columns": null,
            "grid_template_rows": null,
            "height": null,
            "justify_content": null,
            "justify_items": null,
            "left": null,
            "margin": null,
            "max_height": null,
            "max_width": null,
            "min_height": null,
            "min_width": null,
            "object_fit": null,
            "object_position": null,
            "order": null,
            "overflow": null,
            "overflow_x": null,
            "overflow_y": null,
            "padding": null,
            "right": null,
            "top": null,
            "visibility": null,
            "width": null
          }
        },
        "411cbef34321407aa51cd04b2b1a07fd": {
          "model_module": "@jupyter-widgets/base",
          "model_module_version": "1.2.0",
          "model_name": "LayoutModel",
          "state": {
            "_model_module": "@jupyter-widgets/base",
            "_model_module_version": "1.2.0",
            "_model_name": "LayoutModel",
            "_view_count": null,
            "_view_module": "@jupyter-widgets/base",
            "_view_module_version": "1.2.0",
            "_view_name": "LayoutView",
            "align_content": null,
            "align_items": null,
            "align_self": null,
            "border": null,
            "bottom": null,
            "display": null,
            "flex": null,
            "flex_flow": null,
            "grid_area": null,
            "grid_auto_columns": null,
            "grid_auto_flow": null,
            "grid_auto_rows": null,
            "grid_column": null,
            "grid_gap": null,
            "grid_row": null,
            "grid_template_areas": null,
            "grid_template_columns": null,
            "grid_template_rows": null,
            "height": null,
            "justify_content": null,
            "justify_items": null,
            "left": null,
            "margin": null,
            "max_height": null,
            "max_width": null,
            "min_height": null,
            "min_width": null,
            "object_fit": null,
            "object_position": null,
            "order": null,
            "overflow": null,
            "overflow_x": null,
            "overflow_y": null,
            "padding": null,
            "right": null,
            "top": null,
            "visibility": null,
            "width": null
          }
        },
        "41f08c7923674c0f86ffb3b73a0ecb60": {
          "model_module": "@jupyter-widgets/controls",
          "model_module_version": "1.5.0",
          "model_name": "HTMLModel",
          "state": {
            "_dom_classes": [],
            "_model_module": "@jupyter-widgets/controls",
            "_model_module_version": "1.5.0",
            "_model_name": "HTMLModel",
            "_view_count": null,
            "_view_module": "@jupyter-widgets/controls",
            "_view_module_version": "1.5.0",
            "_view_name": "HTMLView",
            "description": "",
            "description_tooltip": null,
            "layout": "IPY_MODEL_9c546aa578334f268a1a41afee4cae9a",
            "placeholder": "​",
            "style": "IPY_MODEL_3187f444560645db86be9c7d57a86167",
            "value": "Downloading lm.ckpt: 100%"
          }
        },
        "51258f81594945aaa1d450f2ab623f41": {
          "model_module": "@jupyter-widgets/controls",
          "model_module_version": "1.5.0",
          "model_name": "HBoxModel",
          "state": {
            "_dom_classes": [],
            "_model_module": "@jupyter-widgets/controls",
            "_model_module_version": "1.5.0",
            "_model_name": "HBoxModel",
            "_view_count": null,
            "_view_module": "@jupyter-widgets/controls",
            "_view_module_version": "1.5.0",
            "_view_name": "HBoxView",
            "box_style": "",
            "children": [
              "IPY_MODEL_41f08c7923674c0f86ffb3b73a0ecb60",
              "IPY_MODEL_20474281ef8f4c6c9b8ebd3ec6e31829",
              "IPY_MODEL_2c5a1581324847da9f621fe02c56fa27"
            ],
            "layout": "IPY_MODEL_e3fdc57e3ce941a78c9b3d895bd33331"
          }
        },
        "51e0a03d138d42768c0f57c7019971d7": {
          "model_module": "@jupyter-widgets/base",
          "model_module_version": "1.2.0",
          "model_name": "LayoutModel",
          "state": {
            "_model_module": "@jupyter-widgets/base",
            "_model_module_version": "1.2.0",
            "_model_name": "LayoutModel",
            "_view_count": null,
            "_view_module": "@jupyter-widgets/base",
            "_view_module_version": "1.2.0",
            "_view_name": "LayoutView",
            "align_content": null,
            "align_items": null,
            "align_self": null,
            "border": null,
            "bottom": null,
            "display": null,
            "flex": null,
            "flex_flow": null,
            "grid_area": null,
            "grid_auto_columns": null,
            "grid_auto_flow": null,
            "grid_auto_rows": null,
            "grid_column": null,
            "grid_gap": null,
            "grid_row": null,
            "grid_template_areas": null,
            "grid_template_columns": null,
            "grid_template_rows": null,
            "height": null,
            "justify_content": null,
            "justify_items": null,
            "left": null,
            "margin": null,
            "max_height": null,
            "max_width": null,
            "min_height": null,
            "min_width": null,
            "object_fit": null,
            "object_position": null,
            "order": null,
            "overflow": null,
            "overflow_x": null,
            "overflow_y": null,
            "padding": null,
            "right": null,
            "top": null,
            "visibility": null,
            "width": null
          }
        },
        "5664de96f83e4d33b7784e3b98c86b04": {
          "model_module": "@jupyter-widgets/controls",
          "model_module_version": "1.5.0",
          "model_name": "HTMLModel",
          "state": {
            "_dom_classes": [],
            "_model_module": "@jupyter-widgets/controls",
            "_model_module_version": "1.5.0",
            "_model_name": "HTMLModel",
            "_view_count": null,
            "_view_module": "@jupyter-widgets/controls",
            "_view_module_version": "1.5.0",
            "_view_name": "HTMLView",
            "description": "",
            "description_tooltip": null,
            "layout": "IPY_MODEL_51e0a03d138d42768c0f57c7019971d7",
            "placeholder": "​",
            "style": "IPY_MODEL_900109c6b46c4f59aacea345162a5c14",
            "value": " 480M/480M [00:02&lt;00:00, 226MB/s]"
          }
        },
        "5b950f14f3bf41df85452b599b6f966c": {
          "model_module": "@jupyter-widgets/base",
          "model_module_version": "1.2.0",
          "model_name": "LayoutModel",
          "state": {
            "_model_module": "@jupyter-widgets/base",
            "_model_module_version": "1.2.0",
            "_model_name": "LayoutModel",
            "_view_count": null,
            "_view_module": "@jupyter-widgets/base",
            "_view_module_version": "1.2.0",
            "_view_name": "LayoutView",
            "align_content": null,
            "align_items": null,
            "align_self": null,
            "border": null,
            "bottom": null,
            "display": null,
            "flex": null,
            "flex_flow": null,
            "grid_area": null,
            "grid_auto_columns": null,
            "grid_auto_flow": null,
            "grid_auto_rows": null,
            "grid_column": null,
            "grid_gap": null,
            "grid_row": null,
            "grid_template_areas": null,
            "grid_template_columns": null,
            "grid_template_rows": null,
            "height": null,
            "justify_content": null,
            "justify_items": null,
            "left": null,
            "margin": null,
            "max_height": null,
            "max_width": null,
            "min_height": null,
            "min_width": null,
            "object_fit": null,
            "object_position": null,
            "order": null,
            "overflow": null,
            "overflow_x": null,
            "overflow_y": null,
            "padding": null,
            "right": null,
            "top": null,
            "visibility": null,
            "width": null
          }
        },
        "5cdfe70d4d55446384b352e97887c934": {
          "model_module": "@jupyter-widgets/controls",
          "model_module_version": "1.5.0",
          "model_name": "FloatProgressModel",
          "state": {
            "_dom_classes": [],
            "_model_module": "@jupyter-widgets/controls",
            "_model_module_version": "1.5.0",
            "_model_name": "FloatProgressModel",
            "_view_count": null,
            "_view_module": "@jupyter-widgets/controls",
            "_view_module_version": "1.5.0",
            "_view_name": "ProgressView",
            "bar_style": "success",
            "description": "",
            "description_tooltip": null,
            "layout": "IPY_MODEL_cac16ffd9caf442aa77e50db551dfd22",
            "max": 479555971,
            "min": 0,
            "orientation": "horizontal",
            "style": "IPY_MODEL_155b1d2f84f345dd974610ee5e1f4031",
            "value": 479555971
          }
        },
        "629f9e4370d647bc91e4d2cf05168cef": {
          "model_module": "@jupyter-widgets/controls",
          "model_module_version": "1.5.0",
          "model_name": "DescriptionStyleModel",
          "state": {
            "_model_module": "@jupyter-widgets/controls",
            "_model_module_version": "1.5.0",
            "_model_name": "DescriptionStyleModel",
            "_view_count": null,
            "_view_module": "@jupyter-widgets/base",
            "_view_module_version": "1.2.0",
            "_view_name": "StyleView",
            "description_width": ""
          }
        },
        "799c40deed3f453395ce92b76d008949": {
          "model_module": "@jupyter-widgets/base",
          "model_module_version": "1.2.0",
          "model_name": "LayoutModel",
          "state": {
            "_model_module": "@jupyter-widgets/base",
            "_model_module_version": "1.2.0",
            "_model_name": "LayoutModel",
            "_view_count": null,
            "_view_module": "@jupyter-widgets/base",
            "_view_module_version": "1.2.0",
            "_view_name": "LayoutView",
            "align_content": null,
            "align_items": null,
            "align_self": null,
            "border": null,
            "bottom": null,
            "display": null,
            "flex": null,
            "flex_flow": null,
            "grid_area": null,
            "grid_auto_columns": null,
            "grid_auto_flow": null,
            "grid_auto_rows": null,
            "grid_column": null,
            "grid_gap": null,
            "grid_row": null,
            "grid_template_areas": null,
            "grid_template_columns": null,
            "grid_template_rows": null,
            "height": null,
            "justify_content": null,
            "justify_items": null,
            "left": null,
            "margin": null,
            "max_height": null,
            "max_width": null,
            "min_height": null,
            "min_width": null,
            "object_fit": null,
            "object_position": null,
            "order": null,
            "overflow": null,
            "overflow_x": null,
            "overflow_y": null,
            "padding": null,
            "right": null,
            "top": null,
            "visibility": null,
            "width": null
          }
        },
        "7b6ec524ab5649f0a8a8c00c035de0b7": {
          "model_module": "@jupyter-widgets/controls",
          "model_module_version": "1.5.0",
          "model_name": "DescriptionStyleModel",
          "state": {
            "_model_module": "@jupyter-widgets/controls",
            "_model_module_version": "1.5.0",
            "_model_name": "DescriptionStyleModel",
            "_view_count": null,
            "_view_module": "@jupyter-widgets/base",
            "_view_module_version": "1.2.0",
            "_view_name": "StyleView",
            "description_width": ""
          }
        },
        "86edba0b9aa24390948f0a5305f223b6": {
          "model_module": "@jupyter-widgets/base",
          "model_module_version": "1.2.0",
          "model_name": "LayoutModel",
          "state": {
            "_model_module": "@jupyter-widgets/base",
            "_model_module_version": "1.2.0",
            "_model_name": "LayoutModel",
            "_view_count": null,
            "_view_module": "@jupyter-widgets/base",
            "_view_module_version": "1.2.0",
            "_view_name": "LayoutView",
            "align_content": null,
            "align_items": null,
            "align_self": null,
            "border": null,
            "bottom": null,
            "display": null,
            "flex": null,
            "flex_flow": null,
            "grid_area": null,
            "grid_auto_columns": null,
            "grid_auto_flow": null,
            "grid_auto_rows": null,
            "grid_column": null,
            "grid_gap": null,
            "grid_row": null,
            "grid_template_areas": null,
            "grid_template_columns": null,
            "grid_template_rows": null,
            "height": null,
            "justify_content": null,
            "justify_items": null,
            "left": null,
            "margin": null,
            "max_height": null,
            "max_width": null,
            "min_height": null,
            "min_width": null,
            "object_fit": null,
            "object_position": null,
            "order": null,
            "overflow": null,
            "overflow_x": null,
            "overflow_y": null,
            "padding": null,
            "right": null,
            "top": null,
            "visibility": null,
            "width": null
          }
        },
        "893b6749a79646f1840911427feb6ae4": {
          "model_module": "@jupyter-widgets/base",
          "model_module_version": "1.2.0",
          "model_name": "LayoutModel",
          "state": {
            "_model_module": "@jupyter-widgets/base",
            "_model_module_version": "1.2.0",
            "_model_name": "LayoutModel",
            "_view_count": null,
            "_view_module": "@jupyter-widgets/base",
            "_view_module_version": "1.2.0",
            "_view_name": "LayoutView",
            "align_content": null,
            "align_items": null,
            "align_self": null,
            "border": null,
            "bottom": null,
            "display": null,
            "flex": null,
            "flex_flow": null,
            "grid_area": null,
            "grid_auto_columns": null,
            "grid_auto_flow": null,
            "grid_auto_rows": null,
            "grid_column": null,
            "grid_gap": null,
            "grid_row": null,
            "grid_template_areas": null,
            "grid_template_columns": null,
            "grid_template_rows": null,
            "height": null,
            "justify_content": null,
            "justify_items": null,
            "left": null,
            "margin": null,
            "max_height": null,
            "max_width": null,
            "min_height": null,
            "min_width": null,
            "object_fit": null,
            "object_position": null,
            "order": null,
            "overflow": null,
            "overflow_x": null,
            "overflow_y": null,
            "padding": null,
            "right": null,
            "top": null,
            "visibility": null,
            "width": null
          }
        },
        "8a7e7c9dad5e438c967d4e2b674a0f5c": {
          "model_module": "@jupyter-widgets/controls",
          "model_module_version": "1.5.0",
          "model_name": "FloatProgressModel",
          "state": {
            "_dom_classes": [],
            "_model_module": "@jupyter-widgets/controls",
            "_model_module_version": "1.5.0",
            "_model_name": "FloatProgressModel",
            "_view_count": null,
            "_view_module": "@jupyter-widgets/controls",
            "_view_module_version": "1.5.0",
            "_view_name": "ProgressView",
            "bar_style": "success",
            "description": "",
            "description_tooltip": null,
            "layout": "IPY_MODEL_bbcc6b6e359e4de5b314ed7978e62082",
            "max": 1409,
            "min": 0,
            "orientation": "horizontal",
            "style": "IPY_MODEL_008ce478b05c4f0b862ff830855ee419",
            "value": 1409
          }
        },
        "8d38f47e74804361a38b3c7ec639bc82": {
          "model_module": "@jupyter-widgets/controls",
          "model_module_version": "1.5.0",
          "model_name": "HBoxModel",
          "state": {
            "_dom_classes": [],
            "_model_module": "@jupyter-widgets/controls",
            "_model_module_version": "1.5.0",
            "_model_name": "HBoxModel",
            "_view_count": null,
            "_view_module": "@jupyter-widgets/controls",
            "_view_module_version": "1.5.0",
            "_view_name": "HBoxView",
            "box_style": "",
            "children": [
              "IPY_MODEL_11f669db041f41acad5742821627df44",
              "IPY_MODEL_8a7e7c9dad5e438c967d4e2b674a0f5c",
              "IPY_MODEL_d8c7db6093b34c2fa5f56b67f5fc48b3"
            ],
            "layout": "IPY_MODEL_9c5c1ce401074fcca78b62108bf6b87d"
          }
        },
        "900109c6b46c4f59aacea345162a5c14": {
          "model_module": "@jupyter-widgets/controls",
          "model_module_version": "1.5.0",
          "model_name": "DescriptionStyleModel",
          "state": {
            "_model_module": "@jupyter-widgets/controls",
            "_model_module_version": "1.5.0",
            "_model_name": "DescriptionStyleModel",
            "_view_count": null,
            "_view_module": "@jupyter-widgets/base",
            "_view_module_version": "1.2.0",
            "_view_name": "StyleView",
            "description_width": ""
          }
        },
        "90cbfc5ad08b4d78929232f51aef50e0": {
          "model_module": "@jupyter-widgets/controls",
          "model_module_version": "1.5.0",
          "model_name": "HTMLModel",
          "state": {
            "_dom_classes": [],
            "_model_module": "@jupyter-widgets/controls",
            "_model_module_version": "1.5.0",
            "_model_name": "HTMLModel",
            "_view_count": null,
            "_view_module": "@jupyter-widgets/controls",
            "_view_module_version": "1.5.0",
            "_view_name": "HTMLView",
            "description": "",
            "description_tooltip": null,
            "layout": "IPY_MODEL_0989e4d03906454a9492468bc79757fa",
            "placeholder": "​",
            "style": "IPY_MODEL_fd0eddbfef3646d78cb9e5825b357a61",
            "value": "Downloading (…)ain/hyperparams.yaml: 100%"
          }
        },
        "983e39e00bd94d5f8665f94c22333c9d": {
          "model_module": "@jupyter-widgets/base",
          "model_module_version": "1.2.0",
          "model_name": "LayoutModel",
          "state": {
            "_model_module": "@jupyter-widgets/base",
            "_model_module_version": "1.2.0",
            "_model_name": "LayoutModel",
            "_view_count": null,
            "_view_module": "@jupyter-widgets/base",
            "_view_module_version": "1.2.0",
            "_view_name": "LayoutView",
            "align_content": null,
            "align_items": null,
            "align_self": null,
            "border": null,
            "bottom": null,
            "display": null,
            "flex": null,
            "flex_flow": null,
            "grid_area": null,
            "grid_auto_columns": null,
            "grid_auto_flow": null,
            "grid_auto_rows": null,
            "grid_column": null,
            "grid_gap": null,
            "grid_row": null,
            "grid_template_areas": null,
            "grid_template_columns": null,
            "grid_template_rows": null,
            "height": null,
            "justify_content": null,
            "justify_items": null,
            "left": null,
            "margin": null,
            "max_height": null,
            "max_width": null,
            "min_height": null,
            "min_width": null,
            "object_fit": null,
            "object_position": null,
            "order": null,
            "overflow": null,
            "overflow_x": null,
            "overflow_y": null,
            "padding": null,
            "right": null,
            "top": null,
            "visibility": null,
            "width": null
          }
        },
        "99d41dcc2afa4303933d008c4bfe2b9b": {
          "model_module": "@jupyter-widgets/base",
          "model_module_version": "1.2.0",
          "model_name": "LayoutModel",
          "state": {
            "_model_module": "@jupyter-widgets/base",
            "_model_module_version": "1.2.0",
            "_model_name": "LayoutModel",
            "_view_count": null,
            "_view_module": "@jupyter-widgets/base",
            "_view_module_version": "1.2.0",
            "_view_name": "LayoutView",
            "align_content": null,
            "align_items": null,
            "align_self": null,
            "border": null,
            "bottom": null,
            "display": null,
            "flex": null,
            "flex_flow": null,
            "grid_area": null,
            "grid_auto_columns": null,
            "grid_auto_flow": null,
            "grid_auto_rows": null,
            "grid_column": null,
            "grid_gap": null,
            "grid_row": null,
            "grid_template_areas": null,
            "grid_template_columns": null,
            "grid_template_rows": null,
            "height": null,
            "justify_content": null,
            "justify_items": null,
            "left": null,
            "margin": null,
            "max_height": null,
            "max_width": null,
            "min_height": null,
            "min_width": null,
            "object_fit": null,
            "object_position": null,
            "order": null,
            "overflow": null,
            "overflow_x": null,
            "overflow_y": null,
            "padding": null,
            "right": null,
            "top": null,
            "visibility": null,
            "width": null
          }
        },
        "9c546aa578334f268a1a41afee4cae9a": {
          "model_module": "@jupyter-widgets/base",
          "model_module_version": "1.2.0",
          "model_name": "LayoutModel",
          "state": {
            "_model_module": "@jupyter-widgets/base",
            "_model_module_version": "1.2.0",
            "_model_name": "LayoutModel",
            "_view_count": null,
            "_view_module": "@jupyter-widgets/base",
            "_view_module_version": "1.2.0",
            "_view_name": "LayoutView",
            "align_content": null,
            "align_items": null,
            "align_self": null,
            "border": null,
            "bottom": null,
            "display": null,
            "flex": null,
            "flex_flow": null,
            "grid_area": null,
            "grid_auto_columns": null,
            "grid_auto_flow": null,
            "grid_auto_rows": null,
            "grid_column": null,
            "grid_gap": null,
            "grid_row": null,
            "grid_template_areas": null,
            "grid_template_columns": null,
            "grid_template_rows": null,
            "height": null,
            "justify_content": null,
            "justify_items": null,
            "left": null,
            "margin": null,
            "max_height": null,
            "max_width": null,
            "min_height": null,
            "min_width": null,
            "object_fit": null,
            "object_position": null,
            "order": null,
            "overflow": null,
            "overflow_x": null,
            "overflow_y": null,
            "padding": null,
            "right": null,
            "top": null,
            "visibility": null,
            "width": null
          }
        },
        "9c5c1ce401074fcca78b62108bf6b87d": {
          "model_module": "@jupyter-widgets/base",
          "model_module_version": "1.2.0",
          "model_name": "LayoutModel",
          "state": {
            "_model_module": "@jupyter-widgets/base",
            "_model_module_version": "1.2.0",
            "_model_name": "LayoutModel",
            "_view_count": null,
            "_view_module": "@jupyter-widgets/base",
            "_view_module_version": "1.2.0",
            "_view_name": "LayoutView",
            "align_content": null,
            "align_items": null,
            "align_self": null,
            "border": null,
            "bottom": null,
            "display": null,
            "flex": null,
            "flex_flow": null,
            "grid_area": null,
            "grid_auto_columns": null,
            "grid_auto_flow": null,
            "grid_auto_rows": null,
            "grid_column": null,
            "grid_gap": null,
            "grid_row": null,
            "grid_template_areas": null,
            "grid_template_columns": null,
            "grid_template_rows": null,
            "height": null,
            "justify_content": null,
            "justify_items": null,
            "left": null,
            "margin": null,
            "max_height": null,
            "max_width": null,
            "min_height": null,
            "min_width": null,
            "object_fit": null,
            "object_position": null,
            "order": null,
            "overflow": null,
            "overflow_x": null,
            "overflow_y": null,
            "padding": null,
            "right": null,
            "top": null,
            "visibility": null,
            "width": null
          }
        },
        "9ffd6b615ad7498bbd810fc792e40029": {
          "model_module": "@jupyter-widgets/base",
          "model_module_version": "1.2.0",
          "model_name": "LayoutModel",
          "state": {
            "_model_module": "@jupyter-widgets/base",
            "_model_module_version": "1.2.0",
            "_model_name": "LayoutModel",
            "_view_count": null,
            "_view_module": "@jupyter-widgets/base",
            "_view_module_version": "1.2.0",
            "_view_name": "LayoutView",
            "align_content": null,
            "align_items": null,
            "align_self": null,
            "border": null,
            "bottom": null,
            "display": null,
            "flex": null,
            "flex_flow": null,
            "grid_area": null,
            "grid_auto_columns": null,
            "grid_auto_flow": null,
            "grid_auto_rows": null,
            "grid_column": null,
            "grid_gap": null,
            "grid_row": null,
            "grid_template_areas": null,
            "grid_template_columns": null,
            "grid_template_rows": null,
            "height": null,
            "justify_content": null,
            "justify_items": null,
            "left": null,
            "margin": null,
            "max_height": null,
            "max_width": null,
            "min_height": null,
            "min_width": null,
            "object_fit": null,
            "object_position": null,
            "order": null,
            "overflow": null,
            "overflow_x": null,
            "overflow_y": null,
            "padding": null,
            "right": null,
            "top": null,
            "visibility": null,
            "width": null
          }
        },
        "acbbb731089d46b1863a32155934cadc": {
          "model_module": "@jupyter-widgets/base",
          "model_module_version": "1.2.0",
          "model_name": "LayoutModel",
          "state": {
            "_model_module": "@jupyter-widgets/base",
            "_model_module_version": "1.2.0",
            "_model_name": "LayoutModel",
            "_view_count": null,
            "_view_module": "@jupyter-widgets/base",
            "_view_module_version": "1.2.0",
            "_view_name": "LayoutView",
            "align_content": null,
            "align_items": null,
            "align_self": null,
            "border": null,
            "bottom": null,
            "display": null,
            "flex": null,
            "flex_flow": null,
            "grid_area": null,
            "grid_auto_columns": null,
            "grid_auto_flow": null,
            "grid_auto_rows": null,
            "grid_column": null,
            "grid_gap": null,
            "grid_row": null,
            "grid_template_areas": null,
            "grid_template_columns": null,
            "grid_template_rows": null,
            "height": null,
            "justify_content": null,
            "justify_items": null,
            "left": null,
            "margin": null,
            "max_height": null,
            "max_width": null,
            "min_height": null,
            "min_width": null,
            "object_fit": null,
            "object_position": null,
            "order": null,
            "overflow": null,
            "overflow_x": null,
            "overflow_y": null,
            "padding": null,
            "right": null,
            "top": null,
            "visibility": null,
            "width": null
          }
        },
        "ae1095ef703f43fbbf15ebb56feb7991": {
          "model_module": "@jupyter-widgets/controls",
          "model_module_version": "1.5.0",
          "model_name": "DescriptionStyleModel",
          "state": {
            "_model_module": "@jupyter-widgets/controls",
            "_model_module_version": "1.5.0",
            "_model_name": "DescriptionStyleModel",
            "_view_count": null,
            "_view_module": "@jupyter-widgets/base",
            "_view_module_version": "1.2.0",
            "_view_name": "StyleView",
            "description_width": ""
          }
        },
        "b4dd7fe094cd40409d71e8a60460b4e4": {
          "model_module": "@jupyter-widgets/controls",
          "model_module_version": "1.5.0",
          "model_name": "HTMLModel",
          "state": {
            "_dom_classes": [],
            "_model_module": "@jupyter-widgets/controls",
            "_model_module_version": "1.5.0",
            "_model_name": "HTMLModel",
            "_view_count": null,
            "_view_module": "@jupyter-widgets/controls",
            "_view_module_version": "1.5.0",
            "_view_name": "HTMLView",
            "description": "",
            "description_tooltip": null,
            "layout": "IPY_MODEL_18f4466225f34817acba0573cbad4a4d",
            "placeholder": "​",
            "style": "IPY_MODEL_629f9e4370d647bc91e4d2cf05168cef",
            "value": " 253k/253k [00:00&lt;00:00, 4.92MB/s]"
          }
        },
        "bbcc6b6e359e4de5b314ed7978e62082": {
          "model_module": "@jupyter-widgets/base",
          "model_module_version": "1.2.0",
          "model_name": "LayoutModel",
          "state": {
            "_model_module": "@jupyter-widgets/base",
            "_model_module_version": "1.2.0",
            "_model_name": "LayoutModel",
            "_view_count": null,
            "_view_module": "@jupyter-widgets/base",
            "_view_module_version": "1.2.0",
            "_view_name": "LayoutView",
            "align_content": null,
            "align_items": null,
            "align_self": null,
            "border": null,
            "bottom": null,
            "display": null,
            "flex": null,
            "flex_flow": null,
            "grid_area": null,
            "grid_auto_columns": null,
            "grid_auto_flow": null,
            "grid_auto_rows": null,
            "grid_column": null,
            "grid_gap": null,
            "grid_row": null,
            "grid_template_areas": null,
            "grid_template_columns": null,
            "grid_template_rows": null,
            "height": null,
            "justify_content": null,
            "justify_items": null,
            "left": null,
            "margin": null,
            "max_height": null,
            "max_width": null,
            "min_height": null,
            "min_width": null,
            "object_fit": null,
            "object_position": null,
            "order": null,
            "overflow": null,
            "overflow_x": null,
            "overflow_y": null,
            "padding": null,
            "right": null,
            "top": null,
            "visibility": null,
            "width": null
          }
        },
        "bca1e708111740cea738395edae64daa": {
          "model_module": "@jupyter-widgets/controls",
          "model_module_version": "1.5.0",
          "model_name": "HTMLModel",
          "state": {
            "_dom_classes": [],
            "_model_module": "@jupyter-widgets/controls",
            "_model_module_version": "1.5.0",
            "_model_name": "HTMLModel",
            "_view_count": null,
            "_view_module": "@jupyter-widgets/controls",
            "_view_module_version": "1.5.0",
            "_view_name": "HTMLView",
            "description": "",
            "description_tooltip": null,
            "layout": "IPY_MODEL_9ffd6b615ad7498bbd810fc792e40029",
            "placeholder": "​",
            "style": "IPY_MODEL_e25424797b26460daac4eb3435b12286",
            "value": "Downloading tokenizer.ckpt: 100%"
          }
        },
        "c24bd9aa20e7427689de707cd4a86966": {
          "model_module": "@jupyter-widgets/controls",
          "model_module_version": "1.5.0",
          "model_name": "HTMLModel",
          "state": {
            "_dom_classes": [],
            "_model_module": "@jupyter-widgets/controls",
            "_model_module_version": "1.5.0",
            "_model_name": "HTMLModel",
            "_view_count": null,
            "_view_module": "@jupyter-widgets/controls",
            "_view_module_version": "1.5.0",
            "_view_name": "HTMLView",
            "description": "",
            "description_tooltip": null,
            "layout": "IPY_MODEL_14e784acdfe344348fadc07ee932ca87",
            "placeholder": "​",
            "style": "IPY_MODEL_c353056f58c0454097007dc1dfbac609",
            "value": " 4.49k/4.49k [00:00&lt;00:00, 63.5kB/s]"
          }
        },
        "c353056f58c0454097007dc1dfbac609": {
          "model_module": "@jupyter-widgets/controls",
          "model_module_version": "1.5.0",
          "model_name": "DescriptionStyleModel",
          "state": {
            "_model_module": "@jupyter-widgets/controls",
            "_model_module_version": "1.5.0",
            "_model_name": "DescriptionStyleModel",
            "_view_count": null,
            "_view_module": "@jupyter-widgets/base",
            "_view_module_version": "1.2.0",
            "_view_name": "StyleView",
            "description_width": ""
          }
        },
        "cac16ffd9caf442aa77e50db551dfd22": {
          "model_module": "@jupyter-widgets/base",
          "model_module_version": "1.2.0",
          "model_name": "LayoutModel",
          "state": {
            "_model_module": "@jupyter-widgets/base",
            "_model_module_version": "1.2.0",
            "_model_name": "LayoutModel",
            "_view_count": null,
            "_view_module": "@jupyter-widgets/base",
            "_view_module_version": "1.2.0",
            "_view_name": "LayoutView",
            "align_content": null,
            "align_items": null,
            "align_self": null,
            "border": null,
            "bottom": null,
            "display": null,
            "flex": null,
            "flex_flow": null,
            "grid_area": null,
            "grid_auto_columns": null,
            "grid_auto_flow": null,
            "grid_auto_rows": null,
            "grid_column": null,
            "grid_gap": null,
            "grid_row": null,
            "grid_template_areas": null,
            "grid_template_columns": null,
            "grid_template_rows": null,
            "height": null,
            "justify_content": null,
            "justify_items": null,
            "left": null,
            "margin": null,
            "max_height": null,
            "max_width": null,
            "min_height": null,
            "min_width": null,
            "object_fit": null,
            "object_position": null,
            "order": null,
            "overflow": null,
            "overflow_x": null,
            "overflow_y": null,
            "padding": null,
            "right": null,
            "top": null,
            "visibility": null,
            "width": null
          }
        },
        "d8c7db6093b34c2fa5f56b67f5fc48b3": {
          "model_module": "@jupyter-widgets/controls",
          "model_module_version": "1.5.0",
          "model_name": "HTMLModel",
          "state": {
            "_dom_classes": [],
            "_model_module": "@jupyter-widgets/controls",
            "_model_module_version": "1.5.0",
            "_model_name": "HTMLModel",
            "_view_count": null,
            "_view_module": "@jupyter-widgets/controls",
            "_view_module_version": "1.5.0",
            "_view_name": "HTMLView",
            "description": "",
            "description_tooltip": null,
            "layout": "IPY_MODEL_86edba0b9aa24390948f0a5305f223b6",
            "placeholder": "​",
            "style": "IPY_MODEL_ae1095ef703f43fbbf15ebb56feb7991",
            "value": " 1.41k/1.41k [00:00&lt;00:00, 67.4kB/s]"
          }
        },
        "daa3418652104e4688b0efb4426fa3d9": {
          "model_module": "@jupyter-widgets/controls",
          "model_module_version": "1.5.0",
          "model_name": "ProgressStyleModel",
          "state": {
            "_model_module": "@jupyter-widgets/controls",
            "_model_module_version": "1.5.0",
            "_model_name": "ProgressStyleModel",
            "_view_count": null,
            "_view_module": "@jupyter-widgets/base",
            "_view_module_version": "1.2.0",
            "_view_name": "StyleView",
            "bar_color": null,
            "description_width": ""
          }
        },
        "e02b798d375944179d2af1a0de86531c": {
          "model_module": "@jupyter-widgets/controls",
          "model_module_version": "1.5.0",
          "model_name": "FloatProgressModel",
          "state": {
            "_dom_classes": [],
            "_model_module": "@jupyter-widgets/controls",
            "_model_module_version": "1.5.0",
            "_model_name": "FloatProgressModel",
            "_view_count": null,
            "_view_module": "@jupyter-widgets/controls",
            "_view_module_version": "1.5.0",
            "_view_name": "ProgressView",
            "bar_style": "success",
            "description": "",
            "description_tooltip": null,
            "layout": "IPY_MODEL_799c40deed3f453395ce92b76d008949",
            "max": 4494,
            "min": 0,
            "orientation": "horizontal",
            "style": "IPY_MODEL_24fc4b8f16784f378cebc00237bfd934",
            "value": 4494
          }
        },
        "e25424797b26460daac4eb3435b12286": {
          "model_module": "@jupyter-widgets/controls",
          "model_module_version": "1.5.0",
          "model_name": "DescriptionStyleModel",
          "state": {
            "_model_module": "@jupyter-widgets/controls",
            "_model_module_version": "1.5.0",
            "_model_name": "DescriptionStyleModel",
            "_view_count": null,
            "_view_module": "@jupyter-widgets/base",
            "_view_module_version": "1.2.0",
            "_view_name": "StyleView",
            "description_width": ""
          }
        },
        "e3fdc57e3ce941a78c9b3d895bd33331": {
          "model_module": "@jupyter-widgets/base",
          "model_module_version": "1.2.0",
          "model_name": "LayoutModel",
          "state": {
            "_model_module": "@jupyter-widgets/base",
            "_model_module_version": "1.2.0",
            "_model_name": "LayoutModel",
            "_view_count": null,
            "_view_module": "@jupyter-widgets/base",
            "_view_module_version": "1.2.0",
            "_view_name": "LayoutView",
            "align_content": null,
            "align_items": null,
            "align_self": null,
            "border": null,
            "bottom": null,
            "display": null,
            "flex": null,
            "flex_flow": null,
            "grid_area": null,
            "grid_auto_columns": null,
            "grid_auto_flow": null,
            "grid_auto_rows": null,
            "grid_column": null,
            "grid_gap": null,
            "grid_row": null,
            "grid_template_areas": null,
            "grid_template_columns": null,
            "grid_template_rows": null,
            "height": null,
            "justify_content": null,
            "justify_items": null,
            "left": null,
            "margin": null,
            "max_height": null,
            "max_width": null,
            "min_height": null,
            "min_width": null,
            "object_fit": null,
            "object_position": null,
            "order": null,
            "overflow": null,
            "overflow_x": null,
            "overflow_y": null,
            "padding": null,
            "right": null,
            "top": null,
            "visibility": null,
            "width": null
          }
        },
        "f049ea8c76a6427090178e58357c949f": {
          "model_module": "@jupyter-widgets/controls",
          "model_module_version": "1.5.0",
          "model_name": "HBoxModel",
          "state": {
            "_dom_classes": [],
            "_model_module": "@jupyter-widgets/controls",
            "_model_module_version": "1.5.0",
            "_model_name": "HBoxModel",
            "_view_count": null,
            "_view_module": "@jupyter-widgets/controls",
            "_view_module_version": "1.5.0",
            "_view_name": "HBoxView",
            "box_style": "",
            "children": [
              "IPY_MODEL_19eb392d1a8c49bab86a0b2739b10e5a",
              "IPY_MODEL_5cdfe70d4d55446384b352e97887c934",
              "IPY_MODEL_5664de96f83e4d33b7784e3b98c86b04"
            ],
            "layout": "IPY_MODEL_acbbb731089d46b1863a32155934cadc"
          }
        },
        "f892418777c34e53af90ca6f1a77a943": {
          "model_module": "@jupyter-widgets/controls",
          "model_module_version": "1.5.0",
          "model_name": "ProgressStyleModel",
          "state": {
            "_model_module": "@jupyter-widgets/controls",
            "_model_module_version": "1.5.0",
            "_model_name": "ProgressStyleModel",
            "_view_count": null,
            "_view_module": "@jupyter-widgets/base",
            "_view_module_version": "1.2.0",
            "_view_name": "StyleView",
            "bar_color": null,
            "description_width": ""
          }
        },
        "fd0eddbfef3646d78cb9e5825b357a61": {
          "model_module": "@jupyter-widgets/controls",
          "model_module_version": "1.5.0",
          "model_name": "DescriptionStyleModel",
          "state": {
            "_model_module": "@jupyter-widgets/controls",
            "_model_module_version": "1.5.0",
            "_model_name": "DescriptionStyleModel",
            "_view_count": null,
            "_view_module": "@jupyter-widgets/base",
            "_view_module_version": "1.2.0",
            "_view_name": "StyleView",
            "description_width": ""
          }
        }
      }
    }
  },
  "nbformat": 4,
  "nbformat_minor": 0
}
